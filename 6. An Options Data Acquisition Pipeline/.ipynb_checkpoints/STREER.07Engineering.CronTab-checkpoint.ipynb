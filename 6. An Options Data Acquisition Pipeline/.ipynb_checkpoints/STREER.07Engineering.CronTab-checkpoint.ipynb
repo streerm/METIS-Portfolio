{
 "cells": [
  {
   "cell_type": "markdown",
   "id": "13a61b6d",
   "metadata": {},
   "source": [
    "### Schedule API query automation"
   ]
  },
  {
   "cell_type": "code",
   "execution_count": 1,
   "id": "589e6ef5",
   "metadata": {},
   "outputs": [],
   "source": [
    "#!pip install python-crontab"
   ]
  },
  {
   "cell_type": "code",
   "execution_count": 5,
   "id": "fa81323a",
   "metadata": {},
   "outputs": [],
   "source": [
    "from crontab import CronTab\n",
    "cron = CronTab(tab=\"\"\"* 9-17 * * 1-5 python STREER.07Engineering.DataAcquisition.py\"\"\")\n",
    "\n",
    "cron.write()\n",
    "\n",
    "for job in cron:\n",
    "    print(job)"
   ]
  },
  {
   "cell_type": "code",
   "execution_count": 7,
   "id": "d8755643",
   "metadata": {},
   "outputs": [
    {
     "name": "stdout",
     "output_type": "stream",
     "text": [
      "crontab: no crontab for markstreer\r\n"
     ]
    }
   ],
   "source": [
    "!crontab -l"
   ]
  },
  {
   "cell_type": "code",
   "execution_count": null,
   "id": "f10b8227",
   "metadata": {},
   "outputs": [],
   "source": []
  }
 ],
 "metadata": {
  "kernelspec": {
   "display_name": "Python [conda env:metis] *",
   "language": "python",
   "name": "conda-env-metis-py"
  },
  "language_info": {
   "codemirror_mode": {
    "name": "ipython",
    "version": 3
   },
   "file_extension": ".py",
   "mimetype": "text/x-python",
   "name": "python",
   "nbconvert_exporter": "python",
   "pygments_lexer": "ipython3",
   "version": "3.8.10"
  }
 },
 "nbformat": 4,
 "nbformat_minor": 5
}
