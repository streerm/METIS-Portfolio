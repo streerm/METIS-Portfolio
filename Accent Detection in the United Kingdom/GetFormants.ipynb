{
 "cells": [
  {
   "cell_type": "code",
   "execution_count": 1,
   "id": "91010a51",
   "metadata": {},
   "outputs": [],
   "source": [
    "import glob\n",
    "import numpy as np\n",
    "import pandas as pd\n",
    "import parselmouth \n",
    "import statistics\n",
    "\n",
    "from parselmouth.praat import call\n",
    "from scipy.stats.mstats import zscore\n",
    "from sklearn.decomposition import PCA\n",
    "from sklearn.preprocessing import StandardScaler"
   ]
  },
  {
   "cell_type": "code",
   "execution_count": 2,
   "id": "dd92fdc7",
   "metadata": {},
   "outputs": [],
   "source": [
    "%%capture\n",
    "from tqdm.notebook import tqdm\n",
    "from time import sleep\n",
    "tqdm().pandas()"
   ]
  },
  {
   "cell_type": "code",
   "execution_count": 3,
   "id": "3b682a4c",
   "metadata": {},
   "outputs": [],
   "source": [
    "# This is the function to measure source acoustics using default male parameters\n",
    "# (does that mean inaccurate for females?)\n",
    "\n",
    "def measurePitch(voiceID, f0min, f0max, unit):\n",
    "    sound = parselmouth.Sound(voiceID) # read the sound\n",
    "    duration = call(sound, \"Get total duration\") # duration\n",
    "    pitch = call(sound, \"To Pitch\", 0.0, f0min, f0max) #create a praat pitch object\n",
    "    meanF0 = call(pitch, \"Get mean\", 0, 0, unit) # get mean pitch\n",
    "    stdevF0 = call(pitch, \"Get standard deviation\", 0 ,0, unit) # get standard deviation\n",
    "    harmonicity = call(sound, \"To Harmonicity (cc)\", 0.01, f0min, 0.1, 1.0)\n",
    "    hnr = call(harmonicity, \"Get mean\", 0, 0)\n",
    "    \n",
    "    return duration, meanF0, stdevF0, hnr"
   ]
  },
  {
   "cell_type": "code",
   "execution_count": 4,
   "id": "6f756e98",
   "metadata": {},
   "outputs": [],
   "source": [
    "# This function measures formants using Formant Position formula\n",
    "\n",
    "def measureFormants(sound, wave_file, f0min,f0max):\n",
    "    sound = parselmouth.Sound(sound) # read the sound\n",
    "    pitch = call(sound, \"To Pitch (cc)\", 0, f0min, 15, 'no', 0.03, 0.45, 0.01, 0.35, 0.14, f0max)\n",
    "    pointProcess = call(sound, \"To PointProcess (periodic, cc)\", f0min, f0max)\n",
    "    \n",
    "    formants = call(sound, \"To Formant (burg)\", 0.0025, 5, 5000, 0.025, 50)\n",
    "    numPoints = call(pointProcess, \"Get number of points\")\n",
    "\n",
    "    f1_list = []\n",
    "    f2_list = []\n",
    "    f3_list = []\n",
    "    f4_list = []\n",
    "    \n",
    "    # Measure formants only at glottal pulses\n",
    "    for point in range(0, numPoints):\n",
    "        point += 1\n",
    "        t = call(pointProcess, \"Get time from index\", point)\n",
    "        f1 = call(formants, \"Get value at time\", 1, t, 'Hertz', 'Linear')\n",
    "        f2 = call(formants, \"Get value at time\", 2, t, 'Hertz', 'Linear')\n",
    "        f3 = call(formants, \"Get value at time\", 3, t, 'Hertz', 'Linear')\n",
    "        f4 = call(formants, \"Get value at time\", 4, t, 'Hertz', 'Linear')\n",
    "        f1_list.append(f1)\n",
    "        f2_list.append(f2)\n",
    "        f3_list.append(f3)\n",
    "        f4_list.append(f4)\n",
    "    \n",
    "    f1_list = [f1 for f1 in f1_list if str(f1) != 'nan']\n",
    "    f2_list = [f2 for f2 in f2_list if str(f2) != 'nan']\n",
    "    f3_list = [f3 for f3 in f3_list if str(f3) != 'nan']\n",
    "    f4_list = [f4 for f4 in f4_list if str(f4) != 'nan']\n",
    "    \n",
    "    # calculate mean formants across pulses\n",
    "    f1_mean = statistics.mean(f1_list)\n",
    "    f2_mean = statistics.mean(f2_list)\n",
    "    f3_mean = statistics.mean(f3_list)\n",
    "    f4_mean = statistics.mean(f4_list)\n",
    "    \n",
    "    # calculate median formants across pulses\n",
    "    f1_median = statistics.median(f1_list)\n",
    "    f2_median = statistics.median(f2_list)\n",
    "    f3_median = statistics.median(f3_list)\n",
    "    f4_median = statistics.median(f4_list)\n",
    "    \n",
    "    return f1_mean, f2_mean, f3_mean, f4_mean, f1_median, f2_median, f3_median, f4_median"
   ]
  },
  {
   "cell_type": "code",
   "execution_count": null,
   "id": "70d95aa7",
   "metadata": {},
   "outputs": [
    {
     "data": {
      "application/vnd.jupyter.widget-view+json": {
       "model_id": "ace656cfdb204a08b5aa59d451597384",
       "version_major": 2,
       "version_minor": 0
      },
      "text/plain": [
       "  0%|          | 0/1650 [00:00<?, ?it/s]"
      ]
     },
     "metadata": {},
     "output_type": "display_data"
    }
   ],
   "source": [
    "# create lists to put the results\n",
    "file_list = []\n",
    "duration_list = []\n",
    "mean_F0_list = []\n",
    "sd_F0_list = []\n",
    "hnr_list = []\n",
    "\n",
    "f1_mean_list = []\n",
    "f2_mean_list = []\n",
    "f3_mean_list = []\n",
    "f4_mean_list = []\n",
    "f1_median_list = []\n",
    "f2_median_list = []\n",
    "f3_median_list = []\n",
    "f4_median_list = []\n",
    "\n",
    "# Go through all the wave files in the folder and measure all the acoustics\n",
    "for wave_file in tqdm(glob.glob(\"welsh_english_male/*.wav\")):\n",
    "    sleep(0.25)\n",
    "    sound = parselmouth.Sound(wave_file)\n",
    "    (duration, meanF0, stdevF0, hnr) = measurePitch(sound, 75, 300, \"Hertz\")\n",
    "    (f1_mean, f2_mean, f3_mean, f4_mean, f1_median, f2_median, f3_median, f4_median) = measureFormants(\n",
    "        sound, wave_file, 75, 300)\n",
    "    file_list.append(wave_file) # make an ID list\n",
    "    duration_list.append(duration) # make duration list\n",
    "    mean_F0_list.append(meanF0) # make a mean F0 list\n",
    "    sd_F0_list.append(stdevF0) # make a sd F0 list\n",
    "    hnr_list.append(hnr) #make an HNR list\n",
    "    \n",
    "    # add the formant data\n",
    "    f1_mean_list.append(f1_mean)\n",
    "    f2_mean_list.append(f2_mean)\n",
    "    f3_mean_list.append(f3_mean)\n",
    "    f4_mean_list.append(f4_mean)\n",
    "    f1_median_list.append(f1_median)\n",
    "    f2_median_list.append(f2_median)\n",
    "    f3_median_list.append(f3_median)\n",
    "    f4_median_list.append(f4_median)\n"
   ]
  },
  {
   "cell_type": "code",
   "execution_count": null,
   "id": "0a2b0173",
   "metadata": {},
   "outputs": [],
   "source": [
    "# Add the data to Pandas\n",
    "df = pd.DataFrame(np.column_stack([file_list, duration_list, mean_F0_list, sd_F0_list, hnr_list, \n",
    "                                   f1_mean_list, f2_mean_list, f3_mean_list, f4_mean_list, \n",
    "                                   f1_median_list, f2_median_list, f3_median_list, f4_median_list]),\n",
    "                                   columns=['voiceID', 'duration', 'meanF0Hz', 'stdevF0Hz', 'HNR', \n",
    "                                            'f1_mean', 'f2_mean', 'f3_mean', 'f4_mean', \n",
    "                                            'f1_median', 'f2_median', 'f3_median', 'f4_median'])\n",
    "\n",
    "# save/reload the data so it's all numbers\n",
    "df.to_csv(\"processed_results.csv\", index=False)"
   ]
  },
  {
   "cell_type": "code",
   "execution_count": null,
   "id": "34521ab4",
   "metadata": {},
   "outputs": [],
   "source": [
    "# Rename df based on source directory\n",
    "\n",
    "formants_wem = pd.read_csv('processed_results.csv', header=0)\n",
    "formants_wem.head(20)"
   ]
  },
  {
   "cell_type": "code",
   "execution_count": null,
   "id": "f55b8a47",
   "metadata": {},
   "outputs": [],
   "source": [
    "# Prepare df for joining in DataPrep notebook\n",
    "\n",
    "formants_wem['filename'] = [ID.strip() for ID in formants_wem.voiceID] # Remove whitespace\n",
    "formants_wem['filename'] = [string[-25:-4:1] for string in formants_wem.filename]\n",
    "formants_wem.to_pickle(\"df_formants_wem.pkl\")"
   ]
  },
  {
   "cell_type": "code",
   "execution_count": null,
   "id": "cd4dd1ca",
   "metadata": {},
   "outputs": [],
   "source": []
  },
  {
   "cell_type": "code",
   "execution_count": null,
   "id": "1a7cb6d6",
   "metadata": {},
   "outputs": [],
   "source": []
  }
 ],
 "metadata": {
  "kernelspec": {
   "display_name": "Python [conda env:metis] *",
   "language": "python",
   "name": "conda-env-metis-py"
  },
  "language_info": {
   "codemirror_mode": {
    "name": "ipython",
    "version": 3
   },
   "file_extension": ".py",
   "mimetype": "text/x-python",
   "name": "python",
   "nbconvert_exporter": "python",
   "pygments_lexer": "ipython3",
   "version": "3.8.10"
  }
 },
 "nbformat": 4,
 "nbformat_minor": 5
}
