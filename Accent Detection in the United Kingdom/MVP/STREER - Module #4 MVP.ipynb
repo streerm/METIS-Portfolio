{
 "cells": [
  {
   "cell_type": "markdown",
   "id": "71534d26",
   "metadata": {},
   "source": [
    "## Module #4 Minimum Viable Product\n",
    "\n",
    "### Mark Streer (DS/ML)"
   ]
  },
  {
   "cell_type": "markdown",
   "id": "35aaf317",
   "metadata": {},
   "source": [
    "### Motivation\n",
    "\n",
    "Speech processing is essential to many ML/AI applications including voice recognition, speech transcription, and virtual assistants. However, technology watchdogs and ethicists alike have raised concerns that the underlying algorithms and language models perform poorly on sociolinguistic groups underrepresented in training data. This project aims to classify a corpus of voice recordings of UK speakers according to dialect/accent based on power-spectral characteristics (i.e. MFCCs) as well as phonetic properties (i.e. formants). Sociopolitical issues with dialect profiling and discrimination are inherent in voice recognition technology. This project is framed at ensuring equal access to convenience and state-of-the-art technology, supplied by selecting the most appropriate of a variety of pre-trained models."
   ]
  },
  {
   "cell_type": "markdown",
   "id": "48ec59bf",
   "metadata": {},
   "source": [
    "### Methodology\n",
    "\n",
    "The dataset analyzed is the [Open-source Multi-speaker Corpora of the English Accents in the British Isles](https://aclanthology.org/2020.lrec-1.804/), a collection of over 15,000 high-quality audio of English sentences recorded by volunteers having different regional accents of Great Britain and Ireland. The recording scripts were curated specifically for accent elicitation--including personal and location names within the regions in question--and provide high phoneme coverage. The authors state, \"the dataset is intended for linguistic analysis as well as use for speech technologies.\" Six dialect classes are provided, each consisting of recordings from 3-57 volunteers of both genders; due to the small volunteer count and lack of female recordings for Irish dialects, only the first five classes were analyzed in the present study.\n",
    "\n",
    "1. Northern (England)  \n",
    "    19 speakers (5 female, 14 male); 2,847 entries\n",
    "2. Southern (England)  \n",
    "    57 speakers (28 female, 29 male); 8,492 entries\n",
    "3. Midlands (England)  \n",
    "    5 speakers (2 female, 3 male); 696 entries\n",
    "4. Welsh  \n",
    "    19 speakers (8 female, 11 male); 2,849 entries\n",
    "5. Scottish  \n",
    "    17 speakers (6 female, 11 male); 2,543 entries\n",
    "6. Irish  \n",
    "    3 speakers (0 female, 3 male); 450 entries\n",
    "\n",
    "Librosa is used to calculated mel-frequency cepstrum coefficients (MFCCs) using default parameters such as number of coefficients (n=20), window length, and sampling rate. Since MFCCs are returned as an \\[20,n]\\ array where n increases with recording length, some kind of aggregation is necessary. For now, each MFCC row is averaged to yield the mean value as the corresponding feature.\n",
    "\n",
    "Delta MFCCs and Delta-delta MFCCs are also calculated using Librosa and default parameters, for 60 features in total. Results below are only reported for MFCCs for now. (Working on extracting formants as of 2021-10-25.)"
   ]
  },
  {
   "cell_type": "markdown",
   "id": "516f80b8",
   "metadata": {},
   "source": [
    "### Results\n",
    "#### Classification performance\n",
    "\n",
    "* Random forest models resulted in the best performance across the four model types tested, followed by K nearest neighbors (k=10), decision tree, and logistic regression. \n",
    "* Strong bias is apparent towards the majority class (Southern) in the logistic regression and decision tree models. Southern-versus-all classification consistently earns the highest f1-score in all models (OVA)."
   ]
  },
  {
   "cell_type": "markdown",
   "id": "dab3c873",
   "metadata": {},
   "source": [
    "![](mvp_fig1.png)"
   ]
  },
  {
   "cell_type": "markdown",
   "id": "db6e19b1",
   "metadata": {},
   "source": [
    "![](mvp_fig2.png)"
   ]
  },
  {
   "cell_type": "markdown",
   "id": "1c11c236",
   "metadata": {},
   "source": [
    "Further work will:\n",
    "1. Re-run analysis using 16 MFCCs - the conventional size in speech processing algorithms - instead of the Librosa default of 20.\n",
    "2. Split train/test datasets by user to ensure the model is not merely determining speaker similarity."
   ]
  },
  {
   "cell_type": "code",
   "execution_count": null,
   "id": "576f12e9",
   "metadata": {},
   "outputs": [],
   "source": []
  }
 ],
 "metadata": {
  "kernelspec": {
   "display_name": "Python 3",
   "language": "python",
   "name": "python3"
  },
  "language_info": {
   "codemirror_mode": {
    "name": "ipython",
    "version": 3
   },
   "file_extension": ".py",
   "mimetype": "text/x-python",
   "name": "python",
   "nbconvert_exporter": "python",
   "pygments_lexer": "ipython3",
   "version": "3.8.8"
  }
 },
 "nbformat": 4,
 "nbformat_minor": 5
}
