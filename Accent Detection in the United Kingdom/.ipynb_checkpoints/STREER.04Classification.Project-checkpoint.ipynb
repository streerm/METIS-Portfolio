{
 "cells": [
  {
   "cell_type": "code",
   "execution_count": 51,
   "id": "b138aa3b",
   "metadata": {},
   "outputs": [],
   "source": [
    "def split(filepath):\n",
    "    sound = AudioSegment.from_wav(filepath)\n",
    "    dBFS = sound.dBFS\n",
    "    chunks = split_on_silence(sound, \n",
    "        min_silence_len = 500,\n",
    "        silence_thresh = dBFS-60,\n",
    "        #keep_silence = 250 # optional\n",
    "    )\n",
    "    \n",
    "split(\"data/Seinfeld.S05E14.The.Marine.Biologist.wav\")"
   ]
  },
  {
   "cell_type": "code",
   "execution_count": 52,
   "id": "927428f8",
   "metadata": {},
   "outputs": [],
   "source": [
    "for i, chunk in enumerate(chunks):\n",
    "    chunk.export(\"data/test/processed_chunk{0}.wav\".format(i), format=\"wav\")"
   ]
  },
  {
   "cell_type": "code",
   "execution_count": 44,
   "id": "7ace514c",
   "metadata": {},
   "outputs": [],
   "source": [
    "# Source: https://stackoverflow.com/questions/45526996/split-audio-files-using-silence-detection\n",
    "# Import AudioSegment class for processing audio \n",
    "# Import split_on_silence function for separating out silent chunks.\n",
    "from pydub import AudioSegment\n",
    "from pydub.silence import split_on_silence\n",
    "\n",
    "# Define a function to normalize a chunk to a target amplitude.\n",
    "def match_target_amplitude(aChunk, target_dBFS):\n",
    "    ''' Normalize given audio chunk '''\n",
    "    change_in_dBFS = target_dBFS - aChunk.dBFS\n",
    "    return aChunk.apply_gain(change_in_dBFS)\n",
    "\n",
    "# Load your audio\n",
    "myaudio = AudioSegment.from_file(\"data/Seinfeld.S05E14.The.Marine.Biologist.wav\" , \"wav\") \n",
    "\n",
    "# Normalize your audio\n",
    "normalized_audio = match_target_amplitude(myaudio, -20.0)\n",
    "\n",
    "# Split track where the silence is 0.5s or more and get chunks using the imported function.\n",
    "chunks = split_on_silence(\n",
    "    # Use the loaded audio.\n",
    "    normalized_audio, \n",
    "    # Specify that a silent chunk must be at least 0.5s or 500ms long.\n",
    "    min_silence_len = 200,\n",
    "    # Consider a chunk silent if it's quieter than -16 dBFS.\n",
    "    # (You may want to adjust this parameter.)\n",
    "    silence_thresh = -16\n",
    ")"
   ]
  },
  {
   "cell_type": "code",
   "execution_count": 45,
   "id": "0b19adb0",
   "metadata": {},
   "outputs": [
    {
     "name": "stdout",
     "output_type": "stream",
     "text": [
      "Exporting chunk0.wav.\n",
      "Exporting chunk1.wav.\n",
      "Exporting chunk2.wav.\n",
      "Exporting chunk3.wav.\n",
      "Exporting chunk4.wav.\n",
      "Exporting chunk5.wav.\n",
      "Exporting chunk6.wav.\n",
      "Exporting chunk7.wav.\n",
      "Exporting chunk8.wav.\n",
      "Exporting chunk9.wav.\n",
      "Exporting chunk10.wav.\n",
      "Exporting chunk11.wav.\n",
      "Exporting chunk12.wav.\n",
      "Exporting chunk13.wav.\n",
      "Exporting chunk14.wav.\n",
      "Exporting chunk15.wav.\n",
      "Exporting chunk16.wav.\n",
      "Exporting chunk17.wav.\n",
      "Exporting chunk18.wav.\n",
      "Exporting chunk19.wav.\n",
      "Exporting chunk20.wav.\n",
      "Exporting chunk21.wav.\n",
      "Exporting chunk22.wav.\n",
      "Exporting chunk23.wav.\n",
      "Exporting chunk24.wav.\n",
      "Exporting chunk25.wav.\n",
      "Exporting chunk26.wav.\n",
      "Exporting chunk27.wav.\n",
      "Exporting chunk28.wav.\n",
      "Exporting chunk29.wav.\n",
      "Exporting chunk30.wav.\n",
      "Exporting chunk31.wav.\n",
      "Exporting chunk32.wav.\n",
      "Exporting chunk33.wav.\n",
      "Exporting chunk34.wav.\n",
      "Exporting chunk35.wav.\n",
      "Exporting chunk36.wav.\n",
      "Exporting chunk37.wav.\n",
      "Exporting chunk38.wav.\n",
      "Exporting chunk39.wav.\n",
      "Exporting chunk40.wav.\n",
      "Exporting chunk41.wav.\n",
      "Exporting chunk42.wav.\n",
      "Exporting chunk43.wav.\n",
      "Exporting chunk44.wav.\n",
      "Exporting chunk45.wav.\n",
      "Exporting chunk46.wav.\n",
      "Exporting chunk47.wav.\n",
      "Exporting chunk48.wav.\n",
      "Exporting chunk49.wav.\n",
      "Exporting chunk50.wav.\n",
      "Exporting chunk51.wav.\n",
      "Exporting chunk52.wav.\n",
      "Exporting chunk53.wav.\n",
      "Exporting chunk54.wav.\n",
      "Exporting chunk55.wav.\n",
      "Exporting chunk56.wav.\n",
      "Exporting chunk57.wav.\n",
      "Exporting chunk58.wav.\n",
      "Exporting chunk59.wav.\n",
      "Exporting chunk60.wav.\n",
      "Exporting chunk61.wav.\n",
      "Exporting chunk62.wav.\n",
      "Exporting chunk63.wav.\n",
      "Exporting chunk64.wav.\n",
      "Exporting chunk65.wav.\n",
      "Exporting chunk66.wav.\n",
      "Exporting chunk67.wav.\n",
      "Exporting chunk68.wav.\n",
      "Exporting chunk69.wav.\n",
      "Exporting chunk70.wav.\n",
      "Exporting chunk71.wav.\n",
      "Exporting chunk72.wav.\n",
      "Exporting chunk73.wav.\n",
      "Exporting chunk74.wav.\n",
      "Exporting chunk75.wav.\n",
      "Exporting chunk76.wav.\n",
      "Exporting chunk77.wav.\n",
      "Exporting chunk78.wav.\n",
      "Exporting chunk79.wav.\n",
      "Exporting chunk80.wav.\n",
      "Exporting chunk81.wav.\n",
      "Exporting chunk82.wav.\n",
      "Exporting chunk83.wav.\n",
      "Exporting chunk84.wav.\n",
      "Exporting chunk85.wav.\n",
      "Exporting chunk86.wav.\n",
      "Exporting chunk87.wav.\n",
      "Exporting chunk88.wav.\n",
      "Exporting chunk89.wav.\n",
      "Exporting chunk90.wav.\n",
      "Exporting chunk91.wav.\n",
      "Exporting chunk92.wav.\n",
      "Exporting chunk93.wav.\n"
     ]
    }
   ],
   "source": [
    "# Process each chunk with your parameters\n",
    "for i, chunk in enumerate(chunks):\n",
    "    # Create a silence chunk that's 0.5 seconds (or 500 ms) long for padding.\n",
    "    silence_chunk = AudioSegment.silent(duration=200)\n",
    "\n",
    "    # Add the padding chunk to beginning and end of the entire chunk.\n",
    "    audio_chunk = silence_chunk + chunk + silence_chunk\n",
    "\n",
    "    # Normalize the entire chunk.\n",
    "    normalized_chunk = match_target_amplitude(audio_chunk, -20.0)\n",
    "\n",
    "    # Export the audio chunk with new bitrate.\n",
    "    print(\"Exporting chunk{0}.wav.\".format(i))\n",
    "    normalized_chunk.export(\n",
    "        \"data/chunk_processed{0}.wav\".format(i),\n",
    "        bitrate = \"192k\",\n",
    "        format = \"wav\"\n",
    "    )"
   ]
  },
  {
   "cell_type": "code",
   "execution_count": null,
   "id": "7140438f",
   "metadata": {},
   "outputs": [],
   "source": []
  },
  {
   "cell_type": "code",
   "execution_count": null,
   "id": "31fe3732",
   "metadata": {},
   "outputs": [],
   "source": []
  },
  {
   "cell_type": "code",
   "execution_count": null,
   "id": "698f01f7",
   "metadata": {},
   "outputs": [],
   "source": []
  },
  {
   "cell_type": "code",
   "execution_count": 1,
   "id": "72ce574e",
   "metadata": {},
   "outputs": [
    {
     "name": "stderr",
     "output_type": "stream",
     "text": [
      "/Users/markstreer/opt/anaconda3/envs/metis/lib/python3.8/site-packages/pydub/utils.py:170: RuntimeWarning: Couldn't find ffmpeg or avconv - defaulting to ffmpeg, but may not work\n",
      "  warn(\"Couldn't find ffmpeg or avconv - defaulting to ffmpeg, but may not work\", RuntimeWarning)\n"
     ]
    },
    {
     "name": "stdout",
     "output_type": "stream",
     "text": [
      "exporting S05E14_chunk0.wav\n",
      "exporting S05E14_chunk1.wav\n",
      "exporting S05E14_chunk2.wav\n",
      "exporting S05E14_chunk3.wav\n",
      "exporting S05E14_chunk4.wav\n",
      "exporting S05E14_chunk5.wav\n",
      "exporting S05E14_chunk6.wav\n",
      "exporting S05E14_chunk7.wav\n",
      "exporting S05E14_chunk8.wav\n",
      "exporting S05E14_chunk9.wav\n",
      "exporting S05E14_chunk10.wav\n",
      "exporting S05E14_chunk11.wav\n",
      "exporting S05E14_chunk12.wav\n",
      "exporting S05E14_chunk13.wav\n",
      "exporting S05E14_chunk14.wav\n",
      "exporting S05E14_chunk15.wav\n",
      "exporting S05E14_chunk16.wav\n",
      "exporting S05E14_chunk17.wav\n",
      "exporting S05E14_chunk18.wav\n",
      "exporting S05E14_chunk19.wav\n",
      "exporting S05E14_chunk20.wav\n",
      "exporting S05E14_chunk21.wav\n",
      "exporting S05E14_chunk22.wav\n"
     ]
    }
   ],
   "source": [
    "from pydub import AudioSegment\n",
    "from pydub.utils import make_chunks\n",
    "\n",
    "myaudio = AudioSegment.from_file(\"data/Seinfeld.S05E14.The.Marine.Biologist.wav\" , \"wav\") \n",
    "chunk_length_ms = 1000 * 60 # make chunks of 1000 ms/s * 60 s\n",
    "chunks = make_chunks(myaudio, chunk_length_ms)\n",
    "\n",
    "# Export all of the individual chunks as wav files\n",
    "\n",
    "chunk_list = []\n",
    "\n",
    "for i, chunk in enumerate(chunks):\n",
    "    chunk_name = \"S05E14_chunk{0}.wav\".format(i)\n",
    "    print(\"exporting\", chunk_name)\n",
    "    chunk.export(f'data/{chunk_name}', format=\"wav\")   # change output dir according to chunk size\n",
    "    chunk_list.append(chunk_name)"
   ]
  },
  {
   "cell_type": "code",
   "execution_count": 33,
   "id": "842aa781",
   "metadata": {},
   "outputs": [
    {
     "name": "stdout",
     "output_type": "stream",
     "text": [
      "Loaded the voice encoder model on cpu in 0.00 seconds.\n",
      "(277, 256)\n"
     ]
    }
   ],
   "source": [
    "from resemblyzer import preprocess_wav, VoiceEncoder\n",
    "from pathlib import Path\n",
    "\n",
    "# for i, chunk in enumerate(chunk_list_cut):\n",
    "# give the file path to your audio file\n",
    "audio_file_path = \"data/S05E14_chunk2.wav\"\n",
    "wav_fpath = Path(audio_file_path)\n",
    "\n",
    "wav = preprocess_wav(wav_fpath)\n",
    "encoder = VoiceEncoder(\"cpu\")\n",
    "_, cont_embeds, wav_splits = encoder.embed_utterance(wav, return_partials=True, rate=5)\n",
    "print(cont_embeds.shape)"
   ]
  },
  {
   "cell_type": "code",
   "execution_count": 34,
   "id": "94fae8f8",
   "metadata": {},
   "outputs": [],
   "source": [
    "from spectralcluster import SpectralClusterer\n",
    "from spectralcluster import RefinementOptions\n",
    "from spectralcluster import ThresholdType\n",
    "from spectralcluster import ICASSP2018_REFINEMENT_SEQUENCE\n",
    "\n",
    "refinement_options = RefinementOptions(\n",
    "    gaussian_blur_sigma=1,\n",
    "    p_percentile=0.90,\n",
    "    thresholding_soft_multiplier=0.01,\n",
    "    thresholding_type=ThresholdType.RowMax,\n",
    "    refinement_sequence=ICASSP2018_REFINEMENT_SEQUENCE)\n",
    "\n",
    "clusterer = SpectralClusterer(\n",
    "    min_clusters=2,\n",
    "    max_clusters=100,\n",
    "    refinement_options=refinement_options)\n",
    "\n",
    "labels = clusterer.predict(cont_embeds)"
   ]
  },
  {
   "cell_type": "code",
   "execution_count": 35,
   "id": "dd548af2",
   "metadata": {},
   "outputs": [],
   "source": [
    "def create_labelling(labels, wav_splits):\n",
    "    from resemblyzer.audio import sampling_rate\n",
    "    times = [((s.start + s.stop) / 2) / sampling_rate for s in wav_splits]\n",
    "    labelling = []\n",
    "    start_time = 0\n",
    "\n",
    "    for i,time in enumerate(times):\n",
    "        if i>0 and labels[i]!=labels[i-1]:\n",
    "            temp = [str(labels[i-1]),start_time,time]\n",
    "            labelling.append(tuple(temp))\n",
    "            start_time = time\n",
    "        if i==len(times)-1:\n",
    "            temp = [str(labels[i]),start_time,time]\n",
    "            labelling.append(tuple(temp))\n",
    "\n",
    "    return labelling\n",
    "  \n",
    "labelling = create_labelling(labels,wav_splits)"
   ]
  },
  {
   "cell_type": "code",
   "execution_count": 36,
   "id": "a7d68354",
   "metadata": {},
   "outputs": [
    {
     "data": {
      "text/plain": [
       "[('1', 0, 14.2),\n",
       " ('0', 14.2, 15.8),\n",
       " ('1', 15.8, 18.0),\n",
       " ('0', 18.0, 22.8),\n",
       " ('1', 22.8, 27.4),\n",
       " ('0', 27.4, 31.6),\n",
       " ('1', 31.6, 42.8),\n",
       " ('0', 42.8, 43.6),\n",
       " ('1', 43.6, 46.0),\n",
       " ('0', 46.0, 46.6),\n",
       " ('1', 46.6, 52.6),\n",
       " ('0', 52.6, 53.6),\n",
       " ('1', 53.6, 56.0)]"
      ]
     },
     "execution_count": 36,
     "metadata": {},
     "output_type": "execute_result"
    }
   ],
   "source": [
    "labelling"
   ]
  },
  {
   "cell_type": "code",
   "execution_count": null,
   "id": "4a4a5cfa",
   "metadata": {},
   "outputs": [],
   "source": []
  }
 ],
 "metadata": {
  "kernelspec": {
   "display_name": "Python [conda env:metis] *",
   "language": "python",
   "name": "conda-env-metis-py"
  },
  "language_info": {
   "codemirror_mode": {
    "name": "ipython",
    "version": 3
   },
   "file_extension": ".py",
   "mimetype": "text/x-python",
   "name": "python",
   "nbconvert_exporter": "python",
   "pygments_lexer": "ipython3",
   "version": "3.8.10"
  }
 },
 "nbformat": 4,
 "nbformat_minor": 5
}
