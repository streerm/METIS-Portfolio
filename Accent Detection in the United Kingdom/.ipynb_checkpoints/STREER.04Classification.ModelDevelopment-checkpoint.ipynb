{
 "cells": [
  {
   "cell_type": "code",
   "execution_count": 1,
   "id": "0da7491b",
   "metadata": {},
   "outputs": [],
   "source": [
    "import numpy as np\n",
    "import pandas as pd\n",
    "import matplotlib.pyplot as plt\n",
    "import seaborn as sns\n",
    "\n",
    "import random\n",
    "\n",
    "import librosa\n",
    "import librosa.display # must be explicitly imported\n",
    "import IPython.display as ipd  # for playing .wav files in nb\n",
    "\n",
    "from sklearn.neighbors import KNeighborsClassifier\n",
    "from sklearn.linear_model import LogisticRegression\n",
    "from sklearn.tree import DecisionTreeClassifier\n",
    "from sklearn.ensemble import RandomForestClassifier\n",
    "from sklearn.naive_bayes import MultinomialNB\n",
    "import xgboost as xgb\n",
    "\n",
    "from sklearn.model_selection import train_test_split, cross_val_score, GridSearchCV\n",
    "from sklearn.metrics import precision_score, recall_score, accuracy_score, roc_auc_score, f1_score\n",
    "from sklearn.metrics import classification_report, confusion_matrix"
   ]
  },
  {
   "cell_type": "code",
   "execution_count": 2,
   "id": "154d2ac4",
   "metadata": {},
   "outputs": [],
   "source": [
    "import warnings\n",
    "warnings.filterwarnings(\"ignore\", message=\"Numerical issues were encountered \")\n",
    "warnings.filterwarnings(\"ignore\", message=\"lbfgs failed to converge \")\n",
    "warnings.filterwarnings(\"ignore\", message=\"Precision and F-score are ill-defined\")"
   ]
  },
  {
   "cell_type": "code",
   "execution_count": 3,
   "id": "1cee3550",
   "metadata": {},
   "outputs": [],
   "source": [
    "%%capture\n",
    "from tqdm.notebook import tqdm\n",
    "from time import sleep\n",
    "tqdm().pandas()"
   ]
  },
  {
   "cell_type": "code",
   "execution_count": 4,
   "id": "9b3fae8f",
   "metadata": {},
   "outputs": [],
   "source": [
    "# Import CSV\n",
    "# Source: http://www.openslr.org/83/\n",
    "df = pd.read_csv('line_index_all.csv', names=['lineID', 'filename', 'transcript'])\n",
    "\n",
    "# Create label column\n",
    "df['filename'] = [filename.strip() for filename in df.filename] # Remove whitespace\n",
    "df['speaker'] = [string[:9] for string in df.filename]\n",
    "df['source'] = [string[:3] for string in df.filename] # three-letter code indicating speaker dialect+sex (& directory)"
   ]
  },
  {
   "cell_type": "code",
   "execution_count": 5,
   "id": "fff13485",
   "metadata": {},
   "outputs": [],
   "source": [
    "# Speaker lists (for shuffling later)\n",
    "\n",
    "df_wef = df[df.source == 'wef']  # Welsh English Female\n",
    "df_wem = df[df.source == 'wem']  # Welsh English Male\n",
    "df_mif = df[df.source == 'mif']  # Midlands English Female\n",
    "df_mim = df[df.source == 'mim']  # Midlands English Male\n",
    "df_nof = df[df.source == 'nof']  # Northern English Female\n",
    "df_nom = df[df.source == 'nom']  # Northern English Male\n",
    "df_scf = df[df.source == 'scf']  # Scottish English Female\n",
    "df_scm = df[df.source == 'scm']  # Scottish English Male\n",
    "df_sof = df[df.source == 'sof']  # Southern English Female\n",
    "df_som = df[df.source == 'som']  # Southern English Male\n",
    "\n",
    "speaker_list_we = list(df_wef.speaker.unique()) + list(df_wem.speaker.unique())\n",
    "speaker_list_mi = list(df_mif.speaker.unique()) + list(df_mim.speaker.unique())\n",
    "speaker_list_no = list(df_nof.speaker.unique()) + list(df_nom.speaker.unique())\n",
    "speaker_list_sc = list(df_scf.speaker.unique()) + list(df_scm.speaker.unique())\n",
    "speaker_list_so = list(df_sof.speaker.unique()) + list(df_som.speaker.unique())\n",
    "\n",
    "# Class list (in alphabetical order)\n",
    "labels = ['Midlands', 'Northern', 'Scottish', 'Southern', 'Welsh']"
   ]
  },
  {
   "cell_type": "code",
   "execution_count": 6,
   "id": "ba16b989",
   "metadata": {},
   "outputs": [],
   "source": [
    "# Feature lists\n",
    "\n",
    "# MFCCs only\n",
    "colnames_mfcc16 = []  # n=16 MFCCs\n",
    "\n",
    "for n in range(16):\n",
    "    num = n+1\n",
    "    if num < 10:\n",
    "        num = '0' + str(num)\n",
    "    else:\n",
    "        num = str(num)\n",
    "    name = 'mfcc_' + num\n",
    "    colnames_mfcc16.append(name)\n",
    "    \n",
    "# MFCC-deltas, MFCC-delta-deltas\n",
    "# 26-Oct: Do not use, does not add much predictive value\n",
    "colnames_mfcc16_del = [(name + '_del') for name in colnames_mfcc16]\n",
    "colnames_mfcc16_del2 = [(name + '_del2') for name in colnames_mfcc16]\n",
    "\n",
    "# Formants only\n",
    "# Note 'mif' choice is arbitrary, same column names for every df_formants_*\n",
    "df_formants = pd.read_pickle(\"df_formants_colnames.pkl\")\n",
    "colnames_formants = list(df_formants.columns[2:-1])"
   ]
  },
  {
   "cell_type": "markdown",
   "id": "3485a33d",
   "metadata": {},
   "source": [
    "## Model Development"
   ]
  },
  {
   "cell_type": "code",
   "execution_count": 7,
   "id": "7059a786",
   "metadata": {},
   "outputs": [],
   "source": [
    "# Load data\n",
    "df_full = pd.read_pickle(\"df_mfcc16s_and_formants.pkl\")"
   ]
  },
  {
   "cell_type": "code",
   "execution_count": 8,
   "id": "f4652849",
   "metadata": {},
   "outputs": [],
   "source": [
    "# Filter data\n",
    "# 27-Oct: Remove all Midlands speakers due to small sample size\n",
    "df_full = df_full[df_full['label'] != 'mi']\n",
    "labels = ['Northern', 'Scottish', 'Southern', 'Welsh']"
   ]
  },
  {
   "cell_type": "markdown",
   "id": "37d68461",
   "metadata": {},
   "source": [
    "### Feature engineering"
   ]
  },
  {
   "cell_type": "code",
   "execution_count": 9,
   "id": "1a42b6da",
   "metadata": {},
   "outputs": [],
   "source": [
    "# Derive formant-related features\n",
    "\n",
    "# 0. Normalize with respect to F0\n",
    "for name in colnames_formants[3:]:\n",
    "    df_full[name] = df_full[name] / df_full['meanF0Hz']\n",
    "df_full['meanF0Hz'] = 1.0\n",
    "\n",
    "# 1. F2/F1 (vowel pronunciation)\n",
    "df_full['f2/f1_mean']   = df_full['f2_mean'] / df_full['f1_mean']\n",
    "df_full['f2/f1_median'] = df_full['f2_median'] / df_full['f1_median']\n",
    "\n",
    "# 2. F3/F2 (rhoticity; 'r' sounds)\n",
    "df_full['f3/f2_mean']   = df_full['f3_mean'] / df_full['f2_mean']\n",
    "df_full['f3/f2_median'] = df_full['f3_median'] / df_full['f2_median']\n",
    "\n",
    "# 3. F3/F1 (not sure; for completeness)\n",
    "df_full['f3/f1_mean']   = df_full['f3_mean'] / df_full['f1_mean']\n",
    "df_full['f3/f1_median'] = df_full['f3_median'] / df_full['f1_median']\n",
    "\n",
    "formant_features = list(colnames_formants[3:]) + \\\n",
    "                        ['f2/f1_mean', 'f2/f1_median', 'f3/f2_mean', 'f3/f2_median',\n",
    "                         'f3/f1_mean', 'f3/f1_median']"
   ]
  },
  {
   "cell_type": "code",
   "execution_count": 10,
   "id": "7ec17734",
   "metadata": {},
   "outputs": [],
   "source": [
    "# Binary labels for OVR comparisons\n",
    "\n",
    "df_full['is_scottish'] = np.where(df_full['label'] == 'sc', 1, 0)\n",
    "df_full['is_welsh']    = np.where(df_full['label'] == 'we', 1, 0)\n",
    "df_full['is_northern'] = np.where(df_full['label'] == 'no', 1, 0)\n",
    "df_full['is_southern'] = np.where(df_full['label'] == 'so', 1, 0)"
   ]
  },
  {
   "cell_type": "markdown",
   "id": "709b8713",
   "metadata": {},
   "source": [
    "### Model Selection"
   ]
  },
  {
   "cell_type": "markdown",
   "id": "23d9d84e",
   "metadata": {},
   "source": [
    "**Dataset must be split according to speaker ID**. Randomly splitting entries will cause most speakers to be represented in both the train and test datasets. Selecting MFCCs as features would perform extremely well in this context because MFCCs are highly correlated between utterances of any given speaker, but amounts to voice matching, and out-of-sample data/speakers would be poorly identified."
   ]
  },
  {
   "cell_type": "code",
   "execution_count": 11,
   "id": "a6ebea60",
   "metadata": {},
   "outputs": [
    {
     "name": "stdout",
     "output_type": "stream",
     "text": [
      "Entries (speakers) in Train dataset:  13151 (88)\n",
      "Entries (speakers) in Test dataset:   3580 (24)\n"
     ]
    }
   ],
   "source": [
    "# 1. Train:test split (df_full -> df_train, df_test)\n",
    "\n",
    "np.random.seed(42)\n",
    "\n",
    "S = speaker_list_we\n",
    "random.shuffle(S)\n",
    "index = int(len(S)*0.8)  # for 80:20 split\n",
    "speakers_we_test = S[index:]\n",
    "speakers_we_train = S[:index]\n",
    "df_train_we = df_full[(df_full.speaker.isin(speakers_we_train) & (df_full.label == 'we'))]\n",
    "df_test_we = df_full[(df_full.speaker.isin(speakers_we_test) & (df_full.label == 'we'))]\n",
    "\n",
    "S = speaker_list_no\n",
    "random.shuffle(S)\n",
    "index = int(len(S)*0.8)  # for 80:20 split\n",
    "speakers_no_test = S[index:]\n",
    "speakers_no_train = S[:index]\n",
    "df_train_no = df_full[(df_full.speaker.isin(speakers_no_train) & (df_full.label == 'no'))]\n",
    "df_test_no = df_full[(df_full.speaker.isin(speakers_no_test) & (df_full.label == 'no'))]\n",
    "\n",
    "S = speaker_list_so\n",
    "random.shuffle(S)\n",
    "index = int(len(S)*0.8)  # for 80:20 split\n",
    "speakers_so_test = S[index:]\n",
    "speakers_so_train = S[:index]\n",
    "df_train_so = df_full[(df_full.speaker.isin(speakers_so_train) & (df_full.label == 'so'))]\n",
    "df_test_so = df_full[(df_full.speaker.isin(speakers_so_test) & (df_full.label == 'so'))]\n",
    "\n",
    "S = speaker_list_sc\n",
    "random.shuffle(S)\n",
    "index = int(len(S)*0.8)  # for 80:20 split\n",
    "speakers_sc_test = S[index:]\n",
    "speakers_sc_train = S[:index]\n",
    "df_train_sc = df_full[(df_full.speaker.isin(speakers_sc_train) & (df_full.label == 'sc'))]\n",
    "df_test_sc = df_full[(df_full.speaker.isin(speakers_sc_test) & (df_full.label == 'sc'))]\n",
    "\n",
    "df_train = pd.concat([df_train_we, df_train_no, df_train_so, df_train_sc], axis=0)\n",
    "df_test =  pd.concat([df_test_we, df_test_no, df_test_so, df_test_sc], axis=0)\n",
    "\n",
    "print(f'Entries (speakers) in Train dataset:  {df_train.shape[0]} ({len(list(df_train.speaker.unique()))})')\n",
    "print(f'Entries (speakers) in Test dataset:   {df_test.shape[0]} ({len(list(df_test.speaker.unique()))})')"
   ]
  },
  {
   "cell_type": "code",
   "execution_count": 12,
   "id": "7d9d02ab",
   "metadata": {},
   "outputs": [
    {
     "name": "stdout",
     "output_type": "stream",
     "text": [
      "Entries (speakers) in Train dataset:  9556 (64)\n",
      "Entries (speakers) in Val dataset:   3595 (24)\n"
     ]
    }
   ],
   "source": [
    "# 2. Train:val split (df_train -> df_train2, df_val)\n",
    "\n",
    "list_train = []\n",
    "list_val = []\n",
    "\n",
    "for accent in ['we', 'no', 'so', 'sc']:\n",
    "    S = list(df_train[df_train['label'] == accent].speaker.unique())\n",
    "    random.shuffle(S)\n",
    "    index = int(len(S)*0.75)  # for 75:25 split (train:val)\n",
    "    speakers_val = S[index:]\n",
    "    speakers_train = S[:index]\n",
    "    \n",
    "    df_train_ = df_train[(df_train.speaker.isin(speakers_train)) & (df_train.label == accent)]\n",
    "    list_train.append(df_train_)\n",
    "    df_val_ = df_train[(df_train.speaker.isin(speakers_val)) & (df_train.label == accent)]\n",
    "    list_val.append(df_val_)\n",
    "    \n",
    "df_train2 = pd.concat(list_train, axis=0)\n",
    "df_val = pd.concat(list_val, axis=0)\n",
    "\n",
    "print(f'Entries (speakers) in Train dataset:  {df_train2.shape[0]} ({len(list(df_train2.speaker.unique()))})')\n",
    "print(f'Entries (speakers) in Val dataset:   {df_val.shape[0]} ({len(list(df_val.speaker.unique()))})')"
   ]
  },
  {
   "cell_type": "markdown",
   "id": "dd6578b0",
   "metadata": {},
   "source": [
    "MFCC-deltas & MFCC-delta2s are **not** used as features in any models below, since introducing them was found to introduce complexity with negligible performance gains, even reducing F1 score for certain classes. (See DataPrep notebook for specific examples.)  However, they can be tested in the current notebook by adding the feature lists `colnames_mfcc16_del` and/or `colnames_mfcc16_del2` to `colnames_mfcc16` in X_train/val/test below."
   ]
  },
  {
   "cell_type": "markdown",
   "id": "bf093074",
   "metadata": {},
   "source": [
    "### Tuning"
   ]
  },
  {
   "cell_type": "markdown",
   "id": "9db4d21e",
   "metadata": {},
   "source": [
    "**KNN: k=5**  \n",
    "Cross-validated F1 score seems to take a maximum where k = 3, in all four classes. However, k=4 and k=5 seem reasonably close to the maximum, and could help to reduce variance."
   ]
  },
  {
   "cell_type": "code",
   "execution_count": 13,
   "id": "e53cbabb",
   "metadata": {
    "collapsed": true
   },
   "outputs": [
    {
     "data": {
      "application/vnd.jupyter.widget-view+json": {
       "model_id": "7ab0667887164f3aa0c16a264f8396c0",
       "version_major": 2,
       "version_minor": 0
      },
      "text/plain": [
       "  0%|          | 0/30 [00:00<?, ?it/s]"
      ]
     },
     "metadata": {},
     "output_type": "display_data"
    },
    {
     "ename": "KeyboardInterrupt",
     "evalue": "",
     "output_type": "error",
     "traceback": [
      "\u001b[0;31m---------------------------------------------------------------------------\u001b[0m",
      "\u001b[0;31mKeyboardInterrupt\u001b[0m                         Traceback (most recent call last)",
      "\u001b[0;32m/var/folders/3v/knnfgj_54zj0mypk_ds4wm_h0000gn/T/ipykernel_33032/2192067787.py\u001b[0m in \u001b[0;36m<module>\u001b[0;34m\u001b[0m\n\u001b[1;32m     14\u001b[0m \u001b[0;32mfor\u001b[0m \u001b[0mk\u001b[0m \u001b[0;32min\u001b[0m \u001b[0mtqdm\u001b[0m\u001b[0;34m(\u001b[0m\u001b[0mk_range\u001b[0m\u001b[0;34m)\u001b[0m\u001b[0;34m:\u001b[0m\u001b[0;34m\u001b[0m\u001b[0;34m\u001b[0m\u001b[0m\n\u001b[1;32m     15\u001b[0m     \u001b[0mknn\u001b[0m \u001b[0;34m=\u001b[0m \u001b[0mKNeighborsClassifier\u001b[0m\u001b[0;34m(\u001b[0m\u001b[0mn_neighbors\u001b[0m\u001b[0;34m=\u001b[0m\u001b[0mk\u001b[0m\u001b[0;34m)\u001b[0m\u001b[0;34m\u001b[0m\u001b[0;34m\u001b[0m\u001b[0m\n\u001b[0;32m---> 16\u001b[0;31m     \u001b[0mscores\u001b[0m \u001b[0;34m=\u001b[0m \u001b[0mcross_val_score\u001b[0m\u001b[0;34m(\u001b[0m\u001b[0mknn\u001b[0m\u001b[0;34m,\u001b[0m \u001b[0mX\u001b[0m\u001b[0;34m,\u001b[0m \u001b[0my_sc\u001b[0m\u001b[0;34m,\u001b[0m \u001b[0mcv\u001b[0m\u001b[0;34m=\u001b[0m\u001b[0;36m10\u001b[0m\u001b[0;34m,\u001b[0m \u001b[0mscoring\u001b[0m\u001b[0;34m=\u001b[0m\u001b[0;34m'f1'\u001b[0m\u001b[0;34m)\u001b[0m  \u001b[0;31m# y_sc = Scottish v. rest, etc.\u001b[0m\u001b[0;34m\u001b[0m\u001b[0;34m\u001b[0m\u001b[0m\n\u001b[0m\u001b[1;32m     17\u001b[0m     \u001b[0mk_scores_sc\u001b[0m\u001b[0;34m.\u001b[0m\u001b[0mappend\u001b[0m\u001b[0;34m(\u001b[0m\u001b[0mscores\u001b[0m\u001b[0;34m.\u001b[0m\u001b[0mmean\u001b[0m\u001b[0;34m(\u001b[0m\u001b[0;34m)\u001b[0m\u001b[0;34m)\u001b[0m\u001b[0;34m\u001b[0m\u001b[0;34m\u001b[0m\u001b[0m\n\u001b[1;32m     18\u001b[0m     \u001b[0mscores\u001b[0m \u001b[0;34m=\u001b[0m \u001b[0mcross_val_score\u001b[0m\u001b[0;34m(\u001b[0m\u001b[0mknn\u001b[0m\u001b[0;34m,\u001b[0m \u001b[0mX\u001b[0m\u001b[0;34m,\u001b[0m \u001b[0my_so\u001b[0m\u001b[0;34m,\u001b[0m \u001b[0mcv\u001b[0m\u001b[0;34m=\u001b[0m\u001b[0;36m10\u001b[0m\u001b[0;34m,\u001b[0m \u001b[0mscoring\u001b[0m\u001b[0;34m=\u001b[0m\u001b[0;34m'f1'\u001b[0m\u001b[0;34m)\u001b[0m\u001b[0;34m\u001b[0m\u001b[0;34m\u001b[0m\u001b[0m\n",
      "\u001b[0;32m~/opt/anaconda3/envs/metis/lib/python3.8/site-packages/sklearn/utils/validation.py\u001b[0m in \u001b[0;36minner_f\u001b[0;34m(*args, **kwargs)\u001b[0m\n\u001b[1;32m     61\u001b[0m             \u001b[0mextra_args\u001b[0m \u001b[0;34m=\u001b[0m \u001b[0mlen\u001b[0m\u001b[0;34m(\u001b[0m\u001b[0margs\u001b[0m\u001b[0;34m)\u001b[0m \u001b[0;34m-\u001b[0m \u001b[0mlen\u001b[0m\u001b[0;34m(\u001b[0m\u001b[0mall_args\u001b[0m\u001b[0;34m)\u001b[0m\u001b[0;34m\u001b[0m\u001b[0;34m\u001b[0m\u001b[0m\n\u001b[1;32m     62\u001b[0m             \u001b[0;32mif\u001b[0m \u001b[0mextra_args\u001b[0m \u001b[0;34m<=\u001b[0m \u001b[0;36m0\u001b[0m\u001b[0;34m:\u001b[0m\u001b[0;34m\u001b[0m\u001b[0;34m\u001b[0m\u001b[0m\n\u001b[0;32m---> 63\u001b[0;31m                 \u001b[0;32mreturn\u001b[0m \u001b[0mf\u001b[0m\u001b[0;34m(\u001b[0m\u001b[0;34m*\u001b[0m\u001b[0margs\u001b[0m\u001b[0;34m,\u001b[0m \u001b[0;34m**\u001b[0m\u001b[0mkwargs\u001b[0m\u001b[0;34m)\u001b[0m\u001b[0;34m\u001b[0m\u001b[0;34m\u001b[0m\u001b[0m\n\u001b[0m\u001b[1;32m     64\u001b[0m \u001b[0;34m\u001b[0m\u001b[0m\n\u001b[1;32m     65\u001b[0m             \u001b[0;31m# extra_args > 0\u001b[0m\u001b[0;34m\u001b[0m\u001b[0;34m\u001b[0m\u001b[0;34m\u001b[0m\u001b[0m\n",
      "\u001b[0;32m~/opt/anaconda3/envs/metis/lib/python3.8/site-packages/sklearn/model_selection/_validation.py\u001b[0m in \u001b[0;36mcross_val_score\u001b[0;34m(estimator, X, y, groups, scoring, cv, n_jobs, verbose, fit_params, pre_dispatch, error_score)\u001b[0m\n\u001b[1;32m    443\u001b[0m     \u001b[0mscorer\u001b[0m \u001b[0;34m=\u001b[0m \u001b[0mcheck_scoring\u001b[0m\u001b[0;34m(\u001b[0m\u001b[0mestimator\u001b[0m\u001b[0;34m,\u001b[0m \u001b[0mscoring\u001b[0m\u001b[0;34m=\u001b[0m\u001b[0mscoring\u001b[0m\u001b[0;34m)\u001b[0m\u001b[0;34m\u001b[0m\u001b[0;34m\u001b[0m\u001b[0m\n\u001b[1;32m    444\u001b[0m \u001b[0;34m\u001b[0m\u001b[0m\n\u001b[0;32m--> 445\u001b[0;31m     cv_results = cross_validate(estimator=estimator, X=X, y=y, groups=groups,\n\u001b[0m\u001b[1;32m    446\u001b[0m                                 \u001b[0mscoring\u001b[0m\u001b[0;34m=\u001b[0m\u001b[0;34m{\u001b[0m\u001b[0;34m'score'\u001b[0m\u001b[0;34m:\u001b[0m \u001b[0mscorer\u001b[0m\u001b[0;34m}\u001b[0m\u001b[0;34m,\u001b[0m \u001b[0mcv\u001b[0m\u001b[0;34m=\u001b[0m\u001b[0mcv\u001b[0m\u001b[0;34m,\u001b[0m\u001b[0;34m\u001b[0m\u001b[0;34m\u001b[0m\u001b[0m\n\u001b[1;32m    447\u001b[0m                                 \u001b[0mn_jobs\u001b[0m\u001b[0;34m=\u001b[0m\u001b[0mn_jobs\u001b[0m\u001b[0;34m,\u001b[0m \u001b[0mverbose\u001b[0m\u001b[0;34m=\u001b[0m\u001b[0mverbose\u001b[0m\u001b[0;34m,\u001b[0m\u001b[0;34m\u001b[0m\u001b[0;34m\u001b[0m\u001b[0m\n",
      "\u001b[0;32m~/opt/anaconda3/envs/metis/lib/python3.8/site-packages/sklearn/utils/validation.py\u001b[0m in \u001b[0;36minner_f\u001b[0;34m(*args, **kwargs)\u001b[0m\n\u001b[1;32m     61\u001b[0m             \u001b[0mextra_args\u001b[0m \u001b[0;34m=\u001b[0m \u001b[0mlen\u001b[0m\u001b[0;34m(\u001b[0m\u001b[0margs\u001b[0m\u001b[0;34m)\u001b[0m \u001b[0;34m-\u001b[0m \u001b[0mlen\u001b[0m\u001b[0;34m(\u001b[0m\u001b[0mall_args\u001b[0m\u001b[0;34m)\u001b[0m\u001b[0;34m\u001b[0m\u001b[0;34m\u001b[0m\u001b[0m\n\u001b[1;32m     62\u001b[0m             \u001b[0;32mif\u001b[0m \u001b[0mextra_args\u001b[0m \u001b[0;34m<=\u001b[0m \u001b[0;36m0\u001b[0m\u001b[0;34m:\u001b[0m\u001b[0;34m\u001b[0m\u001b[0;34m\u001b[0m\u001b[0m\n\u001b[0;32m---> 63\u001b[0;31m                 \u001b[0;32mreturn\u001b[0m \u001b[0mf\u001b[0m\u001b[0;34m(\u001b[0m\u001b[0;34m*\u001b[0m\u001b[0margs\u001b[0m\u001b[0;34m,\u001b[0m \u001b[0;34m**\u001b[0m\u001b[0mkwargs\u001b[0m\u001b[0;34m)\u001b[0m\u001b[0;34m\u001b[0m\u001b[0;34m\u001b[0m\u001b[0m\n\u001b[0m\u001b[1;32m     64\u001b[0m \u001b[0;34m\u001b[0m\u001b[0m\n\u001b[1;32m     65\u001b[0m             \u001b[0;31m# extra_args > 0\u001b[0m\u001b[0;34m\u001b[0m\u001b[0;34m\u001b[0m\u001b[0;34m\u001b[0m\u001b[0m\n",
      "\u001b[0;32m~/opt/anaconda3/envs/metis/lib/python3.8/site-packages/sklearn/model_selection/_validation.py\u001b[0m in \u001b[0;36mcross_validate\u001b[0;34m(estimator, X, y, groups, scoring, cv, n_jobs, verbose, fit_params, pre_dispatch, return_train_score, return_estimator, error_score)\u001b[0m\n\u001b[1;32m    248\u001b[0m     parallel = Parallel(n_jobs=n_jobs, verbose=verbose,\n\u001b[1;32m    249\u001b[0m                         pre_dispatch=pre_dispatch)\n\u001b[0;32m--> 250\u001b[0;31m     results = parallel(\n\u001b[0m\u001b[1;32m    251\u001b[0m         delayed(_fit_and_score)(\n\u001b[1;32m    252\u001b[0m             \u001b[0mclone\u001b[0m\u001b[0;34m(\u001b[0m\u001b[0mestimator\u001b[0m\u001b[0;34m)\u001b[0m\u001b[0;34m,\u001b[0m \u001b[0mX\u001b[0m\u001b[0;34m,\u001b[0m \u001b[0my\u001b[0m\u001b[0;34m,\u001b[0m \u001b[0mscorers\u001b[0m\u001b[0;34m,\u001b[0m \u001b[0mtrain\u001b[0m\u001b[0;34m,\u001b[0m \u001b[0mtest\u001b[0m\u001b[0;34m,\u001b[0m \u001b[0mverbose\u001b[0m\u001b[0;34m,\u001b[0m \u001b[0;32mNone\u001b[0m\u001b[0;34m,\u001b[0m\u001b[0;34m\u001b[0m\u001b[0;34m\u001b[0m\u001b[0m\n",
      "\u001b[0;32m~/opt/anaconda3/envs/metis/lib/python3.8/site-packages/joblib/parallel.py\u001b[0m in \u001b[0;36m__call__\u001b[0;34m(self, iterable)\u001b[0m\n\u001b[1;32m   1042\u001b[0m                 \u001b[0mself\u001b[0m\u001b[0;34m.\u001b[0m\u001b[0m_iterating\u001b[0m \u001b[0;34m=\u001b[0m \u001b[0mself\u001b[0m\u001b[0;34m.\u001b[0m\u001b[0m_original_iterator\u001b[0m \u001b[0;32mis\u001b[0m \u001b[0;32mnot\u001b[0m \u001b[0;32mNone\u001b[0m\u001b[0;34m\u001b[0m\u001b[0;34m\u001b[0m\u001b[0m\n\u001b[1;32m   1043\u001b[0m \u001b[0;34m\u001b[0m\u001b[0m\n\u001b[0;32m-> 1044\u001b[0;31m             \u001b[0;32mwhile\u001b[0m \u001b[0mself\u001b[0m\u001b[0;34m.\u001b[0m\u001b[0mdispatch_one_batch\u001b[0m\u001b[0;34m(\u001b[0m\u001b[0miterator\u001b[0m\u001b[0;34m)\u001b[0m\u001b[0;34m:\u001b[0m\u001b[0;34m\u001b[0m\u001b[0;34m\u001b[0m\u001b[0m\n\u001b[0m\u001b[1;32m   1045\u001b[0m                 \u001b[0;32mpass\u001b[0m\u001b[0;34m\u001b[0m\u001b[0;34m\u001b[0m\u001b[0m\n\u001b[1;32m   1046\u001b[0m \u001b[0;34m\u001b[0m\u001b[0m\n",
      "\u001b[0;32m~/opt/anaconda3/envs/metis/lib/python3.8/site-packages/joblib/parallel.py\u001b[0m in \u001b[0;36mdispatch_one_batch\u001b[0;34m(self, iterator)\u001b[0m\n\u001b[1;32m    857\u001b[0m                 \u001b[0;32mreturn\u001b[0m \u001b[0;32mFalse\u001b[0m\u001b[0;34m\u001b[0m\u001b[0;34m\u001b[0m\u001b[0m\n\u001b[1;32m    858\u001b[0m             \u001b[0;32melse\u001b[0m\u001b[0;34m:\u001b[0m\u001b[0;34m\u001b[0m\u001b[0;34m\u001b[0m\u001b[0m\n\u001b[0;32m--> 859\u001b[0;31m                 \u001b[0mself\u001b[0m\u001b[0;34m.\u001b[0m\u001b[0m_dispatch\u001b[0m\u001b[0;34m(\u001b[0m\u001b[0mtasks\u001b[0m\u001b[0;34m)\u001b[0m\u001b[0;34m\u001b[0m\u001b[0;34m\u001b[0m\u001b[0m\n\u001b[0m\u001b[1;32m    860\u001b[0m                 \u001b[0;32mreturn\u001b[0m \u001b[0;32mTrue\u001b[0m\u001b[0;34m\u001b[0m\u001b[0;34m\u001b[0m\u001b[0m\n\u001b[1;32m    861\u001b[0m \u001b[0;34m\u001b[0m\u001b[0m\n",
      "\u001b[0;32m~/opt/anaconda3/envs/metis/lib/python3.8/site-packages/joblib/parallel.py\u001b[0m in \u001b[0;36m_dispatch\u001b[0;34m(self, batch)\u001b[0m\n\u001b[1;32m    775\u001b[0m         \u001b[0;32mwith\u001b[0m \u001b[0mself\u001b[0m\u001b[0;34m.\u001b[0m\u001b[0m_lock\u001b[0m\u001b[0;34m:\u001b[0m\u001b[0;34m\u001b[0m\u001b[0;34m\u001b[0m\u001b[0m\n\u001b[1;32m    776\u001b[0m             \u001b[0mjob_idx\u001b[0m \u001b[0;34m=\u001b[0m \u001b[0mlen\u001b[0m\u001b[0;34m(\u001b[0m\u001b[0mself\u001b[0m\u001b[0;34m.\u001b[0m\u001b[0m_jobs\u001b[0m\u001b[0;34m)\u001b[0m\u001b[0;34m\u001b[0m\u001b[0;34m\u001b[0m\u001b[0m\n\u001b[0;32m--> 777\u001b[0;31m             \u001b[0mjob\u001b[0m \u001b[0;34m=\u001b[0m \u001b[0mself\u001b[0m\u001b[0;34m.\u001b[0m\u001b[0m_backend\u001b[0m\u001b[0;34m.\u001b[0m\u001b[0mapply_async\u001b[0m\u001b[0;34m(\u001b[0m\u001b[0mbatch\u001b[0m\u001b[0;34m,\u001b[0m \u001b[0mcallback\u001b[0m\u001b[0;34m=\u001b[0m\u001b[0mcb\u001b[0m\u001b[0;34m)\u001b[0m\u001b[0;34m\u001b[0m\u001b[0;34m\u001b[0m\u001b[0m\n\u001b[0m\u001b[1;32m    778\u001b[0m             \u001b[0;31m# A job can complete so quickly than its callback is\u001b[0m\u001b[0;34m\u001b[0m\u001b[0;34m\u001b[0m\u001b[0;34m\u001b[0m\u001b[0m\n\u001b[1;32m    779\u001b[0m             \u001b[0;31m# called before we get here, causing self._jobs to\u001b[0m\u001b[0;34m\u001b[0m\u001b[0;34m\u001b[0m\u001b[0;34m\u001b[0m\u001b[0m\n",
      "\u001b[0;32m~/opt/anaconda3/envs/metis/lib/python3.8/site-packages/joblib/_parallel_backends.py\u001b[0m in \u001b[0;36mapply_async\u001b[0;34m(self, func, callback)\u001b[0m\n\u001b[1;32m    206\u001b[0m     \u001b[0;32mdef\u001b[0m \u001b[0mapply_async\u001b[0m\u001b[0;34m(\u001b[0m\u001b[0mself\u001b[0m\u001b[0;34m,\u001b[0m \u001b[0mfunc\u001b[0m\u001b[0;34m,\u001b[0m \u001b[0mcallback\u001b[0m\u001b[0;34m=\u001b[0m\u001b[0;32mNone\u001b[0m\u001b[0;34m)\u001b[0m\u001b[0;34m:\u001b[0m\u001b[0;34m\u001b[0m\u001b[0;34m\u001b[0m\u001b[0m\n\u001b[1;32m    207\u001b[0m         \u001b[0;34m\"\"\"Schedule a func to be run\"\"\"\u001b[0m\u001b[0;34m\u001b[0m\u001b[0;34m\u001b[0m\u001b[0m\n\u001b[0;32m--> 208\u001b[0;31m         \u001b[0mresult\u001b[0m \u001b[0;34m=\u001b[0m \u001b[0mImmediateResult\u001b[0m\u001b[0;34m(\u001b[0m\u001b[0mfunc\u001b[0m\u001b[0;34m)\u001b[0m\u001b[0;34m\u001b[0m\u001b[0;34m\u001b[0m\u001b[0m\n\u001b[0m\u001b[1;32m    209\u001b[0m         \u001b[0;32mif\u001b[0m \u001b[0mcallback\u001b[0m\u001b[0;34m:\u001b[0m\u001b[0;34m\u001b[0m\u001b[0;34m\u001b[0m\u001b[0m\n\u001b[1;32m    210\u001b[0m             \u001b[0mcallback\u001b[0m\u001b[0;34m(\u001b[0m\u001b[0mresult\u001b[0m\u001b[0;34m)\u001b[0m\u001b[0;34m\u001b[0m\u001b[0;34m\u001b[0m\u001b[0m\n",
      "\u001b[0;32m~/opt/anaconda3/envs/metis/lib/python3.8/site-packages/joblib/_parallel_backends.py\u001b[0m in \u001b[0;36m__init__\u001b[0;34m(self, batch)\u001b[0m\n\u001b[1;32m    570\u001b[0m         \u001b[0;31m# Don't delay the application, to avoid keeping the input\u001b[0m\u001b[0;34m\u001b[0m\u001b[0;34m\u001b[0m\u001b[0;34m\u001b[0m\u001b[0m\n\u001b[1;32m    571\u001b[0m         \u001b[0;31m# arguments in memory\u001b[0m\u001b[0;34m\u001b[0m\u001b[0;34m\u001b[0m\u001b[0;34m\u001b[0m\u001b[0m\n\u001b[0;32m--> 572\u001b[0;31m         \u001b[0mself\u001b[0m\u001b[0;34m.\u001b[0m\u001b[0mresults\u001b[0m \u001b[0;34m=\u001b[0m \u001b[0mbatch\u001b[0m\u001b[0;34m(\u001b[0m\u001b[0;34m)\u001b[0m\u001b[0;34m\u001b[0m\u001b[0;34m\u001b[0m\u001b[0m\n\u001b[0m\u001b[1;32m    573\u001b[0m \u001b[0;34m\u001b[0m\u001b[0m\n\u001b[1;32m    574\u001b[0m     \u001b[0;32mdef\u001b[0m \u001b[0mget\u001b[0m\u001b[0;34m(\u001b[0m\u001b[0mself\u001b[0m\u001b[0;34m)\u001b[0m\u001b[0;34m:\u001b[0m\u001b[0;34m\u001b[0m\u001b[0;34m\u001b[0m\u001b[0m\n",
      "\u001b[0;32m~/opt/anaconda3/envs/metis/lib/python3.8/site-packages/joblib/parallel.py\u001b[0m in \u001b[0;36m__call__\u001b[0;34m(self)\u001b[0m\n\u001b[1;32m    260\u001b[0m         \u001b[0;31m# change the default number of processes to -1\u001b[0m\u001b[0;34m\u001b[0m\u001b[0;34m\u001b[0m\u001b[0;34m\u001b[0m\u001b[0m\n\u001b[1;32m    261\u001b[0m         \u001b[0;32mwith\u001b[0m \u001b[0mparallel_backend\u001b[0m\u001b[0;34m(\u001b[0m\u001b[0mself\u001b[0m\u001b[0;34m.\u001b[0m\u001b[0m_backend\u001b[0m\u001b[0;34m,\u001b[0m \u001b[0mn_jobs\u001b[0m\u001b[0;34m=\u001b[0m\u001b[0mself\u001b[0m\u001b[0;34m.\u001b[0m\u001b[0m_n_jobs\u001b[0m\u001b[0;34m)\u001b[0m\u001b[0;34m:\u001b[0m\u001b[0;34m\u001b[0m\u001b[0;34m\u001b[0m\u001b[0m\n\u001b[0;32m--> 262\u001b[0;31m             return [func(*args, **kwargs)\n\u001b[0m\u001b[1;32m    263\u001b[0m                     for func, args, kwargs in self.items]\n\u001b[1;32m    264\u001b[0m \u001b[0;34m\u001b[0m\u001b[0m\n",
      "\u001b[0;32m~/opt/anaconda3/envs/metis/lib/python3.8/site-packages/joblib/parallel.py\u001b[0m in \u001b[0;36m<listcomp>\u001b[0;34m(.0)\u001b[0m\n\u001b[1;32m    260\u001b[0m         \u001b[0;31m# change the default number of processes to -1\u001b[0m\u001b[0;34m\u001b[0m\u001b[0;34m\u001b[0m\u001b[0;34m\u001b[0m\u001b[0m\n\u001b[1;32m    261\u001b[0m         \u001b[0;32mwith\u001b[0m \u001b[0mparallel_backend\u001b[0m\u001b[0;34m(\u001b[0m\u001b[0mself\u001b[0m\u001b[0;34m.\u001b[0m\u001b[0m_backend\u001b[0m\u001b[0;34m,\u001b[0m \u001b[0mn_jobs\u001b[0m\u001b[0;34m=\u001b[0m\u001b[0mself\u001b[0m\u001b[0;34m.\u001b[0m\u001b[0m_n_jobs\u001b[0m\u001b[0;34m)\u001b[0m\u001b[0;34m:\u001b[0m\u001b[0;34m\u001b[0m\u001b[0;34m\u001b[0m\u001b[0m\n\u001b[0;32m--> 262\u001b[0;31m             return [func(*args, **kwargs)\n\u001b[0m\u001b[1;32m    263\u001b[0m                     for func, args, kwargs in self.items]\n\u001b[1;32m    264\u001b[0m \u001b[0;34m\u001b[0m\u001b[0m\n",
      "\u001b[0;32m~/opt/anaconda3/envs/metis/lib/python3.8/site-packages/sklearn/utils/fixes.py\u001b[0m in \u001b[0;36m__call__\u001b[0;34m(self, *args, **kwargs)\u001b[0m\n\u001b[1;32m    220\u001b[0m     \u001b[0;32mdef\u001b[0m \u001b[0m__call__\u001b[0m\u001b[0;34m(\u001b[0m\u001b[0mself\u001b[0m\u001b[0;34m,\u001b[0m \u001b[0;34m*\u001b[0m\u001b[0margs\u001b[0m\u001b[0;34m,\u001b[0m \u001b[0;34m**\u001b[0m\u001b[0mkwargs\u001b[0m\u001b[0;34m)\u001b[0m\u001b[0;34m:\u001b[0m\u001b[0;34m\u001b[0m\u001b[0;34m\u001b[0m\u001b[0m\n\u001b[1;32m    221\u001b[0m         \u001b[0;32mwith\u001b[0m \u001b[0mconfig_context\u001b[0m\u001b[0;34m(\u001b[0m\u001b[0;34m**\u001b[0m\u001b[0mself\u001b[0m\u001b[0;34m.\u001b[0m\u001b[0mconfig\u001b[0m\u001b[0;34m)\u001b[0m\u001b[0;34m:\u001b[0m\u001b[0;34m\u001b[0m\u001b[0;34m\u001b[0m\u001b[0m\n\u001b[0;32m--> 222\u001b[0;31m             \u001b[0;32mreturn\u001b[0m \u001b[0mself\u001b[0m\u001b[0;34m.\u001b[0m\u001b[0mfunction\u001b[0m\u001b[0;34m(\u001b[0m\u001b[0;34m*\u001b[0m\u001b[0margs\u001b[0m\u001b[0;34m,\u001b[0m \u001b[0;34m**\u001b[0m\u001b[0mkwargs\u001b[0m\u001b[0;34m)\u001b[0m\u001b[0;34m\u001b[0m\u001b[0;34m\u001b[0m\u001b[0m\n\u001b[0m",
      "\u001b[0;32m~/opt/anaconda3/envs/metis/lib/python3.8/site-packages/sklearn/model_selection/_validation.py\u001b[0m in \u001b[0;36m_fit_and_score\u001b[0;34m(estimator, X, y, scorer, train, test, verbose, parameters, fit_params, return_train_score, return_parameters, return_n_test_samples, return_times, return_estimator, split_progress, candidate_progress, error_score)\u001b[0m\n\u001b[1;32m    623\u001b[0m \u001b[0;34m\u001b[0m\u001b[0m\n\u001b[1;32m    624\u001b[0m         \u001b[0mfit_time\u001b[0m \u001b[0;34m=\u001b[0m \u001b[0mtime\u001b[0m\u001b[0;34m.\u001b[0m\u001b[0mtime\u001b[0m\u001b[0;34m(\u001b[0m\u001b[0;34m)\u001b[0m \u001b[0;34m-\u001b[0m \u001b[0mstart_time\u001b[0m\u001b[0;34m\u001b[0m\u001b[0;34m\u001b[0m\u001b[0m\n\u001b[0;32m--> 625\u001b[0;31m         \u001b[0mtest_scores\u001b[0m \u001b[0;34m=\u001b[0m \u001b[0m_score\u001b[0m\u001b[0;34m(\u001b[0m\u001b[0mestimator\u001b[0m\u001b[0;34m,\u001b[0m \u001b[0mX_test\u001b[0m\u001b[0;34m,\u001b[0m \u001b[0my_test\u001b[0m\u001b[0;34m,\u001b[0m \u001b[0mscorer\u001b[0m\u001b[0;34m,\u001b[0m \u001b[0merror_score\u001b[0m\u001b[0;34m)\u001b[0m\u001b[0;34m\u001b[0m\u001b[0;34m\u001b[0m\u001b[0m\n\u001b[0m\u001b[1;32m    626\u001b[0m         \u001b[0mscore_time\u001b[0m \u001b[0;34m=\u001b[0m \u001b[0mtime\u001b[0m\u001b[0;34m.\u001b[0m\u001b[0mtime\u001b[0m\u001b[0;34m(\u001b[0m\u001b[0;34m)\u001b[0m \u001b[0;34m-\u001b[0m \u001b[0mstart_time\u001b[0m \u001b[0;34m-\u001b[0m \u001b[0mfit_time\u001b[0m\u001b[0;34m\u001b[0m\u001b[0;34m\u001b[0m\u001b[0m\n\u001b[1;32m    627\u001b[0m         \u001b[0;32mif\u001b[0m \u001b[0mreturn_train_score\u001b[0m\u001b[0;34m:\u001b[0m\u001b[0;34m\u001b[0m\u001b[0;34m\u001b[0m\u001b[0m\n",
      "\u001b[0;32m~/opt/anaconda3/envs/metis/lib/python3.8/site-packages/sklearn/model_selection/_validation.py\u001b[0m in \u001b[0;36m_score\u001b[0;34m(estimator, X_test, y_test, scorer, error_score)\u001b[0m\n\u001b[1;32m    685\u001b[0m             \u001b[0mscores\u001b[0m \u001b[0;34m=\u001b[0m \u001b[0mscorer\u001b[0m\u001b[0;34m(\u001b[0m\u001b[0mestimator\u001b[0m\u001b[0;34m,\u001b[0m \u001b[0mX_test\u001b[0m\u001b[0;34m)\u001b[0m\u001b[0;34m\u001b[0m\u001b[0;34m\u001b[0m\u001b[0m\n\u001b[1;32m    686\u001b[0m         \u001b[0;32melse\u001b[0m\u001b[0;34m:\u001b[0m\u001b[0;34m\u001b[0m\u001b[0;34m\u001b[0m\u001b[0m\n\u001b[0;32m--> 687\u001b[0;31m             \u001b[0mscores\u001b[0m \u001b[0;34m=\u001b[0m \u001b[0mscorer\u001b[0m\u001b[0;34m(\u001b[0m\u001b[0mestimator\u001b[0m\u001b[0;34m,\u001b[0m \u001b[0mX_test\u001b[0m\u001b[0;34m,\u001b[0m \u001b[0my_test\u001b[0m\u001b[0;34m)\u001b[0m\u001b[0;34m\u001b[0m\u001b[0;34m\u001b[0m\u001b[0m\n\u001b[0m\u001b[1;32m    688\u001b[0m     \u001b[0;32mexcept\u001b[0m \u001b[0mException\u001b[0m\u001b[0;34m:\u001b[0m\u001b[0;34m\u001b[0m\u001b[0;34m\u001b[0m\u001b[0m\n\u001b[1;32m    689\u001b[0m         \u001b[0;32mif\u001b[0m \u001b[0merror_score\u001b[0m \u001b[0;34m==\u001b[0m \u001b[0;34m'raise'\u001b[0m\u001b[0;34m:\u001b[0m\u001b[0;34m\u001b[0m\u001b[0;34m\u001b[0m\u001b[0m\n",
      "\u001b[0;32m~/opt/anaconda3/envs/metis/lib/python3.8/site-packages/sklearn/metrics/_scorer.py\u001b[0m in \u001b[0;36m__call__\u001b[0;34m(self, estimator, *args, **kwargs)\u001b[0m\n\u001b[1;32m     85\u001b[0m         \u001b[0;32mfor\u001b[0m \u001b[0mname\u001b[0m\u001b[0;34m,\u001b[0m \u001b[0mscorer\u001b[0m \u001b[0;32min\u001b[0m \u001b[0mself\u001b[0m\u001b[0;34m.\u001b[0m\u001b[0m_scorers\u001b[0m\u001b[0;34m.\u001b[0m\u001b[0mitems\u001b[0m\u001b[0;34m(\u001b[0m\u001b[0;34m)\u001b[0m\u001b[0;34m:\u001b[0m\u001b[0;34m\u001b[0m\u001b[0;34m\u001b[0m\u001b[0m\n\u001b[1;32m     86\u001b[0m             \u001b[0;32mif\u001b[0m \u001b[0misinstance\u001b[0m\u001b[0;34m(\u001b[0m\u001b[0mscorer\u001b[0m\u001b[0;34m,\u001b[0m \u001b[0m_BaseScorer\u001b[0m\u001b[0;34m)\u001b[0m\u001b[0;34m:\u001b[0m\u001b[0;34m\u001b[0m\u001b[0;34m\u001b[0m\u001b[0m\n\u001b[0;32m---> 87\u001b[0;31m                 score = scorer._score(cached_call, estimator,\n\u001b[0m\u001b[1;32m     88\u001b[0m                                       *args, **kwargs)\n\u001b[1;32m     89\u001b[0m             \u001b[0;32melse\u001b[0m\u001b[0;34m:\u001b[0m\u001b[0;34m\u001b[0m\u001b[0;34m\u001b[0m\u001b[0m\n",
      "\u001b[0;32m~/opt/anaconda3/envs/metis/lib/python3.8/site-packages/sklearn/metrics/_scorer.py\u001b[0m in \u001b[0;36m_score\u001b[0;34m(self, method_caller, estimator, X, y_true, sample_weight)\u001b[0m\n\u001b[1;32m    234\u001b[0m         \"\"\"\n\u001b[1;32m    235\u001b[0m \u001b[0;34m\u001b[0m\u001b[0m\n\u001b[0;32m--> 236\u001b[0;31m         \u001b[0my_pred\u001b[0m \u001b[0;34m=\u001b[0m \u001b[0mmethod_caller\u001b[0m\u001b[0;34m(\u001b[0m\u001b[0mestimator\u001b[0m\u001b[0;34m,\u001b[0m \u001b[0;34m\"predict\"\u001b[0m\u001b[0;34m,\u001b[0m \u001b[0mX\u001b[0m\u001b[0;34m)\u001b[0m\u001b[0;34m\u001b[0m\u001b[0;34m\u001b[0m\u001b[0m\n\u001b[0m\u001b[1;32m    237\u001b[0m         \u001b[0;32mif\u001b[0m \u001b[0msample_weight\u001b[0m \u001b[0;32mis\u001b[0m \u001b[0;32mnot\u001b[0m \u001b[0;32mNone\u001b[0m\u001b[0;34m:\u001b[0m\u001b[0;34m\u001b[0m\u001b[0;34m\u001b[0m\u001b[0m\n\u001b[1;32m    238\u001b[0m             return self._sign * self._score_func(y_true, y_pred,\n",
      "\u001b[0;32m~/opt/anaconda3/envs/metis/lib/python3.8/site-packages/sklearn/metrics/_scorer.py\u001b[0m in \u001b[0;36m_cached_call\u001b[0;34m(cache, estimator, method, *args, **kwargs)\u001b[0m\n\u001b[1;32m     51\u001b[0m     \u001b[0;34m\"\"\"Call estimator with method and args and kwargs.\"\"\"\u001b[0m\u001b[0;34m\u001b[0m\u001b[0;34m\u001b[0m\u001b[0m\n\u001b[1;32m     52\u001b[0m     \u001b[0;32mif\u001b[0m \u001b[0mcache\u001b[0m \u001b[0;32mis\u001b[0m \u001b[0;32mNone\u001b[0m\u001b[0;34m:\u001b[0m\u001b[0;34m\u001b[0m\u001b[0;34m\u001b[0m\u001b[0m\n\u001b[0;32m---> 53\u001b[0;31m         \u001b[0;32mreturn\u001b[0m \u001b[0mgetattr\u001b[0m\u001b[0;34m(\u001b[0m\u001b[0mestimator\u001b[0m\u001b[0;34m,\u001b[0m \u001b[0mmethod\u001b[0m\u001b[0;34m)\u001b[0m\u001b[0;34m(\u001b[0m\u001b[0;34m*\u001b[0m\u001b[0margs\u001b[0m\u001b[0;34m,\u001b[0m \u001b[0;34m**\u001b[0m\u001b[0mkwargs\u001b[0m\u001b[0;34m)\u001b[0m\u001b[0;34m\u001b[0m\u001b[0;34m\u001b[0m\u001b[0m\n\u001b[0m\u001b[1;32m     54\u001b[0m \u001b[0;34m\u001b[0m\u001b[0m\n\u001b[1;32m     55\u001b[0m     \u001b[0;32mtry\u001b[0m\u001b[0;34m:\u001b[0m\u001b[0;34m\u001b[0m\u001b[0;34m\u001b[0m\u001b[0m\n",
      "\u001b[0;32m~/opt/anaconda3/envs/metis/lib/python3.8/site-packages/sklearn/neighbors/_classification.py\u001b[0m in \u001b[0;36mpredict\u001b[0;34m(self, X)\u001b[0m\n\u001b[1;32m    209\u001b[0m         \u001b[0;32mfor\u001b[0m \u001b[0mk\u001b[0m\u001b[0;34m,\u001b[0m \u001b[0mclasses_k\u001b[0m \u001b[0;32min\u001b[0m \u001b[0menumerate\u001b[0m\u001b[0;34m(\u001b[0m\u001b[0mclasses_\u001b[0m\u001b[0;34m)\u001b[0m\u001b[0;34m:\u001b[0m\u001b[0;34m\u001b[0m\u001b[0;34m\u001b[0m\u001b[0m\n\u001b[1;32m    210\u001b[0m             \u001b[0;32mif\u001b[0m \u001b[0mweights\u001b[0m \u001b[0;32mis\u001b[0m \u001b[0;32mNone\u001b[0m\u001b[0;34m:\u001b[0m\u001b[0;34m\u001b[0m\u001b[0;34m\u001b[0m\u001b[0m\n\u001b[0;32m--> 211\u001b[0;31m                 \u001b[0mmode\u001b[0m\u001b[0;34m,\u001b[0m \u001b[0m_\u001b[0m \u001b[0;34m=\u001b[0m \u001b[0mstats\u001b[0m\u001b[0;34m.\u001b[0m\u001b[0mmode\u001b[0m\u001b[0;34m(\u001b[0m\u001b[0m_y\u001b[0m\u001b[0;34m[\u001b[0m\u001b[0mneigh_ind\u001b[0m\u001b[0;34m,\u001b[0m \u001b[0mk\u001b[0m\u001b[0;34m]\u001b[0m\u001b[0;34m,\u001b[0m \u001b[0maxis\u001b[0m\u001b[0;34m=\u001b[0m\u001b[0;36m1\u001b[0m\u001b[0;34m)\u001b[0m\u001b[0;34m\u001b[0m\u001b[0;34m\u001b[0m\u001b[0m\n\u001b[0m\u001b[1;32m    212\u001b[0m             \u001b[0;32melse\u001b[0m\u001b[0;34m:\u001b[0m\u001b[0;34m\u001b[0m\u001b[0;34m\u001b[0m\u001b[0m\n\u001b[1;32m    213\u001b[0m                 \u001b[0mmode\u001b[0m\u001b[0;34m,\u001b[0m \u001b[0m_\u001b[0m \u001b[0;34m=\u001b[0m \u001b[0mweighted_mode\u001b[0m\u001b[0;34m(\u001b[0m\u001b[0m_y\u001b[0m\u001b[0;34m[\u001b[0m\u001b[0mneigh_ind\u001b[0m\u001b[0;34m,\u001b[0m \u001b[0mk\u001b[0m\u001b[0;34m]\u001b[0m\u001b[0;34m,\u001b[0m \u001b[0mweights\u001b[0m\u001b[0;34m,\u001b[0m \u001b[0maxis\u001b[0m\u001b[0;34m=\u001b[0m\u001b[0;36m1\u001b[0m\u001b[0;34m)\u001b[0m\u001b[0;34m\u001b[0m\u001b[0;34m\u001b[0m\u001b[0m\n",
      "\u001b[0;32m~/opt/anaconda3/envs/metis/lib/python3.8/site-packages/scipy/stats/stats.py\u001b[0m in \u001b[0;36mmode\u001b[0;34m(a, axis, nan_policy)\u001b[0m\n\u001b[1;32m    445\u001b[0m     \u001b[0mmodes\u001b[0m \u001b[0;34m=\u001b[0m \u001b[0mnp\u001b[0m\u001b[0;34m.\u001b[0m\u001b[0mempty\u001b[0m\u001b[0;34m(\u001b[0m\u001b[0ma_view\u001b[0m\u001b[0;34m.\u001b[0m\u001b[0mshape\u001b[0m\u001b[0;34m[\u001b[0m\u001b[0;34m:\u001b[0m\u001b[0;34m-\u001b[0m\u001b[0;36m1\u001b[0m\u001b[0;34m]\u001b[0m\u001b[0;34m,\u001b[0m \u001b[0mdtype\u001b[0m\u001b[0;34m=\u001b[0m\u001b[0ma\u001b[0m\u001b[0;34m.\u001b[0m\u001b[0mdtype\u001b[0m\u001b[0;34m)\u001b[0m\u001b[0;34m\u001b[0m\u001b[0;34m\u001b[0m\u001b[0m\n\u001b[1;32m    446\u001b[0m     \u001b[0mcounts\u001b[0m \u001b[0;34m=\u001b[0m \u001b[0mnp\u001b[0m\u001b[0;34m.\u001b[0m\u001b[0mempty\u001b[0m\u001b[0;34m(\u001b[0m\u001b[0ma_view\u001b[0m\u001b[0;34m.\u001b[0m\u001b[0mshape\u001b[0m\u001b[0;34m[\u001b[0m\u001b[0;34m:\u001b[0m\u001b[0;34m-\u001b[0m\u001b[0;36m1\u001b[0m\u001b[0;34m]\u001b[0m\u001b[0;34m,\u001b[0m \u001b[0mdtype\u001b[0m\u001b[0;34m=\u001b[0m\u001b[0mnp\u001b[0m\u001b[0;34m.\u001b[0m\u001b[0mint_\u001b[0m\u001b[0;34m)\u001b[0m\u001b[0;34m\u001b[0m\u001b[0;34m\u001b[0m\u001b[0m\n\u001b[0;32m--> 447\u001b[0;31m     \u001b[0;32mfor\u001b[0m \u001b[0mind\u001b[0m \u001b[0;32min\u001b[0m \u001b[0minds\u001b[0m\u001b[0;34m:\u001b[0m\u001b[0;34m\u001b[0m\u001b[0;34m\u001b[0m\u001b[0m\n\u001b[0m\u001b[1;32m    448\u001b[0m         \u001b[0mmodes\u001b[0m\u001b[0;34m[\u001b[0m\u001b[0mind\u001b[0m\u001b[0;34m]\u001b[0m\u001b[0;34m,\u001b[0m \u001b[0mcounts\u001b[0m\u001b[0;34m[\u001b[0m\u001b[0mind\u001b[0m\u001b[0;34m]\u001b[0m \u001b[0;34m=\u001b[0m \u001b[0m_mode1D\u001b[0m\u001b[0;34m(\u001b[0m\u001b[0ma_view\u001b[0m\u001b[0;34m[\u001b[0m\u001b[0mind\u001b[0m\u001b[0;34m]\u001b[0m\u001b[0;34m)\u001b[0m\u001b[0;34m\u001b[0m\u001b[0;34m\u001b[0m\u001b[0m\n\u001b[1;32m    449\u001b[0m     \u001b[0mnewshape\u001b[0m \u001b[0;34m=\u001b[0m \u001b[0mlist\u001b[0m\u001b[0;34m(\u001b[0m\u001b[0ma\u001b[0m\u001b[0;34m.\u001b[0m\u001b[0mshape\u001b[0m\u001b[0;34m)\u001b[0m\u001b[0;34m\u001b[0m\u001b[0;34m\u001b[0m\u001b[0m\n",
      "\u001b[0;32m~/opt/anaconda3/envs/metis/lib/python3.8/site-packages/numpy/lib/index_tricks.py\u001b[0m in \u001b[0;36m__next__\u001b[0;34m(self)\u001b[0m\n\u001b[1;32m    694\u001b[0m         \"\"\"\n\u001b[1;32m    695\u001b[0m         \u001b[0mnext\u001b[0m\u001b[0;34m(\u001b[0m\u001b[0mself\u001b[0m\u001b[0;34m.\u001b[0m\u001b[0m_it\u001b[0m\u001b[0;34m)\u001b[0m\u001b[0;34m\u001b[0m\u001b[0;34m\u001b[0m\u001b[0m\n\u001b[0;32m--> 696\u001b[0;31m         \u001b[0;32mreturn\u001b[0m \u001b[0mself\u001b[0m\u001b[0;34m.\u001b[0m\u001b[0m_it\u001b[0m\u001b[0;34m.\u001b[0m\u001b[0mmulti_index\u001b[0m\u001b[0;34m\u001b[0m\u001b[0;34m\u001b[0m\u001b[0m\n\u001b[0m\u001b[1;32m    697\u001b[0m \u001b[0;34m\u001b[0m\u001b[0m\n\u001b[1;32m    698\u001b[0m \u001b[0;34m\u001b[0m\u001b[0m\n",
      "\u001b[0;31mKeyboardInterrupt\u001b[0m: "
     ]
    }
   ],
   "source": [
    "X = df_train[colnames_mfcc16+formant_features]\n",
    "y_sc = df_train['is_scottish']\n",
    "y_we = df_train['is_welsh']\n",
    "y_no = df_train['is_northern']\n",
    "y_so = df_train['is_southern']\n",
    "\n",
    "k_range = list(range(1,31))\n",
    "k_scores_sc = []\n",
    "k_scores_so = []\n",
    "k_scores_no = []\n",
    "k_scores_we = []\n",
    "k_scores_all = []\n",
    "\n",
    "for k in tqdm(k_range):\n",
    "    knn = KNeighborsClassifier(n_neighbors=k)\n",
    "    scores = cross_val_score(knn, X, y_sc, cv=10, scoring='f1')  # y_sc = Scottish v. rest, etc.\n",
    "    k_scores_sc.append(scores.mean())\n",
    "    scores = cross_val_score(knn, X, y_so, cv=10, scoring='f1')  \n",
    "    k_scores_so.append(scores.mean())\n",
    "    scores = cross_val_score(knn, X, y_no, cv=10, scoring='f1')  \n",
    "    k_scores_no.append(scores.mean())\n",
    "    scores = cross_val_score(knn, X, y_we, cv=10, scoring='f1') \n",
    "    k_scores_we.append(scores.mean())\n",
    "    score = (k_scores_sc[-1] + k_scores_so[-1] +\n",
    "             k_scores_no[-1] + k_scores_we[-1]) / 4\n",
    "    k_scores_all.append(score)\n",
    "\n",
    "fig, ax = plt.subplots()\n",
    "\n",
    "ax.plot(k_scores_sc, color = 'green', label = 'Scottish')\n",
    "ax.plot(k_scores_we, color = 'blue', label = 'Welsh')\n",
    "ax.plot(k_scores_no, color = 'yellow', label = 'Northern')\n",
    "ax.plot(k_scores_so, color = 'red', label = 'Southern')\n",
    "ax.plot(k_scores_all, color = 'black', label = '4-CLASS MEAN')\n",
    "ax.legend(loc = 'upper right')\n",
    "plt.xlabel('Value of K for KNN')\n",
    "plt.ylabel('Cross-Validated F1 Score')\n",
    "plt.show()"
   ]
  },
  {
   "cell_type": "code",
   "execution_count": null,
   "id": "33ee5c34",
   "metadata": {},
   "outputs": [],
   "source": [
    "# For checking CV scores of different models and parameters\n",
    "\n",
    "model = KNeighborsClassifier(n_neighbors=) # enter k here\n",
    "# model = LogisticRegression(solver='liblinear')   # optional: class_weight='balanced'\n",
    "# model = DecisionTreeClassifier(max_depth=)\n",
    "# model = RandomForestClassifier(n_estimators=) # optional: class_weight='balanced'\n",
    "\n",
    "X = df_train[colnames_mfcc16]\n",
    "y_sc = df_train['is_scottish']\n",
    "y_we = df_train['is_welsh']\n",
    "y_no = df_train['is_northern']\n",
    "y_so = df_train['is_southern']\n",
    "\n",
    "scores_sc = cross_val_score(knn, X, y_sc, cv=10, scoring='f1')\n",
    "scores_we = cross_val_score(knn, X, y_we, cv=10, scoring='f1')\n",
    "scores_no = cross_val_score(knn, X, y_no, cv=10, scoring='f1')\n",
    "scores_so = cross_val_score(knn, X, y_so, cv=10, scoring='f1')\n",
    "\n",
    "print(f'CV scores for Scottish: Mean={np.mean(scores_sc)}, \\n List: {scores_sc}')\n",
    "print(f'CV scores for Welsh:    Mean={np.mean(scores_we)}, \\n List: {scores_we}')\n",
    "print(f'CV scores for Northern: Mean={np.mean(scores_no)}, \\n List: {scores_no}')\n",
    "print(f'CV scores for Southern: Mean={np.mean(scores_so)}, \\n List: {scores_so}')\n",
    "\n",
    "mean_CV = np.mean([np.mean(scores_sc), np.mean(scores_we),  \n",
    "                   np.mean(scores_so), np.mean(scores_no)])\n",
    "\n",
    "print(f'\\n Mean CV across all four classes: {mean_CV}')"
   ]
  },
  {
   "cell_type": "markdown",
   "id": "081cbfbe",
   "metadata": {},
   "source": [
    "**Decision tree: max_depth = 3**  \n",
    "Shallower decision trees seem to generalize better."
   ]
  },
  {
   "cell_type": "code",
   "execution_count": null,
   "id": "64ad2195",
   "metadata": {},
   "outputs": [],
   "source": [
    "depth_range = list(range(1,31))\n",
    "max_depth_sc = []\n",
    "max_depth_so = []\n",
    "max_depth_no = []\n",
    "max_depth_we = []\n",
    "max_depth_mean = []\n",
    "\n",
    "for maxdepth in tqdm(depth_range):\n",
    "    dtc = DecisionTreeClassifier(max_depth=maxdepth)\n",
    "    scores = cross_val_score(dtc, X, y_sc, cv=10, scoring='f1')  # y_sc = Scottish v. rest, etc.\n",
    "    max_depth_sc.append(scores.mean())\n",
    "    scores = cross_val_score(dtc, X, y_so, cv=10, scoring='f1')  \n",
    "    max_depth_so.append(scores.mean())\n",
    "    scores = cross_val_score(dtc, X, y_no, cv=10, scoring='f1')  \n",
    "    max_depth_no.append(scores.mean())\n",
    "    scores = cross_val_score(dtc, X, y_we, cv=10, scoring='f1') \n",
    "    max_depth_we.append(scores.mean())\n",
    "    score = (max_depth_sc[-1] + max_depth_so[-1] +\n",
    "             max_depth_no[-1] + max_depth_we[-1]) / 4\n",
    "    max_depth_mean.append(score)\n",
    "\n",
    "fig, ax = plt.subplots()\n",
    "\n",
    "ax.plot(max_depth_sc, color = 'green', label = 'Scottish')\n",
    "ax.plot(max_depth_we, color = 'blue', label = 'Welsh')\n",
    "ax.plot(max_depth_no, color = 'yellow', label = 'Northern')\n",
    "ax.plot(max_depth_so, color = 'red', label = 'Southern')\n",
    "ax.plot(max_depth_mean, color = 'black', label = '4-CLASS MEAN')\n",
    "ax.legend(loc = 'upper right')\n",
    "plt.xlabel('Max_depth - DecisionTreeClassifier')\n",
    "plt.ylabel('Cross-Validated F1 Score')\n",
    "plt.show()"
   ]
  },
  {
   "cell_type": "markdown",
   "id": "daac3978",
   "metadata": {},
   "source": [
    "**Logistic regression:**  C=0.01  \n",
    "Determined best regularization strength using GridSearchCV."
   ]
  },
  {
   "cell_type": "code",
   "execution_count": 15,
   "id": "98863f1b",
   "metadata": {},
   "outputs": [
    {
     "name": "stdout",
     "output_type": "stream",
     "text": [
      "{'C': 0.01}\n"
     ]
    }
   ],
   "source": [
    "lr = LogisticRegression(solver='liblinear', class_weight='balanced')\n",
    "\n",
    "parameters = {\n",
    "     \"C\"    : [0.01, 0.10, 1.0, 10.0, 100.0, 1000.0, 10000.0, 100000.0]\n",
    "     }\n",
    "\n",
    "grid = GridSearchCV(lr,\n",
    "                     parameters, n_jobs=4,\n",
    "                     scoring=\"neg_log_loss\",\n",
    "                     cv=3)\n",
    "\n",
    "X_train = df_train[colnames_mfcc16+formant_features]\n",
    "y_train = df_train['label']\n",
    "grid.fit(X_train, y_train)\n",
    "print(grid.best_params_)"
   ]
  },
  {
   "cell_type": "markdown",
   "id": "d05b56bd",
   "metadata": {},
   "source": [
    "**Random forest: n_estimators = 100**  \n",
    "No appreciable change in F1 score over the range examined."
   ]
  },
  {
   "cell_type": "code",
   "execution_count": null,
   "id": "018fcbeb",
   "metadata": {},
   "outputs": [],
   "source": [
    "est_range = list(range(5,205,5))\n",
    "n_est_sc = []\n",
    "n_est_so = []\n",
    "n_est_no = []\n",
    "n_est_we = []\n",
    "n_est_mean = []\n",
    "\n",
    "for n_est in tqdm(est_range):\n",
    "    rf = RandomForestClassifier(n_estimators=n_est)\n",
    "    scores = cross_val_score(rf, X, y_sc, cv=10, scoring='f1')  # y_sc = Scottish v. rest, etc.\n",
    "    n_est_sc.append(scores.mean())\n",
    "    scores = cross_val_score(rf, X, y_so, cv=10, scoring='f1')  \n",
    "    n_est_so.append(scores.mean())\n",
    "    scores = cross_val_score(rf, X, y_no, cv=10, scoring='f1')  \n",
    "    n_est_no.append(scores.mean())\n",
    "    scores = cross_val_score(rf, X, y_we, cv=10, scoring='f1') \n",
    "    n_est_we.append(scores.mean())\n",
    "    score = (n_est_sc[-1] + n_est_so[-1] +\n",
    "             n_est_no[-1] + n_est_we[-1]) / 4\n",
    "    n_est_mean.append(score)"
   ]
  },
  {
   "cell_type": "code",
   "execution_count": null,
   "id": "d0d3eb02",
   "metadata": {},
   "outputs": [],
   "source": [
    "fig, ax = plt.subplots()\n",
    "# multiply x-axis value by 5 for n_estimators: e.g. '20' * 5 = 100\n",
    "\n",
    "ax.plot(n_est_sc, color = 'green', label = 'Scottish')\n",
    "ax.plot(n_est_we, color = 'blue', label = 'Welsh')\n",
    "ax.plot(n_est_no, color = 'yellow', label = 'Northern')\n",
    "ax.plot(n_est_so, color = 'red', label = 'Southern')\n",
    "ax.plot(n_est_mean, color = 'black', label = '4-CLASS MEAN')\n",
    "ax.legend(loc = 'upper right')\n",
    "plt.xlabel('Number of estimators (RF)')\n",
    "plt.ylabel('Cross-Validated F1 Score')\n",
    "plt.show()"
   ]
  },
  {
   "cell_type": "markdown",
   "id": "9e2b93c9",
   "metadata": {},
   "source": [
    "**XGBoost:** Parameters optimized (for multiclass) using GridSearchCV:"
   ]
  },
  {
   "cell_type": "code",
   "execution_count": null,
   "id": "ece328a2",
   "metadata": {},
   "outputs": [],
   "source": [
    "# DO NOT RE-RUN: processing takes FOREVER\n",
    "# Result (multiclass): {'colsample_bytree': 0.7, 'eta': 0.05, 'gamma': 0.0, 'max_depth': 15, 'min_child_weight': 1}\n",
    "\n",
    "# X_train = df_train2[colnames_mfcc16+formant_features]  \n",
    "# y_train = df_train2['label']\n",
    "# X_val   = df_val[colnames_mfcc16   +formant_features]\n",
    "# y_val   = df_val['label']\n",
    "# X_test  = df_test[colnames_mfcc16  +formant_features]\n",
    "# y_test  = df_test['label']\n",
    "\n",
    "# clf = xgb.XGBClassifier(use_label_encoder=False)\n",
    "\n",
    "# parameters = {\n",
    "#      \"eta\"    : [0.05, 0.10, 0.15, 0.20, 0.25, 0.30 ],\n",
    "#      \"max_depth\"        : [ 3, 4, 5, 6, 8, 10, 12, 15],\n",
    "#      \"min_child_weight\" : [ 1, 3, 5, 7 ],\n",
    "#      \"gamma\"            : [ 0.0, 0.1, 0.2 , 0.3, 0.4 ],\n",
    "#      \"colsample_bytree\" : [ 0.3, 0.4, 0.5 , 0.7 ]\n",
    "#      }\n",
    "\n",
    "# grid = GridSearchCV(clf,\n",
    "#                     parameters, n_jobs=4,\n",
    "#                     scoring=\"neg_log_loss\",\n",
    "#                     cv=3)\n",
    "\n",
    "# grid.fit(X_train, y_train)\n",
    "# print(grid.best_params_)"
   ]
  },
  {
   "cell_type": "markdown",
   "id": "e7d20378",
   "metadata": {},
   "source": [
    "## Current models"
   ]
  },
  {
   "cell_type": "code",
   "execution_count": 16,
   "id": "f9c57dec",
   "metadata": {},
   "outputs": [],
   "source": [
    "def get_confusion_matrix(model):\n",
    "    \n",
    "    model.fit(X_train, y_train)\n",
    "    y_pred = model.predict(X_test)\n",
    "    \n",
    "    fig, ax = plt.subplots(figsize=(6,6))\n",
    "    sns.heatmap(confusion_matrix(y_test, y_pred), annot=True, cmap='Blues', \\\n",
    "            fmt='g', xticklabels=labels, yticklabels=labels, ax=ax)\n",
    "\n",
    "    print(classification_report(y_test, y_pred))"
   ]
  },
  {
   "cell_type": "markdown",
   "id": "a2123994",
   "metadata": {},
   "source": [
    "1-4. **KNN, logistic regression, decision tree, and random forest**"
   ]
  },
  {
   "cell_type": "code",
   "execution_count": 19,
   "id": "be5f2cf9",
   "metadata": {},
   "outputs": [
    {
     "name": "stdout",
     "output_type": "stream",
     "text": [
      "              precision    recall  f1-score   support\n",
      "\n",
      "          no       0.60      0.25      0.35       600\n",
      "          sc       0.31      0.14      0.19       600\n",
      "          so       0.66      0.85      0.74      1780\n",
      "          we       0.48      0.61      0.54       600\n",
      "\n",
      "    accuracy                           0.59      3580\n",
      "   macro avg       0.51      0.46      0.45      3580\n",
      "weighted avg       0.56      0.59      0.55      3580\n",
      "\n"
     ]
    },
    {
     "data": {
      "image/png": "[encoded data removed]",
      "text/plain": [
       "<Figure size 432x432 with 2 Axes>"
      ]
     },
     "metadata": {
      "needs_background": "light"
     },
     "output_type": "display_data"
    }
   ],
   "source": [
    "X_train = df_train[colnames_mfcc16+formant_features]\n",
    "y_train = df_train['label']\n",
    "X_test = df_test[colnames_mfcc16+formant_features]\n",
    "y_test = df_test['label']\n",
    "\n",
    "# model = KNeighborsClassifier(n_neighbors=5)\n",
    "model = LogisticRegression(C=0.1, solver='liblinear')      # optional: class_weight='balanced'\n",
    "# model = DecisionTreeClassifier(max_depth=16, class_weight='balanced')        # optional: class_weight='balanced'\n",
    "# model = RandomForestClassifier(n_estimators=100, class_weight='balanced')    # optional: class_weight='balanced'\n",
    "\n",
    "get_confusion_matrix(model)"
   ]
  },
  {
   "cell_type": "code",
   "execution_count": null,
   "id": "884b1792",
   "metadata": {},
   "outputs": [],
   "source": [
    "# Feature importance: Logistic\n",
    "\n",
    "importance = model.coef_\n",
    "df_feat = pd.DataFrame(importance.T, index = [colnames_mfcc16+formant_features], columns=labels)\n",
    "\n",
    "for i, col in enumerate(df_feat):\n",
    "    colname = labels[i][:2] + '_abs'\n",
    "    df_feat[colname] = np.abs(df_feat[labels[i]]) \n",
    "    \n",
    "df_feat.sort_values('No_abs', ascending=False, inplace=True)  # 'No_abs', Sc_abs', 'So_abs', 'We_abs' for different classes\n",
    "print(df_feat.loc[:, 'Northern'][:11])\n",
    "df_feat.sort_values('Sc_abs', ascending=False, inplace=True)  # 'No_abs', Sc_abs', 'So_abs', 'We_abs' for different classes\n",
    "print(df_feat.loc[:, 'Scottish'][:11])\n",
    "df_feat.sort_values('So_abs', ascending=False, inplace=True)  # 'No_abs', Sc_abs', 'So_abs', 'We_abs' for different classes\n",
    "print(df_feat.loc[:, 'Southern'][:11])\n",
    "df_feat.sort_values('Sc_abs', ascending=False, inplace=True)  # 'No_abs', Sc_abs', 'So_abs', 'We_abs' for different classes\n",
    "print(df_feat.loc[:, 'Welsh'][:11])"
   ]
  },
  {
   "cell_type": "code",
   "execution_count": 38,
   "id": "57f80d75",
   "metadata": {},
   "outputs": [],
   "source": [
    "# Feature importance: Random forest\n",
    "\n",
    "# Scale features for interpretability\n",
    "from sklearn.preprocessing import StandardScaler\n",
    "\n",
    "std = StandardScaler()\n",
    "\n",
    "df_scaled = df_full.iloc[:,:8]\n",
    "\n",
    "for col in df_full[colnames_mfcc16+formant_features]:\n",
    "    df_scaled[[col]] = std.fit_transform(df_full[[col]])\n",
    "\n",
    "S = speaker_list_we\n",
    "random.shuffle(S)\n",
    "index = int(len(S)*0.8)  # for 80:20 split\n",
    "speakers_we_test = S[index:]\n",
    "speakers_we_train = S[:index]\n",
    "df_train_we = df_scaled[(df_scaled.speaker.isin(speakers_we_train) & (df_scaled.label == 'we'))]\n",
    "df_test_we = df_scaled[(df_scaled.speaker.isin(speakers_we_test) & (df_scaled.label == 'we'))]\n",
    "\n",
    "S = speaker_list_no\n",
    "random.shuffle(S)\n",
    "index = int(len(S)*0.8)  # for 80:20 split\n",
    "speakers_no_test = S[index:]\n",
    "speakers_no_train = S[:index]\n",
    "df_train_no = df_scaled[(df_scaled.speaker.isin(speakers_no_train) & (df_scaled.label == 'no'))]\n",
    "df_test_no = df_scaled[(df_scaled.speaker.isin(speakers_no_test) & (df_scaled.label == 'no'))]\n",
    "\n",
    "S = speaker_list_so\n",
    "random.shuffle(S)\n",
    "index = int(len(S)*0.8)  # for 80:20 split\n",
    "speakers_so_test = S[index:]\n",
    "speakers_so_train = S[:index]\n",
    "df_train_so = df_scaled[(df_scaled.speaker.isin(speakers_so_train) & (df_scaled.label == 'so'))]\n",
    "df_test_so = df_scaled[(df_scaled.speaker.isin(speakers_so_test) & (df_scaled.label == 'so'))]\n",
    "\n",
    "S = speaker_list_sc\n",
    "random.shuffle(S)\n",
    "index = int(len(S)*0.8)  # for 80:20 split\n",
    "speakers_sc_test = S[index:]\n",
    "speakers_sc_train = S[:index]\n",
    "df_train_sc = df_scaled[(df_scaled.speaker.isin(speakers_sc_train) & (df_scaled.label == 'sc'))]\n",
    "df_test_sc = df_scaled[(df_scaled.speaker.isin(speakers_sc_test) & (df_scaled.label == 'sc'))]\n",
    "\n",
    "df_train = pd.concat([df_train_we, df_train_no, df_train_so, df_train_sc], axis=0)\n",
    "df_test =  pd.concat([df_test_we, df_test_no, df_test_so, df_test_sc], axis=0)\n",
    "\n",
    "X_train = df_train[colnames_mfcc16+formant_features]\n",
    "y_train = df_train['label']\n",
    "    \n",
    "rf100 = RandomForestClassifier(n_estimators=100, class_weight='balanced')\n",
    "rf100.fit(X_train, y_train)\n",
    "importances = rf100.feature_importances_\n",
    "avg = np.mean([tree.feature_importances_ for tree in rf100.estimators_], axis=0)\n",
    "\n",
    "# View features by importance\n",
    "df_feat = pd.DataFrame(avg.T, index = [colnames_mfcc16+formant_features], columns=['feat_imp'])\n",
    "df_feat.sort_values('feat_imp', ascending=False, inplace=True)\n",
    "df_feat.head(10)"
   ]
  },
  {
   "cell_type": "markdown",
   "id": "3a5a96c1",
   "metadata": {},
   "source": [
    "5. **XGBoost (gradient boosting trees):**"
   ]
  },
  {
   "cell_type": "code",
   "execution_count": 20,
   "id": "56f9ba0f",
   "metadata": {},
   "outputs": [],
   "source": [
    "# For multiclass\n",
    "X_train = df_train2[colnames_mfcc16+\n",
    "                  formant_features]  \n",
    "y_train = df_train2['label']\n",
    "X_val = df_val[colnames_mfcc16+\n",
    "                formant_features]\n",
    "y_val = df_val['label']\n",
    "X_test = df_test[colnames_mfcc16+formant_features]\n",
    "y_test = df_test['label']\n",
    "\n",
    "# For single-class\n",
    "# (y = 'is_scottish', 'is_welsh', 'is_northern', 'is_southern')\n",
    "# X_train = df_train2[colnames_mfcc16+\n",
    "#                   formant_features]  \n",
    "# y_train = df_train2['is_southern']\n",
    "# X_val = df_val[colnames_mfcc16+\n",
    "#                 formant_features]\n",
    "# y_val = df_val['is_southern']\n",
    "# X_test = df_test[colnames_mfcc16+formant_features]\n",
    "# y_test = df_test['is_southern']"
   ]
  },
  {
   "cell_type": "code",
   "execution_count": 23,
   "id": "67224f07",
   "metadata": {},
   "outputs": [
    {
     "data": {
      "text/plain": [
       "0.5488826815642458"
      ]
     },
     "execution_count": 23,
     "metadata": {},
     "output_type": "execute_result"
    }
   ],
   "source": [
    "# Optimized model\n",
    "gbm = xgb.XGBClassifier(n_estimators=30000,\n",
    "                       max_depth=15,\n",
    "                       #objective='binary:logistic',   # comment out for multiclass \n",
    "                       objective='multi:softprob',   # comment out for one class\n",
    "                       learning_rate=.05,\n",
    "                       subsample=.8,\n",
    "                       min_child_weight=1,\n",
    "                       colsample_bytree=.7)\n",
    "\n",
    "eval_set=[(X_train,y_train),(X_val,y_val)]\n",
    "\n",
    "fit_model = gbm.fit(X_train, y_train,\n",
    "                   eval_set=eval_set,\n",
    "                   #eval_metric='logloss',            # comment out for multiclass\n",
    "                   eval_metric='mlogloss',          # comment out for one class\n",
    "                   early_stopping_rounds=50,\n",
    "                   verbose=False)\n",
    "\n",
    "accuracy_score(y_test, gbm.predict(X_test))"
   ]
  },
  {
   "cell_type": "markdown",
   "id": "ae7dd021",
   "metadata": {},
   "source": [
    "6. **Naive Bayes (multinomial)**  \n",
    "Need to preprocess MFCCs (because negative data not permitted), then re-do split before testing:"
   ]
  },
  {
   "cell_type": "code",
   "execution_count": null,
   "id": "6b421c8a",
   "metadata": {},
   "outputs": [],
   "source": [
    "from sklearn.preprocessing import MinMaxScaler\n",
    "\n",
    "mmx = MinMaxScaler()\n",
    "\n",
    "for col in df_full[colnames_mfcc16]:\n",
    "    df_full[[col]] = mmx.fit_transform(df_full[[col]])"
   ]
  },
  {
   "cell_type": "code",
   "execution_count": null,
   "id": "f569be03",
   "metadata": {},
   "outputs": [],
   "source": [
    "# Re-run train:test split (df_full -> df_train, df_test) under \"Model Selection\""
   ]
  },
  {
   "cell_type": "code",
   "execution_count": null,
   "id": "f0d17b90",
   "metadata": {},
   "outputs": [],
   "source": [
    "X_train = df_train[colnames_mfcc16+formant_features]\n",
    "y_train = df_train['label']\n",
    "X_test = df_test[colnames_mfcc16+formant_features]\n",
    "y_test = df_test['label']\n",
    "\n",
    "model = MultinomialNB()\n",
    "\n",
    "get_confusion_matrix(model)"
   ]
  },
  {
   "cell_type": "code",
   "execution_count": null,
   "id": "d37ceaa8",
   "metadata": {},
   "outputs": [],
   "source": []
  },
  {
   "cell_type": "code",
   "execution_count": null,
   "id": "827b085b",
   "metadata": {},
   "outputs": [],
   "source": []
  },
  {
   "cell_type": "code",
   "execution_count": null,
   "id": "4f756c8f",
   "metadata": {},
   "outputs": [],
   "source": []
  },
  {
   "cell_type": "markdown",
   "id": "0099bf62",
   "metadata": {},
   "source": [
    "### Reference: Multi-class ROC-AUC"
   ]
  },
  {
   "cell_type": "code",
   "execution_count": null,
   "id": "368b3eb1",
   "metadata": {},
   "outputs": [],
   "source": [
    "def roc_auc_score_multiclass(actual_class, pred_class, average = \"macro\"):\n",
    "\n",
    "  #creating a set of all the unique classes using the actual class list\n",
    "  unique_class = set(actual_class)\n",
    "  roc_auc_dict = {}\n",
    "  for per_class in unique_class:\n",
    "    #creating a list of all the classes except the current class \n",
    "    other_class = [x for x in unique_class if x != per_class]\n",
    "\n",
    "    #marking the current class as 1 and all other classes as 0\n",
    "    new_actual_class = [0 if x in other_class else 1 for x in actual_class]\n",
    "    new_pred_class = [0 if x in other_class else 1 for x in pred_class]\n",
    "\n",
    "    #using the sklearn metrics method to calculate the roc_auc_score\n",
    "    roc_auc = roc_auc_score(new_actual_class, new_pred_class, average = average)\n",
    "    roc_auc_dict[per_class] = roc_auc\n",
    "\n",
    "  return roc_auc_dict"
   ]
  },
  {
   "cell_type": "code",
   "execution_count": null,
   "id": "6f4a9fe1",
   "metadata": {},
   "outputs": [],
   "source": [
    "# from sklearn.utils import shuffle\n",
    "# X_s, y_s = shuffle(X, y)\n",
    "# cross_val_score(knn, X_s, y_s, cv=3, scoring=\"roc_auc\")"
   ]
  },
  {
   "cell_type": "code",
   "execution_count": null,
   "id": "ca7eef97",
   "metadata": {},
   "outputs": [],
   "source": [
    "print(f1_score(y_test, y_pred, average='weighted'))\n",
    "print(roc_auc_score_multiclass(y_test, y_pred, average='weighted'))"
   ]
  },
  {
   "cell_type": "code",
   "execution_count": null,
   "id": "a58864a9",
   "metadata": {},
   "outputs": [],
   "source": []
  },
  {
   "cell_type": "code",
   "execution_count": null,
   "id": "d94ce0b9",
   "metadata": {},
   "outputs": [],
   "source": []
  },
  {
   "cell_type": "markdown",
   "id": "16e45687",
   "metadata": {},
   "source": [
    "### Reference: Audio processing of a single file"
   ]
  },
  {
   "cell_type": "code",
   "execution_count": null,
   "id": "83d6d5d2",
   "metadata": {},
   "outputs": [],
   "source": [
    "# 1. Generate path\n",
    "path = 'midlands_english_female/' + 'mif_02484_00047480027' + '.wav'\n",
    "\n",
    "# 2. Import audio file\n",
    "y, sr = librosa.load(path, sr=22050)"
   ]
  },
  {
   "cell_type": "code",
   "execution_count": null,
   "id": "d3c62150",
   "metadata": {},
   "outputs": [],
   "source": [
    "# 3. Calculate MFCCs\n",
    "# 3.1 Import wav file\n",
    "\n",
    "path = 'midlands_english_female/mif_02484_00047480027.wav'\n",
    "y, sr = librosa.load(path, sr=22050)  # 'data are stored at 48 kHz' in publication\n",
    "ipd.Audio(path)"
   ]
  },
  {
   "cell_type": "code",
   "execution_count": null,
   "id": "edcb2043",
   "metadata": {},
   "outputs": [],
   "source": [
    "# 3.2 Plot speech waveform\n",
    "\n",
    "plt.figure(figsize=(14, 5))\n",
    "librosa.display.waveplot(y, sr=sr)"
   ]
  },
  {
   "cell_type": "code",
   "execution_count": null,
   "id": "a0262d31",
   "metadata": {},
   "outputs": [],
   "source": [
    "# 3.3 Calcuate MFCCs\n",
    "\n",
    "mfccs = librosa.feature.mfcc(y=y, sr=sr)\n",
    "#mfccs = preprocessing.scale(mfccs, axis=1)  # for use in MVP fig only!"
   ]
  },
  {
   "cell_type": "code",
   "execution_count": null,
   "id": "cd3c4e0e",
   "metadata": {},
   "outputs": [],
   "source": [
    "# 3.4 Plot spectrogram\n",
    "\n",
    "D = librosa.stft(y)  # STFT of y\n",
    "S_db = librosa.amplitude_to_db(np.abs(D), ref=np.max)\n",
    "\n",
    "fig, ax = plt.subplots()\n",
    "img = librosa.display.specshow(S_db, x_axis='time', y_axis='linear', ax=ax)\n",
    "ax.set(title='Spectrogram')\n",
    "fig.colorbar(img, ax=ax, format=\"%+2.f dB\")\n",
    "ipd.Audio(path)"
   ]
  },
  {
   "cell_type": "code",
   "execution_count": null,
   "id": "0152208c",
   "metadata": {},
   "outputs": [],
   "source": [
    "# 3.5 Plot MFCC spectra\n",
    "\n",
    "fig, ax = plt.subplots()\n",
    "img = librosa.display.specshow(mfccs, x_axis='time', y_axis='linear', ax=ax)\n",
    "fig.colorbar(img, ax=ax)\n",
    "ax.set(title='MFCCs (unscaled)')"
   ]
  }
 ],
 "metadata": {
  "kernelspec": {
   "display_name": "Python [conda env:metis] *",
   "language": "python",
   "name": "conda-env-metis-py"
  },
  "language_info": {
   "codemirror_mode": {
    "name": "ipython",
    "version": 3
   },
   "file_extension": ".py",
   "mimetype": "text/x-python",
   "name": "python",
   "nbconvert_exporter": "python",
   "pygments_lexer": "ipython3",
   "version": "3.8.10"
  }
 },
 "nbformat": 4,
 "nbformat_minor": 5
}
