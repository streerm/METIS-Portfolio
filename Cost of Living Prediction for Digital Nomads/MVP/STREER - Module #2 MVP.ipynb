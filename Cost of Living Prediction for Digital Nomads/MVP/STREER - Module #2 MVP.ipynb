{
 "cells": [
  {
   "cell_type": "markdown",
   "id": "71534d26",
   "metadata": {},
   "source": [
    "## Module #2 Minimum Viable Product\n",
    "\n",
    "### Mark Streer (DS/ML)"
   ]
  },
  {
   "cell_type": "markdown",
   "id": "48ec59bf",
   "metadata": {},
   "source": [
    "### Motivation:\n",
    "\n",
    "This project aims to capture how cost of living in cities around the world is influenced by their population, location, key prices such as rent and transportation, and country-level features such as GDP. The clientele of the resulting model is digital nomads wishing to estimate their expenses before relocating to a city, especially ones 'off the beaten path'.\n",
    "\n",
    "### Methodology:\n",
    "\n",
    "Expatistan is a website hosting crowd-source price data in cities around the world for various goods and services. City is the unit of analysis: after scraping all cities and their URLs [from a summary page](https://www.expatistan.com/cost-of-living/all-cities), price data were scraped from individual cities whose data was provided by 10+ contributors, yielding 1200+ cities. NaN values were replaced with country means or that failing, subregion means.\n",
    "\n",
    "* City-level features (population, lat/lng, is_capital): [SimpleMap.com](https://simplemaps.com/data/world-cities)\n",
    "* City-level features (climate): Derived from lat/lng data; checked against [Koppen-Geiger classification map](http://koeppen-geiger.vu-wien.ac.at/present.htm)\n",
    "* Country-level features (GDP per capita (nominal), GDP per capita (PPP), Human Development Index (HDI): Respective Wikipedia pages, \"Region\" and \"Subregion\" included in tables.\n",
    "\n",
    "Furthermore, certain prices expected **and demonstrated** to correlate strongly with cost-of-living are introduced into the model (despite strong collinearity, and the fact that price data is used by Expatistan to calculate their own estimates). For example, the rent of a studio apartment, a cup of coffee, taxi rides, etc."
   ]
  },
  {
   "cell_type": "markdown",
   "id": "9d45ff52",
   "metadata": {},
   "source": [
    "#### Strong collinearity across price features, esp. between rent prices."
   ]
  },
  {
   "cell_type": "markdown",
   "id": "fd64447f",
   "metadata": {},
   "source": [
    "![](pricefeaturecollinearity.png)"
   ]
  },
  {
   "cell_type": "markdown",
   "id": "d5d3b732",
   "metadata": {},
   "source": [
    "#### Strong linear (potentially curvilinear) relationship clear between COL and rent\n",
    "If curvilinear, perhaps some optimum ratio of rent/COL can be found on the curve?"
   ]
  },
  {
   "cell_type": "markdown",
   "id": "dab3c873",
   "metadata": {},
   "source": [
    "![](COL_rent2.png)"
   ]
  },
  {
   "cell_type": "markdown",
   "id": "29b5ebae",
   "metadata": {},
   "source": [
    "#### Similar relationships present between COL and restaurant prices (though smaller contribution)"
   ]
  },
  {
   "cell_type": "markdown",
   "id": "3dfe5666",
   "metadata": {},
   "source": [
    "![](COL_rent3.png)"
   ]
  },
  {
   "cell_type": "markdown",
   "id": "22f47e5b",
   "metadata": {},
   "source": [
    "### Nominal GDP per capita predicts cost-of-living, but with considerable variance within countries."
   ]
  },
  {
   "cell_type": "markdown",
   "id": "4117eae3",
   "metadata": {},
   "source": [
    "![](COL_rent4.png)"
   ]
  },
  {
   "cell_type": "code",
   "execution_count": null,
   "id": "ac353f8a",
   "metadata": {},
   "outputs": [],
   "source": []
  }
 ],
 "metadata": {
  "kernelspec": {
   "display_name": "Python 3 (ipykernel)",
   "language": "python",
   "name": "python3"
  },
  "language_info": {
   "codemirror_mode": {
    "name": "ipython",
    "version": 3
   },
   "file_extension": ".py",
   "mimetype": "text/x-python",
   "name": "python",
   "nbconvert_exporter": "python",
   "pygments_lexer": "ipython3",
   "version": "3.8.10"
  }
 },
 "nbformat": 4,
 "nbformat_minor": 5
}
