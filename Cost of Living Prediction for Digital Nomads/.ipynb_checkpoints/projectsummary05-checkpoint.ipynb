{
 "cells": [
  {
   "cell_type": "markdown",
   "id": "71534d26",
   "metadata": {},
   "source": [
    "# Final Project Summary\n",
    "## Module #5 (Unsupervised Learning & Natural Language Processing)\n",
    "## Mark Streer (DS/ML)"
   ]
  },
  {
   "cell_type": "markdown",
   "id": "553581cb",
   "metadata": {},
   "source": [
    "### Abstract:\n",
    "\n",
    "Globally, scientific literature is disseminated in English, yet the language is spoken by fewer than 20% of the world's population, and only 5% speak it natively. Researchers working in non-Anglophone countries normally enlist help from translators and/or editors in order to publish in their second language; however, language professionals are inconsistent in their diction and writing style, leaving their customers to question the value of their services. Could English biomedical corpora be used as reference repositories of expected genre-specific language for translators to consult when translating, and for ESL authors to check/edit their work? In this project, I examined a collection of English technical translations from Japanese by the same translator (myself), finding the topics modeled to correspond to different domains of medicine and healthcare, and to be well differentiated by clustering algorithms as well. Further work will apply the same pipeline to the Japanese source texts, to see how the topics/clusters compare and diverge across these two languages."
   ]
  },
  {
   "cell_type": "markdown",
   "id": "c453cc35",
   "metadata": {},
   "source": [
    "### Design:\n",
    "\n",
    "The dataset analyzed consists of the English texts of my technical translations from Japanese to English in 2020-2021. These documents are generally original research articles (RAs) or abstracts in IMRAD format (n=110). The Japanese authors range from graduate students writing their first scientific paper, to professors and physicians writing their 20th; the sophistication of the lexis and syntax in their source texts is similarly diverse. Likewise, scientific corpora are normally drawn from a wide variety of sources and authors. Despite this variation, the rules applied to distill technical Japanese from diverse authors and domains should be relatively **consistent** within any given translator, corresponding to their personal translation style.\n",
    "\n",
    "Preprocessing was applied to remove punctuation and small words (<4 characters); the results were lemmatized using WordNetLemmatizer. Specific other considerations applied in preprocessing and model selection included:\n",
    "* Given the size of the documents (~500-10,000 words), latent Dirichlet allocation (LDA) was expected to perform the best at differentiating topics. However, non-negative matrix factorization (NMF) ultimately generated topics and topic-word loadings that were more interpretable.\n",
    "\n",
    "* Since technical terminology and jargon were expected to play key roles in differentiating topics/domains in a corpus of technical documents, the 1000 most-common English words were added to the stopwords list for vectorization.\n",
    "* For the same reason, a TF-IDF vectorizer was preferred to a simple count vectorizer, to emphasize rare terms which were likely jargon."
   ]
  },
  {
   "cell_type": "markdown",
   "id": "48ec59bf",
   "metadata": {},
   "source": [
    "### Communication"
   ]
  },
  {
   "cell_type": "markdown",
   "id": "9d45ff52",
   "metadata": {},
   "source": [
    "#### Strong collinearity across price features, esp. between rent prices."
   ]
  },
  {
   "cell_type": "markdown",
   "id": "fd64447f",
   "metadata": {},
   "source": [
    "![](NMF08_topics.png)"
   ]
  },
  {
   "cell_type": "markdown",
   "id": "91e010f4",
   "metadata": {},
   "source": [
    "In the analysis of city- and country-level features, nominal GDP per capita (USD) was the single greatest predictor of cost of living. However, as visible in the chart below, there is considerable variation in cost of living between cities in the same country, meaning travelers in the same country can pay quite different prices depending on their location."
   ]
  },
  {
   "cell_type": "markdown",
   "id": "22f47e5b",
   "metadata": {},
   "source": [
    "#### Nominal GDP per capita (USD) predicts cost-of-living, but with considerable variance within countries"
   ]
  },
  {
   "cell_type": "markdown",
   "id": "4117eae3",
   "metadata": {},
   "source": [
    "![](NMF08_topics.png)"
   ]
  },
  {
   "cell_type": "markdown",
   "id": "1540a356",
   "metadata": {},
   "source": [
    "Subregion was the next greatest contributor to cost of living. For example, for a family of 4, South America was associated with monthly savings of nearly 900 USD compared to the worldwide average, while the Caribbean was associated with a 1000+ USD premium. Capital status was also predictive of COL: residents in national capitals (e.g. Paris) pay nearly 400 USD more than average, while residents of regional capitals (e.g. Marseilles) pay roughly 100 USD less (all p<0.01).\n",
    "\n",
    "Climate was not as predictive as expected: the two most predictive categories were \"Mediterranean hot summer\" (Cfa: e.g. Barcelona, Athens, Los Angeles) and \"continental/hemiboreal warm summer\" (Dfb: e.g. Moscow, Helsinki, Quebec), associated with approx. 200 USD premium and 300 USD savings compared with the worldwide average (p ~ 0.20). Preliminary incorporation of climate subtypes (e.g. Cfa -> \"C\": Temperate, \"f\": no dry season, \"a\": hot summer) into the model was no more predictive of cost-of-living, although some subtypes had good predictive value: for example, desert precipitation subtype (-W-) was associated with a ~60 USD premium, perhaps due to the harsher conditions."
   ]
  },
  {
   "cell_type": "code",
   "execution_count": null,
   "id": "46553b82",
   "metadata": {},
   "outputs": [],
   "source": []
  }
 ],
 "metadata": {
  "kernelspec": {
   "display_name": "Python 3",
   "language": "python",
   "name": "python3"
  },
  "language_info": {
   "codemirror_mode": {
    "name": "ipython",
    "version": 3
   },
   "file_extension": ".py",
   "mimetype": "text/x-python",
   "name": "python",
   "nbconvert_exporter": "python",
   "pygments_lexer": "ipython3",
   "version": "3.8.8"
  }
 },
 "nbformat": 4,
 "nbformat_minor": 5
}
