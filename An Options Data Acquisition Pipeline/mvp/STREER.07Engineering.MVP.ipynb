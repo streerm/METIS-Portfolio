{
 "cells": [
  {
   "cell_type": "markdown",
   "id": "7b9b8d78",
   "metadata": {},
   "source": [
    "## Module #7 Project MVP\n",
    "### Mark Streer (DS/ML)"
   ]
  },
  {
   "cell_type": "markdown",
   "id": "0a83aeca-8af9-4770-8ee7-3f7e27a3774e",
   "metadata": {},
   "source": [
    "Here is a schematic of the data pipeline for my project."
   ]
  },
  {
   "cell_type": "markdown",
   "id": "c74b7445-33bb-4cec-a117-644cf8f3a722",
   "metadata": {},
   "source": [
    "![](workflow.png)"
   ]
  },
  {
   "cell_type": "markdown",
   "id": "8f2fdb15-8bda-4096-a6fa-0a7e1badbb5c",
   "metadata": {},
   "source": [
    "The Python script (get_quotes.py) is executed by Python by the crontab utility every minute for eight hours (0900-1659) spanning NYSE market hours (0930-1600). The TD Ameritrade developer API permits up to 60 queries per second; 2 per minute should not encounter throttling or bans. Each response is tagged with an index timestamp before storage to assist with subsequent time series analysis. "
   ]
  },
  {
   "cell_type": "markdown",
   "id": "a1551afe",
   "metadata": {},
   "source": [
    "Once my crontab is functional, I should be able to record a full day's worth of options chain data. For my web application, I simply plan to let users toggle between 2-3 snapshots I will provide them. If time permits, an interactive slider to watch the topography of the options chain change with price over the course of a single day is something I'm interested in, at the very least."
   ]
  },
  {
   "cell_type": "code",
   "execution_count": null,
   "id": "29058475",
   "metadata": {},
   "outputs": [],
   "source": []
  },
  {
   "cell_type": "code",
   "execution_count": null,
   "id": "870026ab",
   "metadata": {},
   "outputs": [],
   "source": []
  },
  {
   "cell_type": "markdown",
   "id": "13a61b6d",
   "metadata": {},
   "source": [
    "### 1. Query TD Ameritrade API"
   ]
  },
  {
   "cell_type": "code",
   "execution_count": 1,
   "id": "7e94b771",
   "metadata": {},
   "outputs": [
    {
     "name": "stdout",
     "output_type": "stream",
     "text": [
      "Grabbing new access token...\n"
     ]
    },
    {
     "data": {
      "text/plain": [
       "True"
      ]
     },
     "execution_count": 1,
     "metadata": {},
     "output_type": "execute_result"
    }
   ],
   "source": [
    "# Login before market hours! then comment out this field\n",
    "# Or move to different script\n",
    "\n",
    "from pprint import pprint\n",
    "# Import the client\n",
    "from td.client import TDClient\n",
    "\n",
    "# Create a new session, credentials path is required.\n",
    "TDSession = TDClient(\n",
    "    client_id = '', # my developer API key\n",
    "    redirect_uri = 'https://localhost',             # set in API developer account\n",
    "    credentials_path = 'td_state.json'              # save in cwd for now\n",
    ")\n",
    "\n",
    "# Login to the session\n",
    "TDSession.login()"
   ]
  },
  {
   "cell_type": "code",
   "execution_count": 3,
   "id": "f354c44f",
   "metadata": {},
   "outputs": [
    {
     "name": "stdout",
     "output_type": "stream",
     "text": [
      "2021-12-13 21:55:51.238290\n",
      "{'NVDA': {'52WkHigh': 346.47,\n",
      "          '52WkLow': 115.665,\n",
      "          'askId': 'P',\n",
      "          'askPrice': 282.64,\n",
      "          'askSize': 100,\n",
      "          'assetMainType': 'EQUITY',\n",
      "          'assetType': 'EQUITY',\n",
      "          'bidId': 'Q',\n",
      "          'bidPrice': 282.5,\n",
      "          'bidSize': 100,\n",
      "          'bidTick': ' ',\n",
      "          'closePrice': 301.98,\n",
      "          'cusip': '67066G104',\n",
      "          'delayed': False,\n",
      "          'description': 'NVIDIA Corporation - Common Stock',\n",
      "          'digits': 4,\n",
      "          'divAmount': 0.16,\n",
      "          'divDate': '2021-12-01 00:00:00.000',\n",
      "          'divYield': 0.05,\n",
      "          'exchange': 'q',\n",
      "          'exchangeName': 'NASD',\n",
      "          'highPrice': 302.94,\n",
      "          'lastId': 'D',\n",
      "          'lastPrice': 282.5,\n",
      "          'lastSize': 100,\n",
      "          'lowPrice': 281.16,\n",
      "          'marginable': True,\n",
      "          'mark': 282.5,\n",
      "          'markChangeInDouble': -19.48,\n",
      "          'markPercentChangeInDouble': -6.4508,\n",
      "          'nAV': 0.0,\n",
      "          'netChange': -19.48,\n",
      "          'netPercentChangeInDouble': -6.4508,\n",
      "          'openPrice': 302.49,\n",
      "          'peRatio': 93.2238,\n",
      "          'quoteTimeInLong': 1639443597430,\n",
      "          'realtimeEntitled': True,\n",
      "          'regularMarketLastPrice': 281.61,\n",
      "          'regularMarketLastSize': 25144,\n",
      "          'regularMarketNetChange': -20.37,\n",
      "          'regularMarketPercentChangeInDouble': -6.7455,\n",
      "          'regularMarketTradeTimeInLong': 1639429200565,\n",
      "          'securityStatus': 'Normal',\n",
      "          'shortable': True,\n",
      "          'symbol': 'NVDA',\n",
      "          'totalVolume': 59834366,\n",
      "          'tradeTimeInLong': 1639443599371,\n",
      "          'volatility': 0.0198}}\n"
     ]
    }
   ],
   "source": [
    "# create timestamp\n",
    "import datetime as dt\n",
    "\n",
    "now = str(dt.datetime.now()) #str or no?\n",
    "print(now)\n",
    "\n",
    "# Grab real-time stock quotes for 'NVDA' (Nvidia Corporation)\n",
    "nvda_quotes = TDSession.get_quotes(instruments=['NVDA'])\n",
    "pprint(nvda_quotes)\n",
    "\n",
    "# Grab real-time option quotes\n",
    "nvda_quotes_options = TDSession.get_options_chain(option_chain={'symbol': 'NVDA'}\n",
    "                                                               #'callExpDateMap':'2021-12-10:1'} #yyyy-mm-dd:daystoexpiry\n",
    "                                            ) \n",
    "\n",
    "# insert timestamp field\n",
    "nvda_quotes['timestamp'] = now\n",
    "nvda_quotes_options['timestamp'] = now\n",
    "\n",
    "#pprint(nvda_quotes_options)"
   ]
  },
  {
   "cell_type": "markdown",
   "id": "e5f32c33",
   "metadata": {},
   "source": [
    "### 2. Store JSON response in DB"
   ]
  },
  {
   "cell_type": "code",
   "execution_count": 7,
   "id": "0fe2fd15",
   "metadata": {},
   "outputs": [
    {
     "data": {
      "text/plain": [
       "2"
      ]
     },
     "execution_count": 7,
     "metadata": {},
     "output_type": "execute_result"
    }
   ],
   "source": [
    "from pymongo import MongoClient\n",
    "# created 'proj7db' in mongo shell somehow\n",
    "# https://www.mongodb.com/basics/create-database\n",
    "\n",
    "# Instantiate client; confirm 'proj7db' among available databases\n",
    "client = MongoClient()\n",
    "\n",
    "# Define working db\n",
    "db = client.proj7db\n",
    "\n",
    "# Define working collection\n",
    "prices = db.prices\n",
    "\n",
    "# Store the API response\n",
    "prices.insert_one(nvda_quotes)\n",
    "prices.insert_one(nvda_quotes_options)\n",
    "\n",
    "# Wipe the collection (if needed)\n",
    "# prices.delete_many({}) #                    '{}' nuclear option\n",
    "\n",
    "# Confirm one record has been added\n",
    "prices.count_documents({})"
   ]
  }
 ],
 "metadata": {
  "kernelspec": {
   "display_name": "Python 3 (ipykernel)",
   "language": "python",
   "name": "python3"
  },
  "language_info": {
   "codemirror_mode": {
    "name": "ipython",
    "version": 3
   },
   "file_extension": ".py",
   "mimetype": "text/x-python",
   "name": "python",
   "nbconvert_exporter": "python",
   "pygments_lexer": "ipython3",
   "version": "3.8.10"
  }
 },
 "nbformat": 4,
 "nbformat_minor": 5
}
