{
 "cells": [
  {
   "cell_type": "markdown",
   "id": "13a61b6d",
   "metadata": {},
   "source": [
    "### 1. Query TD Ameritrade API"
   ]
  },
  {
   "cell_type": "code",
   "execution_count": 14,
   "id": "7e94b771",
   "metadata": {},
   "outputs": [
    {
     "data": {
      "text/plain": [
       "True"
      ]
     },
     "execution_count": 14,
     "metadata": {},
     "output_type": "execute_result"
    }
   ],
   "source": [
    "# Import the TD Ameritrade API client package\n",
    "# !pip install td-ameritrade-python-api\n",
    "from td.client import TDClient\n",
    "\n",
    "# Create a new session; credentials path is required.\n",
    "TDSession = TDClient(\n",
    "    client_id = 'J4QOQPWNPV2SN0ZUYGZ4SAWFZKFMPYNX', # my developer API key\n",
    "    redirect_uri = 'https://localhost',             # set in API developer account\n",
    "    credentials_path = 'td_state.json'              # save in cwd for now\n",
    ")\n",
    "\n",
    "# Login to the session\n",
    "TDSession.login()"
   ]
  },
  {
   "cell_type": "code",
   "execution_count": 15,
   "id": "b35ac2d2",
   "metadata": {},
   "outputs": [
    {
     "name": "stdout",
     "output_type": "stream",
     "text": [
      "Data acquired at 2021-12-16 13:59:15.640855.\n"
     ]
    }
   ],
   "source": [
    "# create timestamp\n",
    "import datetime as dt\n",
    "\n",
    "print(f'Data acquired at {dt.datetime.now()}.')\n",
    "\n",
    "# Grab real-time stock quotes for 'NVDA' (Nvidia Corporation)\n",
    "# nvda_quotes = TDSession.get_quotes(instruments=['NVDA'])\n",
    "# pprint(nvda_quotes)\n",
    "\n",
    "# Grab real-time option quotes\n",
    "nvda_quotes_options = TDSession.get_options_chain(option_chain={'symbol': 'NVDA'})\n",
    "\n",
    "# insert timestamp field\n",
    "# nvda_quotes['timestamp'] = now\n",
    "nvda_quotes_options['timestamp'] = 1400"
   ]
  },
  {
   "cell_type": "markdown",
   "id": "e5f32c33",
   "metadata": {},
   "source": [
    "### 2. Store JSON response in DB"
   ]
  },
  {
   "cell_type": "code",
   "execution_count": 16,
   "id": "0fe2fd15",
   "metadata": {},
   "outputs": [
    {
     "data": {
      "text/plain": [
       "6"
      ]
     },
     "execution_count": 16,
     "metadata": {},
     "output_type": "execute_result"
    }
   ],
   "source": [
    "from pymongo import MongoClient\n",
    "# created 'proj7db' in mongo shell somehow\n",
    "# https://www.mongodb.com/basics/create-database\n",
    "\n",
    "# Instantiate client; confirm 'proj7db' among available databases\n",
    "client = MongoClient()\n",
    "client.list_database_names()\n",
    "\n",
    "# Define working db\n",
    "db = client.proj7db\n",
    "\n",
    "# Define working collection\n",
    "prices = db.prices\n",
    "\n",
    "# Store the API response\n",
    "# prices.insert_one(nvda_quotes)\n",
    "prices.insert_one(nvda_quotes_options)\n",
    "\n",
    "# Wipe the collection (if needed)\n",
    "# prices.delete_many({})           # '{}' nuclear option\n",
    "\n",
    "# Confirm one record has been added\n",
    "prices.count_documents({})"
   ]
  },
  {
   "cell_type": "markdown",
   "id": "2ebf1f28",
   "metadata": {},
   "source": [
    "Pipeline continued in <code>STREER.07Engineering.DataAcqusition.ipynb</code>"
   ]
  },
  {
   "cell_type": "code",
   "execution_count": 12,
   "id": "52b640fe",
   "metadata": {},
   "outputs": [
    {
     "data": {
      "text/plain": [
       "1300"
      ]
     },
     "execution_count": 12,
     "metadata": {},
     "output_type": "execute_result"
    }
   ],
   "source": [
    "# Inspect the records here if you like though\n",
    "\n",
    "cursor = list(prices.find({'symbol':'NVDA'}, {'_id': 0, \n",
    "                                     'symbol': 1, \n",
    "                                     'underlyingPrice': 1, \n",
    "                                     'timestamp': 1, \n",
    "                                     'callExpDateMap': 1,\n",
    "                                     'putExpDateMap': 1}))\n",
    "\n",
    "# For example, 1st record of puts for the 2021-12-17 chain:\n",
    "# cursor[0]['putExpDateMap']['2021-12-17:6']\n",
    "\n",
    "cursor[-1]['timestamp']"
   ]
  },
  {
   "cell_type": "code",
   "execution_count": null,
   "id": "2fa497c0",
   "metadata": {},
   "outputs": [],
   "source": []
  }
 ],
 "metadata": {
  "kernelspec": {
   "display_name": "Python 3",
   "language": "python",
   "name": "python3"
  },
  "language_info": {
   "codemirror_mode": {
    "name": "ipython",
    "version": 3
   },
   "file_extension": ".py",
   "mimetype": "text/x-python",
   "name": "python",
   "nbconvert_exporter": "python",
   "pygments_lexer": "ipython3",
   "version": "3.8.8"
  }
 },
 "nbformat": 4,
 "nbformat_minor": 5
}
