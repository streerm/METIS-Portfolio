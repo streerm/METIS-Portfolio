{
 "cells": [
  {
   "cell_type": "markdown",
   "id": "13a61b6d",
   "metadata": {},
   "source": [
    "### Schedule API query automation"
   ]
  },
  {
   "cell_type": "code",
   "execution_count": 3,
   "id": "589e6ef5",
   "metadata": {},
   "outputs": [
    {
     "name": "stdout",
     "output_type": "stream",
     "text": [
      "Collecting python-crontab\n",
      "  Using cached python-crontab-2.6.0.tar.gz (55 kB)\n",
      "Requirement already satisfied: python-dateutil in /Users/markstreer/opt/anaconda3/lib/python3.8/site-packages (from python-crontab) (2.8.1)\n",
      "Requirement already satisfied: six>=1.5 in /Users/markstreer/opt/anaconda3/lib/python3.8/site-packages (from python-dateutil->python-crontab) (1.16.0)\n",
      "Building wheels for collected packages: python-crontab\n",
      "  Building wheel for python-crontab (setup.py) ... \u001b[?25ldone\n",
      "\u001b[?25h  Created wheel for python-crontab: filename=python_crontab-2.6.0-py3-none-any.whl size=25785 sha256=07db53ba43521d3ddb9f4caef1283d14d54c429c13e7aceb5170c056b7513fda\n",
      "  Stored in directory: /Users/markstreer/Library/Caches/pip/wheels/15/b1/cf/02130d15e4defa826a6cc5cbf2619571bb85eff8998a144fa0\n",
      "Successfully built python-crontab\n",
      "Installing collected packages: python-crontab\n",
      "Successfully installed python-crontab-2.6.0\n"
     ]
    }
   ],
   "source": [
    "# !pip install python-crontab"
   ]
  },
  {
   "cell_type": "code",
   "execution_count": 4,
   "id": "fa81323a",
   "metadata": {},
   "outputs": [
    {
     "ename": "ModuleNotFoundError",
     "evalue": "No module named 'crontab'",
     "output_type": "error",
     "traceback": [
      "\u001b[0;31m---------------------------------------------------------------------------\u001b[0m",
      "\u001b[0;31mModuleNotFoundError\u001b[0m                       Traceback (most recent call last)",
      "\u001b[0;32m/tmp/ipykernel_52329/3224620728.py\u001b[0m in \u001b[0;36m<module>\u001b[0;34m\u001b[0m\n\u001b[0;32m----> 1\u001b[0;31m \u001b[0;32mfrom\u001b[0m \u001b[0mcrontab\u001b[0m \u001b[0;32mimport\u001b[0m \u001b[0mCronTab\u001b[0m\u001b[0;34m\u001b[0m\u001b[0;34m\u001b[0m\u001b[0m\n\u001b[0m\u001b[1;32m      2\u001b[0m \u001b[0;31m# cron = CronTab(tab=\"\"\"* 9-17 * * 1-5 python STREER.07Engineering.DataAcquisition.py\"\"\")\u001b[0m\u001b[0;34m\u001b[0m\u001b[0;34m\u001b[0m\u001b[0;34m\u001b[0m\u001b[0m\n\u001b[1;32m      3\u001b[0m \u001b[0mcron\u001b[0m \u001b[0;34m=\u001b[0m \u001b[0mCronTab\u001b[0m\u001b[0;34m(\u001b[0m\u001b[0mtab\u001b[0m\u001b[0;34m=\u001b[0m\u001b[0;34m\"\"\"0-9 12 13 12 1 python STREER.07Engineering.DataAcquisition.py >/dev/null 2>&1\"\"\"\u001b[0m\u001b[0;34m)\u001b[0m\u001b[0;34m\u001b[0m\u001b[0;34m\u001b[0m\u001b[0m\n\u001b[1;32m      4\u001b[0m \u001b[0;34m\u001b[0m\u001b[0m\n\u001b[1;32m      5\u001b[0m \u001b[0mcron\u001b[0m\u001b[0;34m.\u001b[0m\u001b[0mwrite\u001b[0m\u001b[0;34m(\u001b[0m\u001b[0;34m)\u001b[0m\u001b[0;34m\u001b[0m\u001b[0;34m\u001b[0m\u001b[0m\n",
      "\u001b[0;31mModuleNotFoundError\u001b[0m: No module named 'crontab'"
     ]
    }
   ],
   "source": [
    "from crontab import CronTab\n",
    "# cron = CronTab(tab=\"\"\"* 9-17 * * 1-5 python STREER.07Engineering.DataAcquisition.py\"\"\")\n",
    "cron = CronTab(tab=\"\"\"0-9 12 13 12 1 python STREER.07Engineering.DataAcquisition.py >/dev/null 2>&1\"\"\")\n",
    "\n",
    "cron.write()\n",
    "\n",
    "for job in cron:\n",
    "    print(job)"
   ]
  },
  {
   "cell_type": "code",
   "execution_count": null,
   "id": "f10b8227",
   "metadata": {},
   "outputs": [],
   "source": []
  },
  {
   "cell_type": "code",
   "execution_count": null,
   "id": "3c1c674f-e3e5-4d39-b1a3-85919e3a0172",
   "metadata": {},
   "outputs": [],
   "source": []
  }
 ],
 "metadata": {
  "kernelspec": {
   "display_name": "Python 3 (ipykernel)",
   "language": "python",
   "name": "python3"
  },
  "language_info": {
   "codemirror_mode": {
    "name": "ipython",
    "version": 3
   },
   "file_extension": ".py",
   "mimetype": "text/x-python",
   "name": "python",
   "nbconvert_exporter": "python",
   "pygments_lexer": "ipython3",
   "version": "3.8.12"
  }
 },
 "nbformat": 4,
 "nbformat_minor": 5
}
