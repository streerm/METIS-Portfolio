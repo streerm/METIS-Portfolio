{
 "cells": [
  {
   "cell_type": "markdown",
   "id": "e5f32c33",
   "metadata": {},
   "source": [
    "### 1. Load MongoDB, check docs load"
   ]
  },
  {
   "cell_type": "code",
   "execution_count": 51,
   "id": "0fe2fd15",
   "metadata": {},
   "outputs": [
    {
     "data": {
      "text/plain": [
       "7"
      ]
     },
     "execution_count": 51,
     "metadata": {},
     "output_type": "execute_result"
    }
   ],
   "source": [
    "from pymongo import MongoClient\n",
    "# created 'proj7db' in mongo shell somehow\n",
    "# https://www.mongodb.com/basics/create-database\n",
    "\n",
    "# Instantiate client; confirm 'proj7db' among available databases\n",
    "client = MongoClient()\n",
    "assert 'proj7db' in client.list_database_names()\n",
    "\n",
    "# Define working db\n",
    "db = client.proj7db\n",
    "\n",
    "# Define working collection\n",
    "prices = db.prices\n",
    "\n",
    "# Confirm one record has been added\n",
    "prices.count_documents({})"
   ]
  },
  {
   "cell_type": "markdown",
   "id": "18a2110a",
   "metadata": {},
   "source": [
    "### 2. Read record(s) from mongoDB"
   ]
  },
  {
   "cell_type": "code",
   "execution_count": 52,
   "id": "46ffa30d",
   "metadata": {},
   "outputs": [
    {
     "name": "stdout",
     "output_type": "stream",
     "text": [
      "1500\n"
     ]
    }
   ],
   "source": [
    "import numpy as np\n",
    "import pandas as pd\n",
    "from pprint import pprint\n",
    "\n",
    "# Put all NVDA quotes in the cursor\n",
    "# cursor[0] = 0900 quotes, cursor[1] = 1000 quotes, ..., cursor[7] = 1700 quotes\n",
    "\n",
    "cursor = list(prices.find({'symbol':'NVDA'}, {'_id': 0, \n",
    "                                              'symbol': 1, \n",
    "                                              'underlyingPrice': 1,\n",
    "                                              'timestamp': 1,\n",
    "                                              'callExpDateMap': 1,\n",
    "                                              'putExpDateMap': 1}))\n",
    "\n",
    "print(cursor[-1]['timestamp'])"
   ]
  },
  {
   "cell_type": "code",
   "execution_count": 53,
   "id": "52b640fe",
   "metadata": {},
   "outputs": [],
   "source": [
    "# Load the most recent doc in the collection: cursor[-1]\n",
    "\n",
    "test_json_p = cursor[-1]['putExpDateMap']\n",
    "test_json_c = cursor[-1]['callExpDateMap']\n",
    "#pprint(test_json_c)"
   ]
  },
  {
   "cell_type": "code",
   "execution_count": 16,
   "id": "f86db529",
   "metadata": {
    "collapsed": true
   },
   "outputs": [
    {
     "name": "stdout",
     "output_type": "stream",
     "text": [
      "18 expiry dates on chain\n",
      "['2021-12-17:1', '2021-12-23:7', '2021-12-31:15', '2022-01-07:22', '2022-01-14:29', '2022-01-21:36', '2022-01-28:43', '2022-02-18:64', '2022-03-18:92', '2022-04-14:119', '2022-05-20:155', '2022-06-17:183', '2022-07-15:211', '2022-09-16:274', '2023-01-20:400', '2023-03-17:456', '2023-06-16:547', '2024-01-19:764']\n"
     ]
    }
   ],
   "source": [
    "# Get list of expiry dates (top level in document)\n",
    "dates = list(test_json_c.keys())\n",
    "print(f'{len(dates)} expiry dates on chain')\n",
    "print(dates)"
   ]
  },
  {
   "cell_type": "code",
   "execution_count": 17,
   "id": "22359b18",
   "metadata": {
    "collapsed": true
   },
   "outputs": [
    {
     "name": "stdout",
     "output_type": "stream",
     "text": [
      "261 strike prices on chain\n",
      "['$22.5', '$23.75', '$25.0', '$26.25', '$27.5', '$28.75', '$30.0', '$31.25', '$32.5', '$33.75', '$35.0', '$36.25', '$37.5', '$38.75', '$40.0', '$41.25', '$42.5', '$43.75', '$45.0', '$46.25', '$47.5', '$48.75', '$50.0', '$51.25', '$52.5', '$53.75', '$55.0', '$56.25', '$57.5', '$60.0', '$62.5', '$65.0', '$67.5', '$70.0', '$72.5', '$75.0', '$77.5', '$78.75', '$80.0', '$82.5', '$85.0', '$87.5', '$90.0', '$92.5', '$95.0', '$97.5', '$100.0', '$102.5', '$105.0', '$107.5', '$110.0', '$112.5', '$115.0', '$116.25', '$117.5', '$118.75', '$120.0', '$121.25', '$122.5', '$123.75', '$125.0', '$126.25', '$127.5', '$128.75', '$130.0', '$131.25', '$132.5', '$133.75', '$135.0', '$136.25', '$137.5', '$138.75', '$140.0', '$141.25', '$142.5', '$143.75', '$145.0', '$146.25', '$147.5', '$148.75', '$150.0', '$151.25', '$152.5', '$153.75', '$155.0', '$156.25', '$157.5', '$158.75', '$160.0', '$161.25', '$162.5', '$163.75', '$165.0', '$166.25', '$167.5', '$168.75', '$170.0', '$171.25', '$172.5', '$173.75', '$175.0', '$176.25', '$177.5', '$178.75', '$180.0', '$181.25', '$182.5', '$183.75', '$185.0', '$186.25', '$187.5', '$188.75', '$190.0', '$191.25', '$192.5', '$193.75', '$195.0', '$196.25', '$197.5', '$198.75', '$200.0', '$201.25', '$202.5', '$203.75', '$205.0', '$206.25', '$207.5', '$208.75', '$210.0', '$211.25', '$212.5', '$213.75', '$215.0', '$216.25', '$217.5', '$218.75', '$220.0', '$221.25', '$222.5', '$223.75', '$225.0', '$226.25', '$227.5', '$228.75', '$230.0', '$231.25', '$232.5', '$233.75', '$235.0', '$236.25', '$237.5', '$238.75', '$240.0', '$241.25', '$242.5', '$243.75', '$245.0', '$246.25', '$247.5', '$248.75', '$250.0', '$251.25', '$252.5', '$253.75', '$255.0', '$256.25', '$257.5', '$258.75', '$260.0', '$261.25', '$262.5', '$263.75', '$265.0', '$266.25', '$267.5', '$268.75', '$270.0', '$271.25', '$272.5', '$273.75', '$275.0', '$276.25', '$277.5', '$278.75', '$280.0', '$281.25', '$282.5', '$283.75', '$285.0', '$286.25', '$287.5', '$288.75', '$290.0', '$291.25', '$292.5', '$293.75', '$295.0', '$296.25', '$297.5', '$298.75', '$300.0', '$301.25', '$302.5', '$305.0', '$307.5', '$310.0', '$312.5', '$315.0', '$317.5', '$320.0', '$322.5', '$325.0', '$327.5', '$330.0', '$332.5', '$335.0', '$337.5', '$340.0', '$342.5', '$345.0', '$347.5', '$350.0', '$355.0', '$360.0', '$362.5', '$365.0', '$370.0', '$375.0', '$380.0', '$385.0', '$387.5', '$390.0', '$395.0', '$400.0', '$405.0', '$410.0', '$415.0', '$420.0', '$425.0', '$430.0', '$435.0', '$440.0', '$445.0', '$450.0', '$455.0', '$460.0', '$465.0', '$470.0', '$475.0', '$480.0', '$485.0', '$490.0', '$495.0', '$500.0', '$505.0', '$510.0', '$520.0', '$540.0', '$560.0', '$580.0', '$600.0']\n"
     ]
    }
   ],
   "source": [
    "# Get list of all possible strikes (next level)\n",
    "strikes = []\n",
    "for date in dates:\n",
    "    db = test_json_c[date]\n",
    "    strike = [float(key) for key in db.keys()]\n",
    "    strikes += strike\n",
    "    \n",
    "strikes = [str(strike) for strike in list(np.unique(strikes))]  # type conversion needed bc np.unique() sorts alphabetically (e.g. 60>500)\n",
    "\n",
    "print(f'{len(strikes)} strike prices on chain')\n",
    "print([f'${strike}' for strike in strikes])"
   ]
  },
  {
   "cell_type": "markdown",
   "id": "6856772a",
   "metadata": {},
   "source": [
    "### 3. Convert JSONs to dataframe"
   ]
  },
  {
   "cell_type": "code",
   "execution_count": 54,
   "id": "045cb51c",
   "metadata": {},
   "outputs": [
    {
     "name": "stdout",
     "output_type": "stream",
     "text": [
      "Total of 1697 call contracts\n",
      "Total of 1697 put contracts\n"
     ]
    }
   ],
   "source": [
    "def prep_df_from_json(json, name):\n",
    "    df = pd.DataFrame(json)\n",
    "    vals = list(df.values.flatten())\n",
    "    \n",
    "    df_new = []\n",
    "    for entry in vals:\n",
    "        if entry is not np.nan:\n",
    "            df_new.append(entry[0])\n",
    "    \n",
    "    print(f'Total of {len(df_new)} {name} contracts')\n",
    "        \n",
    "    df = pd.DataFrame(tuple(df_new))\n",
    "    \n",
    "    return df\n",
    "\n",
    "df_c = prep_df_from_json(test_json_c, \"call\")\n",
    "df_p = prep_df_from_json(test_json_p, \"put\")\n",
    "df = pd.concat([df_c, df_p], axis=0, ignore_index=True)"
   ]
  },
  {
   "cell_type": "code",
   "execution_count": 55,
   "id": "c66510d5",
   "metadata": {},
   "outputs": [],
   "source": [
    "# Label these records for slider on webapp\n",
    "df['timeofday'] = 1500"
   ]
  },
  {
   "cell_type": "code",
   "execution_count": 9,
   "id": "fa136de5",
   "metadata": {},
   "outputs": [
    {
     "data": {
      "text/plain": [
       "0       1639774800000\n",
       "1       1642798800000\n",
       "2       1655496000000\n",
       "3       1663358400000\n",
       "4       1674248400000\n",
       "            ...      \n",
       "3389    1674248400000\n",
       "3390    1674248400000\n",
       "3391    1674248400000\n",
       "3392    1674248400000\n",
       "3393    1674248400000\n",
       "Name: expirationDate, Length: 3394, dtype: int64"
      ]
     },
     "execution_count": 9,
     "metadata": {},
     "output_type": "execute_result"
    }
   ],
   "source": [
    "# TO DO: Convert epoch time to yyyy-mm-dd time\n",
    "df.expirationDate"
   ]
  },
  {
   "cell_type": "code",
   "execution_count": 28,
   "id": "123e35c2",
   "metadata": {},
   "outputs": [
    {
     "data": {
      "text/html": [
       "<div>\n",
       "<style scoped>\n",
       "    .dataframe tbody tr th:only-of-type {\n",
       "        vertical-align: middle;\n",
       "    }\n",
       "\n",
       "    .dataframe tbody tr th {\n",
       "        vertical-align: top;\n",
       "    }\n",
       "\n",
       "    .dataframe thead th {\n",
       "        text-align: right;\n",
       "    }\n",
       "</style>\n",
       "<table border=\"1\" class=\"dataframe\">\n",
       "  <thead>\n",
       "    <tr style=\"text-align: right;\">\n",
       "      <th></th>\n",
       "      <th>symbol</th>\n",
       "      <th>description</th>\n",
       "      <th>timeofday</th>\n",
       "      <th>putCall</th>\n",
       "      <th>expirationDate</th>\n",
       "      <th>strikePrice</th>\n",
       "      <th>bid</th>\n",
       "      <th>ask</th>\n",
       "      <th>last</th>\n",
       "      <th>mark</th>\n",
       "    </tr>\n",
       "  </thead>\n",
       "  <tbody>\n",
       "    <tr>\n",
       "      <th>0</th>\n",
       "      <td>NVDA_121721C70</td>\n",
       "      <td>NVDA Dec 17 2021 70 Call</td>\n",
       "      <td>1200</td>\n",
       "      <td>CALL</td>\n",
       "      <td>1639774800000</td>\n",
       "      <td>70.00</td>\n",
       "      <td>215.05</td>\n",
       "      <td>216.10</td>\n",
       "      <td>215.90</td>\n",
       "      <td>215.58</td>\n",
       "    </tr>\n",
       "    <tr>\n",
       "      <th>1</th>\n",
       "      <td>NVDA_012122C70</td>\n",
       "      <td>NVDA Jan 21 2022 70 Call</td>\n",
       "      <td>1200</td>\n",
       "      <td>CALL</td>\n",
       "      <td>1642798800000</td>\n",
       "      <td>70.00</td>\n",
       "      <td>214.95</td>\n",
       "      <td>216.70</td>\n",
       "      <td>243.77</td>\n",
       "      <td>215.83</td>\n",
       "    </tr>\n",
       "    <tr>\n",
       "      <th>2</th>\n",
       "      <td>NVDA_061722C70</td>\n",
       "      <td>NVDA Jun 17 2022 70 Call</td>\n",
       "      <td>1200</td>\n",
       "      <td>CALL</td>\n",
       "      <td>1655496000000</td>\n",
       "      <td>70.00</td>\n",
       "      <td>215.55</td>\n",
       "      <td>217.30</td>\n",
       "      <td>224.56</td>\n",
       "      <td>216.43</td>\n",
       "    </tr>\n",
       "    <tr>\n",
       "      <th>3</th>\n",
       "      <td>NVDA_091622C70</td>\n",
       "      <td>NVDA Sep 16 2022 70 Call</td>\n",
       "      <td>1200</td>\n",
       "      <td>CALL</td>\n",
       "      <td>1663358400000</td>\n",
       "      <td>70.00</td>\n",
       "      <td>216.00</td>\n",
       "      <td>217.90</td>\n",
       "      <td>248.00</td>\n",
       "      <td>216.95</td>\n",
       "    </tr>\n",
       "    <tr>\n",
       "      <th>4</th>\n",
       "      <td>NVDA_012023C70</td>\n",
       "      <td>NVDA Jan 20 2023 70 Call</td>\n",
       "      <td>1200</td>\n",
       "      <td>CALL</td>\n",
       "      <td>1674248400000</td>\n",
       "      <td>70.00</td>\n",
       "      <td>216.80</td>\n",
       "      <td>218.75</td>\n",
       "      <td>202.98</td>\n",
       "      <td>217.78</td>\n",
       "    </tr>\n",
       "    <tr>\n",
       "      <th>...</th>\n",
       "      <td>...</td>\n",
       "      <td>...</td>\n",
       "      <td>...</td>\n",
       "      <td>...</td>\n",
       "      <td>...</td>\n",
       "      <td>...</td>\n",
       "      <td>...</td>\n",
       "      <td>...</td>\n",
       "      <td>...</td>\n",
       "      <td>...</td>\n",
       "    </tr>\n",
       "    <tr>\n",
       "      <th>3389</th>\n",
       "      <td>NVDA_012023P118.75</td>\n",
       "      <td>NVDA Jan 20 2023 118.75 Put</td>\n",
       "      <td>1200</td>\n",
       "      <td>PUT</td>\n",
       "      <td>1674248400000</td>\n",
       "      <td>118.75</td>\n",
       "      <td>3.45</td>\n",
       "      <td>3.75</td>\n",
       "      <td>3.20</td>\n",
       "      <td>3.60</td>\n",
       "    </tr>\n",
       "    <tr>\n",
       "      <th>3390</th>\n",
       "      <td>NVDA_012023P121.25</td>\n",
       "      <td>NVDA Jan 20 2023 121.25 Put</td>\n",
       "      <td>1200</td>\n",
       "      <td>PUT</td>\n",
       "      <td>1674248400000</td>\n",
       "      <td>121.25</td>\n",
       "      <td>3.65</td>\n",
       "      <td>3.95</td>\n",
       "      <td>3.55</td>\n",
       "      <td>3.80</td>\n",
       "    </tr>\n",
       "    <tr>\n",
       "      <th>3391</th>\n",
       "      <td>NVDA_012023P123.75</td>\n",
       "      <td>NVDA Jan 20 2023 123.75 Put</td>\n",
       "      <td>1200</td>\n",
       "      <td>PUT</td>\n",
       "      <td>1674248400000</td>\n",
       "      <td>123.75</td>\n",
       "      <td>3.85</td>\n",
       "      <td>4.20</td>\n",
       "      <td>3.55</td>\n",
       "      <td>4.03</td>\n",
       "    </tr>\n",
       "    <tr>\n",
       "      <th>3392</th>\n",
       "      <td>NVDA_012023P126.25</td>\n",
       "      <td>NVDA Jan 20 2023 126.25 Put</td>\n",
       "      <td>1200</td>\n",
       "      <td>PUT</td>\n",
       "      <td>1674248400000</td>\n",
       "      <td>126.25</td>\n",
       "      <td>4.05</td>\n",
       "      <td>4.40</td>\n",
       "      <td>4.57</td>\n",
       "      <td>4.22</td>\n",
       "    </tr>\n",
       "    <tr>\n",
       "      <th>3393</th>\n",
       "      <td>NVDA_012023P128.75</td>\n",
       "      <td>NVDA Jan 20 2023 128.75 Put</td>\n",
       "      <td>1200</td>\n",
       "      <td>PUT</td>\n",
       "      <td>1674248400000</td>\n",
       "      <td>128.75</td>\n",
       "      <td>4.30</td>\n",
       "      <td>4.70</td>\n",
       "      <td>4.20</td>\n",
       "      <td>4.50</td>\n",
       "    </tr>\n",
       "  </tbody>\n",
       "</table>\n",
       "<p>3394 rows × 10 columns</p>\n",
       "</div>"
      ],
      "text/plain": [
       "                  symbol                  description  timeofday putCall  \\\n",
       "0         NVDA_121721C70     NVDA Dec 17 2021 70 Call       1200    CALL   \n",
       "1         NVDA_012122C70     NVDA Jan 21 2022 70 Call       1200    CALL   \n",
       "2         NVDA_061722C70     NVDA Jun 17 2022 70 Call       1200    CALL   \n",
       "3         NVDA_091622C70     NVDA Sep 16 2022 70 Call       1200    CALL   \n",
       "4         NVDA_012023C70     NVDA Jan 20 2023 70 Call       1200    CALL   \n",
       "...                  ...                          ...        ...     ...   \n",
       "3389  NVDA_012023P118.75  NVDA Jan 20 2023 118.75 Put       1200     PUT   \n",
       "3390  NVDA_012023P121.25  NVDA Jan 20 2023 121.25 Put       1200     PUT   \n",
       "3391  NVDA_012023P123.75  NVDA Jan 20 2023 123.75 Put       1200     PUT   \n",
       "3392  NVDA_012023P126.25  NVDA Jan 20 2023 126.25 Put       1200     PUT   \n",
       "3393  NVDA_012023P128.75  NVDA Jan 20 2023 128.75 Put       1200     PUT   \n",
       "\n",
       "      expirationDate  strikePrice     bid     ask    last    mark  \n",
       "0      1639774800000        70.00  215.05  216.10  215.90  215.58  \n",
       "1      1642798800000        70.00  214.95  216.70  243.77  215.83  \n",
       "2      1655496000000        70.00  215.55  217.30  224.56  216.43  \n",
       "3      1663358400000        70.00  216.00  217.90  248.00  216.95  \n",
       "4      1674248400000        70.00  216.80  218.75  202.98  217.78  \n",
       "...              ...          ...     ...     ...     ...     ...  \n",
       "3389   1674248400000       118.75    3.45    3.75    3.20    3.60  \n",
       "3390   1674248400000       121.25    3.65    3.95    3.55    3.80  \n",
       "3391   1674248400000       123.75    3.85    4.20    3.55    4.03  \n",
       "3392   1674248400000       126.25    4.05    4.40    4.57    4.22  \n",
       "3393   1674248400000       128.75    4.30    4.70    4.20    4.50  \n",
       "\n",
       "[3394 rows x 10 columns]"
      ]
     },
     "execution_count": 28,
     "metadata": {},
     "output_type": "execute_result"
    }
   ],
   "source": [
    "# Inspect before saving\n",
    "(df[['symbol', 'description', 'timeofday', 'putCall',\n",
    "    'expirationDate', 'strikePrice', 'bid', 'ask', 'last', 'mark']])"
   ]
  },
  {
   "cell_type": "code",
   "execution_count": 56,
   "id": "23e69016",
   "metadata": {},
   "outputs": [],
   "source": [
    "# Save to file for streamlit app\n",
    "df.to_csv('data/df_1500.csv')"
   ]
  },
  {
   "cell_type": "markdown",
   "id": "36aec1db",
   "metadata": {},
   "source": [
    "### 4. Preview visualization"
   ]
  },
  {
   "cell_type": "code",
   "execution_count": 41,
   "id": "748ef941",
   "metadata": {},
   "outputs": [],
   "source": [
    "import matplotlib.pyplot as plt\n",
    "import matplotlib.cm as cm\n",
    "from mpl_toolkits.mplot3d.axes3d import Axes3D\n",
    "from mpl_toolkits.mplot3d import proj3d"
   ]
  },
  {
   "cell_type": "code",
   "execution_count": null,
   "id": "8a2d610f",
   "metadata": {},
   "outputs": [],
   "source": [
    "# Visualize options chain as 3D scatter plot\n",
    "# Prepare figure parameters\n",
    "fig = plt.figure(figsize=(10,100))\n",
    "ax = fig.add_subplot(projection='3d')\n",
    "ax.set_xlabel('Strike Price ($)')\n",
    "ax.set_ylabel('Expiration Date (epoch)')\n",
    "ax.set_zlabel('Option Price ($)')\n",
    "\n",
    "ax.set_xlim(left=250, right=350)\n",
    "ax.set_ylim(bottom=1639774800000, top=1642496000000)\n",
    "ax.set_zlim(bottom=0, top=500)"
   ]
  },
  {
   "cell_type": "code",
   "execution_count": 83,
   "id": "5384e7d8",
   "metadata": {
    "collapsed": true
   },
   "outputs": [
    {
     "data": {
      "text/plain": [
       "0       v\n",
       "1       v\n",
       "2       v\n",
       "3       v\n",
       "4       v\n",
       "       ..\n",
       "1692    v\n",
       "1693    v\n",
       "1694    v\n",
       "1695    v\n",
       "1696    v\n",
       "Name: icon, Length: 1697, dtype: object"
      ]
     },
     "execution_count": 83,
     "metadata": {},
     "output_type": "execute_result"
    },
    {
     "data": {
      "image/png": "[encoded data removed]",
      "text/plain": [
       "<Figure size 720x7200 with 1 Axes>"
      ]
     },
     "metadata": {
      "needs_background": "light"
     },
     "output_type": "display_data"
    }
   ],
   "source": [
    "# Get features for plotting\n",
    "# Set first quote of day as baseline\n",
    "df_0 = pd.read_csv('data/df_0900.csv')\n",
    "\n",
    "# Get percent change from baseline\n",
    "df['pctChange'] = (df['mark'] / df_0['mark']) - 1."
   ]
  },
  {
   "cell_type": "code",
   "execution_count": 84,
   "id": "e45e9e72",
   "metadata": {},
   "outputs": [],
   "source": [
    "df_c = df[(df.putCall == 'CALL')]\n",
    "x = df_c['strikePrice']\n",
    "y = df_c['expirationDate']\n",
    "z = df_c['mark']\n",
    "\n",
    "hue = df_c['pctChange']\n",
    "marker = '^'\n",
    "\n",
    "ax.scatter(x, y, z, \n",
    "           c=hue.map(cm.PuOr), \n",
    "           marker=marker)\n",
    "ax.set_box_aspect((1, 3, 1))\n",
    "\n",
    "\n",
    "\n",
    "ax.view_init(20, -60)\n",
    "plt.show()"
   ]
  },
  {
   "cell_type": "code",
   "execution_count": 48,
   "id": "dafe10c4",
   "metadata": {},
   "outputs": [
    {
     "data": {
      "image/png": "[encoded data removed]",
      "text/html": [
       "<div style=\"vertical-align: middle;\"><strong>coolwarm</strong> </div><div class=\"cmap\"><img alt=\"coolwarm colormap\" title=\"coolwarm\" style=\"border: 1px solid #555;\" src=\"data:image/png;base64,iVBORw0KGgoAAAANSUhEUgAAAgAAAABACAYAAABsv8+/AAAAF3RFWHRUaXRsZQBjb29sd2FybSBjb2xvcm1hcPHW9i4AAAAddEVYdERlc2NyaXB0aW9uAGNvb2x3YXJtIGNvbG9ybWFw2KgRBwAAADB0RVh0QXV0aG9yAE1hdHBsb3RsaWIgdjMuNC4zLCBodHRwczovL21hdHBsb3RsaWIub3JnCV3z0wAAADJ0RVh0U29mdHdhcmUATWF0cGxvdGxpYiB2My40LjMsIGh0dHBzOi8vbWF0cGxvdGxpYi5vcmcn+2z0AAACIUlEQVR4nO3WO3LbQBBF0QaW5TV40d6XTIwTCCo2MQQYOHrnJKr5NRip7vLr959RVbUsS1VVLetaVVXr+rzu50s7X2fnt+cu+/n5/nF+8Z315buz9/3310fzXvfrfP73nOn8mnzv+f7xfva9/bzPu9w/vnM+b36v3t+72J/fGxfvx739mt1v82tyXv13jPO5x7175y/fm53f3F/7fm333vf7o+2P7cP18371e+P9nOrvR/995/e+59ZkPZ17rN/fO+Zufe75vdr67znfv3o3tnv3Lt/t69HW3+fH/Zc579+/rLc2r82fzevf7/ePv+Pq3uTdf9rfHu/v/5y3e/v+1uc/tud3j8m84/0+72tf/x2frb+e/18BAEEEAAAEEgAAEEgAAEAgAQAAgQQAAAQSAAAQSAAAQCABAACBBAAABBIAABBIAABAIAEAAIEEAAAEEgAAEEgAAEAgAQAAgQQAAAQSAAAQSAAAQCABAACBBAAABBIAABBIAABAIAEAAIEEAAAEEgAAEEgAAEAgAQAAgQQAAAQSAAAQSAAAQCABAACBBAAABBIAABBIAABAIAEAAIEEAAAEEgAAEEgAAEAgAQAAgQQAAAQSAAAQSAAAQCABAACBBAAABBIAABBIAABAIAEAAIEEAAAEEgAAEEgAAEAgAQAAgQQAAAQSAAAQSAAAQCABAACBBAAABBIAABBIAABAIAEAAIEEAAAEEgAAEOgf6GZUalYlbg8AAAAASUVORK5CYII=\"></div><div style=\"vertical-align: middle; max-width: 514px; display: flex; justify-content: space-between;\"><div style=\"float: left;\"><div title=\"#3b4cc0ff\" style=\"display: inline-block; width: 1em; height: 1em; margin: 0; vertical-align: middle; border: 1px solid #555; background-color: #3b4cc0ff;\"></div> under</div><div style=\"margin: 0 auto; display: inline-block;\">bad <div title=\"#00000000\" style=\"display: inline-block; width: 1em; height: 1em; margin: 0; vertical-align: middle; border: 1px solid #555; background-color: #00000000;\"></div></div><div style=\"float: right;\">over <div title=\"#b40426ff\" style=\"display: inline-block; width: 1em; height: 1em; margin: 0; vertical-align: middle; border: 1px solid #555; background-color: #b40426ff;\"></div></div>"
      ],
      "text/plain": [
       "<matplotlib.colors.LinearSegmentedColormap at 0x7f8b483996a0>"
      ]
     },
     "execution_count": 48,
     "metadata": {},
     "output_type": "execute_result"
    }
   ],
   "source": [
    "df_p = df[(df.putCall == 'PUT')]"
   ]
  },
  {
   "cell_type": "code",
   "execution_count": null,
   "id": "5e851bee",
   "metadata": {},
   "outputs": [],
   "source": []
  }
 ],
 "metadata": {
  "kernelspec": {
   "display_name": "Python 3 (ipykernel)",
   "language": "python",
   "name": "python3"
  },
  "language_info": {
   "codemirror_mode": {
    "name": "ipython",
    "version": 3
   },
   "file_extension": ".py",
   "mimetype": "text/x-python",
   "name": "python",
   "nbconvert_exporter": "python",
   "pygments_lexer": "ipython3",
   "version": "3.8.10"
  }
 },
 "nbformat": 4,
 "nbformat_minor": 5
}
