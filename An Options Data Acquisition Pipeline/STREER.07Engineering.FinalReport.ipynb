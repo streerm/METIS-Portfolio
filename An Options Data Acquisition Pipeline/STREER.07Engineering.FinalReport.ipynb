{
 "cells": [
  {
   "cell_type": "markdown",
   "id": "7b9b8d78",
   "metadata": {},
   "source": [
    "## Module #7 Project Report\n",
    "### Mark Streer (DS/ML), 17 Dec 2021\n",
    "#### Summary"
   ]
  },
  {
   "cell_type": "markdown",
   "id": "589e4b77",
   "metadata": {},
   "source": [
    "Brokerage APIs often provide live price data on option chains - prices of call & put contracts at different strikes - along with prices of the underlying equity, quoted at the time of the query. While stocks' share price history - open/close/high/low/volume by day, week, or desired period - is widely available from brokerage APIs and even websites such as Yahoo! Finance and polygon.io, the same is not true for historical option prices. In this project, I created an automated API query and storage pipeline for option-chain prices, with the intention of acquiring granular price data for different machine learning models to inform trading decisions and improve returns."
   ]
  },
  {
   "cell_type": "markdown",
   "id": "0f4fa227",
   "metadata": {},
   "source": [
    "#### Design"
   ]
  },
  {
   "cell_type": "markdown",
   "id": "0a83aeca-8af9-4770-8ee7-3f7e27a3774e",
   "metadata": {},
   "source": [
    "Here is a schematic of the data pipeline."
   ]
  },
  {
   "cell_type": "markdown",
   "id": "c74b7445-33bb-4cec-a117-644cf8f3a722",
   "metadata": {},
   "source": [
    "![](workflow.png)"
   ]
  },
  {
   "cell_type": "markdown",
   "id": "8f2fdb15-8bda-4096-a6fa-0a7e1badbb5c",
   "metadata": {},
   "source": [
    "The Python script (get_quotes.py) is executed by Python by the crontab utility every minute for eight hours (0900-1659) spanning NYSE market hours (0930-1600). The TD Ameritrade API permits up to 60 queries per second; neither throttling nor bans were encountered during data acquisition. However, the API log-in seems to time out after 15 minutes, requiring manually logging in via a web browser. Future work will automate this log-in using Selenium."
   ]
  },
  {
   "cell_type": "markdown",
   "id": "a1551afe",
   "metadata": {},
   "source": [
    "The real value of the data acquired, in my view, is best realized through the application of different time series and machine learning models. Historical prices do not determine future prices, but market data for options - which financial institutions purchase to hedge the underlying equity at specific future dates - could give valuable insight into macro-level beliefs about price movement over those dates: 'the wisdom of crowds'.\n",
    "\n",
    "Deep learning models with LSTM nodes and sequence-to-sequence architectures have started to show promise in stock price prediction, which previous state-of-the-art models (S/ARIMA) hardly perform perfectly. Since DL models are so 'data-hungry' and pipeline data will take time to accumulate, this application may take time to implement. For now, framing the problems and predictions inherent in trading strategies in terms of ML algorithms will be on my mind:\n",
    "\n",
    "* Price prediction (time-series regression).\n",
    "    * What will the market price of stock X be at time T?\n",
    "    * When should I sell stock X to maximize gains/minimize loss?\n",
    "* Decision support (classification).\n",
    "    * Should I sell stock X now? at time T?\n",
    "    * Should I buy, sell, or hold stock X? (multinomial)\n",
    "    * Which stock will give better returns at the current price?"
   ]
  },
  {
   "cell_type": "markdown",
   "id": "946ca32f",
   "metadata": {},
   "source": [
    "#### Data, Algorithms, Tools"
   ]
  },
  {
   "cell_type": "markdown",
   "id": "f1b04e6e",
   "metadata": {},
   "source": [
    "* **[Unofficial TD Ameritrade API Client Library](https://github.com/areed1192/td-ameritrade-python-api)**. Used to input login credentials for my personal brokerage account (primarily developer API key).\n",
    "* **MongoDB (pymongo)**. Data storage & retrieval.\n",
    "* **Streamlit**. Deployed a [basic web application](https://share.streamlit.io/streerm/metis-submissions/main/Project07.Engineering/visualize_options_chain.py) to visualize snapshots of option chains for a single stock over the course of a trading day."
   ]
  },
  {
   "cell_type": "markdown",
   "id": "f4ed5226",
   "metadata": {},
   "source": [
    "The figures below show snapshots of the options chain for a single equity (NVDA: Nvidia Corporation) in four dimensions: strike price, expiration date, premium (cost), and contract type (call | put). Percentage moves in prices are color-coded; red indicates loss, as usual; green indicates gain, and transitions to blue as appreciation exceeds 100%. Generally, calls (up-arrows) appreciate in value when the share price increases, while puts (down-arrows) lose value; the inverse is true when the underlying price decreases.  \n",
    "\n",
    "The stock market trended strongly negative on Thu 16 Dec 2022, especially NVDA and other tech stocks on the NASDAQ. Already at 1000 AM, calls soon to expire (right side, closer to foreground) are sharply negative, while puts soon to expire (left side, closer to foreground) are up over 100%. Later-expiring contracts also appreciate/depreciate with the trend, but as expected, do not react as strongly to daily price movements."
   ]
  },
  {
   "cell_type": "markdown",
   "id": "f6e5f090",
   "metadata": {},
   "source": [
    "**NVDA Options Chain Snapshot - Thu 16 Dec 2022 - 1000 AM**\n",
    "Share Price:  ~$301\n",
    "![](image1000.png \"Options Chain Snapshot - Thu 16 Dec 2022 - 1000 AM\")"
   ]
  },
  {
   "cell_type": "markdown",
   "id": "9b1d7be7",
   "metadata": {},
   "source": [
    "By 1400, NVDA had dropped over 7% in value, leading options market participants to readjust their expectations for the stock's future price far into the future. All puts are strongly positive, while all calls are strongly negative. Note that the call and put chains for each date (which evoke crossed hockey sticks) intersect at the current share price: ~\\\\$300 at 1000am, but ~\\\\$285 by 1400pm."
   ]
  },
  {
   "cell_type": "markdown",
   "id": "f27d80c4",
   "metadata": {},
   "source": [
    "**NVDA Options Chain Snapshot - Thu 16 Dec 2022 - 1400 PM**\n",
    "Share Price:  ~$285\n",
    "![](image1400.png \"Options Chain Snapshot - Thu 16 Dec 2022 - 1400 PM\")"
   ]
  }
 ],
 "metadata": {
  "kernelspec": {
   "display_name": "Python 3",
   "language": "python",
   "name": "python3"
  },
  "language_info": {
   "codemirror_mode": {
    "name": "ipython",
    "version": 3
   },
   "file_extension": ".py",
   "mimetype": "text/x-python",
   "name": "python",
   "nbconvert_exporter": "python",
   "pygments_lexer": "ipython3",
   "version": "3.8.8"
  }
 },
 "nbformat": 4,
 "nbformat_minor": 5
}
