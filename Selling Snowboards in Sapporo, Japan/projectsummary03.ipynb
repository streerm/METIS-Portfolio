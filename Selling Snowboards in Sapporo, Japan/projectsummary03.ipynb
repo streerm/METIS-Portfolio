{
 "cells": [
  {
   "cell_type": "markdown",
   "id": "71534d26",
   "metadata": {},
   "source": [
    "# Final Project Summary\n",
    "## Module #3 (Business Fundamentals for Data Science)\n",
    "## Mark Streer (DS/ML)"
   ]
  },
  {
   "cell_type": "markdown",
   "id": "553581cb",
   "metadata": {},
   "source": [
    "### Abstract:\n",
    "\n",
    "Physical advertising such as billboards, posters, flyers, and even tissue packs is omnipresent and even expected of businesses in Japan, but competition is fierce. For small businesses with limited marketing budgets, maximizing revenue resulting from ad campaigns is essential for prosperity and even survival. This proposal is aimed at a small retailer of winter sports equipment and apparel who wishes to increase sales resulting from flyer distribution to residential households in Sapporo, Japan. Regression and clustering are proposed to determine the characteristics of loyal existing customers; geographic segmentation based on publicly available national census data is proposed to identify census districts for flyer distribution whose residents are most similar. This approach could be generalized to other retailers whose customer bases are different in qualities and/or scale."
   ]
  },
  {
   "cell_type": "markdown",
   "id": "8665fa64",
   "metadata": {},
   "source": [
    "### Design:\n",
    "#### Business Problem\n",
    "\n",
    "Physical advertising in the form of billboards, posters, flyers, and even tissue packs is omnipresent and traditionally expected of Japanese businesses. But competition is fierce, and it is not uncommon for companies to invest considerably in marketing campaigns just to break even. The desire for efficient ad spending is especially keen among small businesses and sole proprietors, who lack the deep pockets and marketing teams of national and multinational chains. Distribution of promotional flyers (*chirashi*) to residences is among the most affordable options for physical marketing, but the sales conversion rate is low, and it is easy for typically clean apartment foyers to become littered with the shrapnel of campaigns for goods and services that missed their target audience.\n",
    "\n",
    "I propose to identify high-impact neighborhoods in which to prioritize flyer distribution for a small retailer of winter sports equipment and apparel in Sapporo, Japan's fifth largest city and the gateway to skiing and snowboarding destinations in Hokkaido. Here, impact is quantified in terms of **return on ad spend (ROAS)**: i.e., yen earned in sales per yen spent on advertising."
   ]
  },
  {
   "cell_type": "markdown",
   "id": "c453cc35",
   "metadata": {},
   "source": [
    "#### Data science solution path\n",
    "\n",
    "##### 1. Collect information on existing customers  \n",
    "\n",
    "Retailers often keep basic demographic information about their customers, especially if they have a rewards program or online presence. Ideally, the sales history of each registered customer would be available for analysis and exploration, but if not, proprietors and sales staff could be interviewed for their impressions of regular customers and target demographics. Customers could also be surveyed via opinion questionnaire to obtain unknown information. \n",
    "\n",
    "##### 2. Determine target audience for ad campaign using data science  \n",
    "\n",
    "Sales revenue is presumed to be driven by customers who make **frequent, reliable, and/or expensive** purchases. Regression analysis to predict yen spent at the store per quarter could be used to identify which features contribute most. Alternatively or complementarily, distinct patterns of shopping behaviors or brand preferences common among the store's clientele could be identified by clustering analysis. Either way, the output of this step should be a market segment or segments: for illustrative purposes, \"single adults aged 20-29\" are designated as the target audience for now.\n",
    "\n",
    "##### 3. Identify districts with greatest % residents belonging to target audience using census data  \n",
    "\n",
    "Japan's census is conducted every five years, recording demographic, employment, and economic information on its residents at the granular level of *enumerated census district* (chōsa-ku: 調査区). This data is made publicly available via the Portal Site of Official Statistics of Japan [\"e-Stat.go.jp\")](https://www.e-stat.go.jp/en), a repository maintained by the [National Statistics Center](https://www.nstac.go.jp/en/) under the direction of the Statistics Bureau (Ministry of Internal Affairs and Communication).\n",
    "  \n",
    "For illustrative purposes, the following feature data have been cleaned, explored, and visualized at the census district level using Microsoft Excel and Tableau: 1) population (total/male/female), 2) age distribution (5-year bins), 3) household type, 4) occupation, and 5) industry of employment. Gender ratio and household size were derived as *female divided by male residents*, and *number of residents divided by number of households*, respectively. Geospatial data at this level was also downloaded from e-Stat.go.jp: since this dataset included the size of each census district, population density could be additionally derived as *number of residents divided by number of households*.\n",
    "\n",
    "##### 4. Distribute flyers to mailboxes in target districts\n",
    "\n",
    "In this example, three target audiences were proposed.\n",
    "1. Young adults aged 20-29 (disposable income on recreation)\n",
    "2. Households with children aged 6 or under (parents buying for children)\n",
    "3. Employed individuals working in IT (large salaries, outdoor recreation)\n",
    "Flyer printing can be easily budgeted based on the number of households per block.\n",
    "\n",
    "In addition, flyer recipients should be encouraged to report they received it if they visit the store, either through a promotional offer (e.g. \"5% off your purchase when you mention this flyer\") or incentivizing them to register with the store for better profiling (step 1 above).\n",
    "\n",
    "\n",
    "##### 5. Quantify success; repeat the cycle\n",
    "\n",
    "The campaign should be run mid-autumn when winter sports enthusiasts are preparing for the regular season, to coincide with needed upgrades and repairs. For ease of comparison, it is recommended to distribute as many flyers this year as in past years, to simplify comparison of the chief metric of success: return on ad spend (ROAS). The cycle could be repeated the following year, adjusting target demographics and advertising budgets as appropriate, ideally registering and analyzing new customers throughout the year to inform successive campaigns."
   ]
  },
  {
   "cell_type": "markdown",
   "id": "14dda9e7",
   "metadata": {},
   "source": [
    "#### Impact Hypothesis\n",
    "\n",
    "Prioritizing flyer distribution in census districts with greater proportions of the store's target demographic (here, single residents aged 20-29) will result in greater ROAS compared with past campaigns, over the following fall/winter (Q3-Q4) compared with the equivalent period in previous years."
   ]
  },
  {
   "cell_type": "markdown",
   "id": "00a1cb0c",
   "metadata": {},
   "source": [
    "### Tools\n",
    "\n",
    "**Microsoft Excel** is used for exploratory data analysis, cleaning, and feature derivation.  \n",
    "(Refer to *sapporo_census_data.xlsx* on Github)  \n",
    "**Tableau** is used to visualize high-impact census districts overlaid on maps of Sapporo.  \n",
    "(View [*Geographic Segmentation in Sapporo*](https://public.tableau.com/views/GeographicSegmentationofSapporoJapan/geosegment_sapporo?:language=en-US&publish=yes&:display_count=n&:origin=viz_share_link) on Tableau Public)"
   ]
  }
 ],
 "metadata": {
  "kernelspec": {
   "display_name": "Python 3 (ipykernel)",
   "language": "python",
   "name": "python3"
  },
  "language_info": {
   "codemirror_mode": {
    "name": "ipython",
    "version": 3
   },
   "file_extension": ".py",
   "mimetype": "text/x-python",
   "name": "python",
   "nbconvert_exporter": "python",
   "pygments_lexer": "ipython3",
   "version": "3.8.10"
  }
 },
 "nbformat": 4,
 "nbformat_minor": 5
}
