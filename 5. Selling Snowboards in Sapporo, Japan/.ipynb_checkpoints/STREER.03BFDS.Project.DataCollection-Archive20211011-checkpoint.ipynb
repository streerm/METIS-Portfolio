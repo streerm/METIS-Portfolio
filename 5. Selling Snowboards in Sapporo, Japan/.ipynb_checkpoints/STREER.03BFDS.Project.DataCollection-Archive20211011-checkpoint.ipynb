{
 "cells": [
  {
   "cell_type": "code",
   "execution_count": null,
   "id": "f59c670b",
   "metadata": {},
   "outputs": [],
   "source": [
    "import numpy as np\n",
    "import pandas as pd\n",
    "import geopandas as gpd\n",
    "\n",
    "from bs4 import BeautifulSoup\n",
    "import requests\n",
    "import time, os\n",
    "\n",
    "pd.options.mode.chained_assignment = None"
   ]
  },
  {
   "cell_type": "markdown",
   "id": "ae52a9d3",
   "metadata": {},
   "source": [
    "### Import 2021 demographic data (DATA-SMART CITY SAPPORO)"
   ]
  },
  {
   "cell_type": "code",
   "execution_count": null,
   "id": "6b37ee56",
   "metadata": {},
   "outputs": [],
   "source": [
    "# Import CSV from Sapporo municipal gov't, after editing in Excel (ensure 'header=1')\n",
    "# Source: DATA-SMART CITY SAPPORO (町名・条丁目別世帯数及び男女別人口 令和3年（2021年）4月1日現在.csv)\n",
    "\n",
    "df = pd.read_csv('町名・条丁目別_export.csv', header=1)\n",
    "df.columns = ['Ward', 'Block', 'N_Households_2021',\n",
    "              \"Population_2021\", \"Male\", \"Female\"]"
   ]
  },
  {
   "cell_type": "code",
   "execution_count": null,
   "id": "7d64b75a",
   "metadata": {},
   "outputs": [],
   "source": [
    "# For checking individual entries\n",
    "# df[df['町条丁目'] == \"宮の森一条１０丁目\"] "
   ]
  },
  {
   "cell_type": "markdown",
   "id": "ea673be5",
   "metadata": {},
   "source": [
    "### Import shape data (Geoshape Repository)"
   ]
  },
  {
   "cell_type": "code",
   "execution_count": null,
   "id": "5a69dfab",
   "metadata": {},
   "outputs": [],
   "source": [
    "# Import SHP from Geoshape Repository > 国勢調査町丁・字等別境界データ\n",
    "# Source: https://geoshape.ex.nii.ac.jp/ka/\n",
    "\n",
    "dfgeo_japan = gpd.read_file('h27ka01.shp')\n",
    "dfgeo_sapp = dfgeo_japan.iloc[:5796, :]  #  清田区→里塚緑ケ丘１２丁目 = last entry for Sapporo City"
   ]
  },
  {
   "cell_type": "code",
   "execution_count": null,
   "id": "db7a7e9b",
   "metadata": {},
   "outputs": [],
   "source": [
    "# For checking individual entries\n",
    "# dfgeo_sapp[dfgeo_sapp['S_NAME'] == \"宮の森（番地）\"]"
   ]
  },
  {
   "cell_type": "code",
   "execution_count": null,
   "id": "a5a08e8b",
   "metadata": {},
   "outputs": [],
   "source": [
    "# Save Sapporo data as CSV\n",
    "\n",
    "dfgeo_sapp.to_csv('GISrefdata_for_checking.csv')"
   ]
  },
  {
   "cell_type": "code",
   "execution_count": null,
   "id": "65c5ec15",
   "metadata": {},
   "outputs": [],
   "source": [
    "# Reduce feature for data analysis\n",
    "\n",
    "dfgeo_sapp_cut = dfgeo_sapp[[\"KEY_CODE\",   # unique ID for join in Tableau\n",
    "                            \"PREF_NAME\", \"CITY_NAME\", \"S_NAME\", \"KIGO_E\",\n",
    "                            \"AREA\", \"JINKO\", \"SETAI\",\n",
    "                            \"X_CODE\", \"Y_CODE\"]]\n",
    "\n",
    "dfgeo_sapp_cut.rename(columns={'JINKO': 'Population_2015', 'SETAI': 'N_Households_2015', 'KIGO_E': 'Kigo_E',\n",
    "                              'PREF_NAME': 'Pref_ref', 'CITY_NAME': 'Ward_ref', 'S_NAME': 'Block_ref',\n",
    "                              'AREA': 'Area', \"X_CODE\": 'Lat', 'Y_CODE': 'Lng'}, inplace=True)"
   ]
  },
  {
   "cell_type": "markdown",
   "id": "979cff79",
   "metadata": {},
   "source": [
    "### Join datasets on neighborhood"
   ]
  },
  {
   "cell_type": "code",
   "execution_count": null,
   "id": "f6cc3a9a",
   "metadata": {},
   "outputs": [],
   "source": [
    "# Join datasets on ['Ward', 'Block'], ['CITY_NAME', \"S_NAME\"]\n",
    "\n",
    "joined_df = pd.merge(df, dfgeo_sapp_cut, left_on=['Ward', 'Block'], right_on=['Ward_ref', 'Block_ref'], how='left')\n",
    "# new_df = joined_df[joined_df['KEY_CODE'].notna()]\n",
    "new_df = joined_df[[\"KEY_CODE\",   # unique ID for join in Tableau\n",
    "                    \"Ward\", \"Block\", \"Pref_ref\", \"Ward_ref\", \"Block_ref\", \"Kigo_E\",\n",
    "                    \"N_Households_2015\", \"N_Households_2021\",\n",
    "                    \"Population_2021\", \"Population_2015\",\n",
    "                    \"Male\", \"Female\", \"Area\", \"Lat\", \"Lng\"]]"
   ]
  },
  {
   "cell_type": "markdown",
   "id": "961f42cf",
   "metadata": {},
   "source": [
    "### Derived features"
   ]
  },
  {
   "cell_type": "code",
   "execution_count": null,
   "id": "d7efabb1",
   "metadata": {},
   "outputs": [],
   "source": [
    "# Population density\n",
    "new_df['PopDen_2015'] = new_df['Population_2015'] / new_df['Area']\n",
    "new_df['PopDen_2021'] = new_df['Population_2021'] / new_df['Area']\n",
    "\n",
    "# Gender ratio\n",
    "new_df['Sex_ratio'] = new_df['Female'] / (new_df['Female'] + new_df['Male'])\n",
    "\n",
    "# People per household\n",
    "# Greater values = Families, multigenerational households\n",
    "new_df[\"Household_size_2015\"] = new_df['Population_2015'] / new_df['N_Households_2015']\n",
    "new_df[\"Household_size_2021\"] = new_df['Population_2021'] / new_df['N_Households_2021']\n",
    "\n",
    "new_df"
   ]
  },
  {
   "cell_type": "code",
   "execution_count": null,
   "id": "630382d0",
   "metadata": {},
   "outputs": [],
   "source": [
    "# Export for checking in Numbers\n",
    "# (10-Oct) Some gaps, but mostly clean\n",
    "\n",
    "new_df.to_csv('joined_dataframe_for_checking_in_numbers.csv')"
   ]
  },
  {
   "cell_type": "code",
   "execution_count": null,
   "id": "1dab2008",
   "metadata": {},
   "outputs": [],
   "source": [
    "# Remove rows that failed to match (<1% of rows; fix later)\n",
    "\n",
    "new_df = new_df[new_df['KEY_CODE'].notna()].reset_index(drop=True)\n",
    "\n",
    "# Convert ID to string for matching in Tableau\n",
    "\n",
    "new_df['KEY_CODE'] = [str(id_no) for id_no in new_df.KEY_CODE]\n",
    "new_df"
   ]
  },
  {
   "cell_type": "code",
   "execution_count": null,
   "id": "8acbd982",
   "metadata": {},
   "outputs": [],
   "source": [
    "new_df.to_csv('sapporo_df_plus_geodata.csv')"
   ]
  },
  {
   "cell_type": "markdown",
   "id": "d0387cdf",
   "metadata": {},
   "source": [
    "### EDA"
   ]
  },
  {
   "cell_type": "code",
   "execution_count": null,
   "id": "6885a0f4",
   "metadata": {},
   "outputs": [],
   "source": [
    "# Mask data here\n",
    "# Limit only districts with population >= 10\n",
    "df_eda = new_df[new_df['Population_2021'] >= 10]"
   ]
  },
  {
   "cell_type": "code",
   "execution_count": null,
   "id": "bd5997fa",
   "metadata": {},
   "outputs": [],
   "source": [
    "# Top five blocks with greatest gender imbalance in residents\n",
    "\n",
    "df_eda.sort_values(by='Sex_ratio', ascending=True)"
   ]
  },
  {
   "cell_type": "code",
   "execution_count": null,
   "id": "8085b9b5",
   "metadata": {},
   "outputs": [],
   "source": [
    "# Top five blocks with largest/smallest households\n",
    "\n",
    "df_eda.sort_values(by='Household_size_2021', ascending=True)"
   ]
  },
  {
   "cell_type": "code",
   "execution_count": null,
   "id": "24ce7048",
   "metadata": {},
   "outputs": [],
   "source": []
  },
  {
   "cell_type": "code",
   "execution_count": null,
   "id": "91c02c67",
   "metadata": {},
   "outputs": [],
   "source": []
  }
 ],
 "metadata": {
  "kernelspec": {
   "display_name": "Python [conda env:metis] *",
   "language": "python",
   "name": "conda-env-metis-py"
  },
  "language_info": {
   "codemirror_mode": {
    "name": "ipython",
    "version": 3
   },
   "file_extension": ".py",
   "mimetype": "text/x-python",
   "name": "python",
   "nbconvert_exporter": "python",
   "pygments_lexer": "ipython3",
   "version": "3.8.10"
  }
 },
 "nbformat": 4,
 "nbformat_minor": 5
}
