{
 "cells": [
  {
   "cell_type": "code",
   "execution_count": null,
   "id": "f59c670b",
   "metadata": {},
   "outputs": [],
   "source": [
    "import numpy as np\n",
    "import pandas as pd\n",
    "import geopandas as gpd\n",
    "\n",
    "from bs4 import BeautifulSoup\n",
    "import requests\n",
    "import time, os"
   ]
  },
  {
   "cell_type": "markdown",
   "id": "ae52a9d3",
   "metadata": {},
   "source": [
    "### Import 2021 demographic data (DATA-SMART CITY SAPPORO)"
   ]
  },
  {
   "cell_type": "code",
   "execution_count": null,
   "id": "6b37ee56",
   "metadata": {},
   "outputs": [],
   "source": [
    "# Import CSV from Sapporo municipal gov't, after editing in Excel (ensure 'header=1')\n",
    "# Source: DATA-SMART CITY SAPPORO (町名・条丁目別世帯数及び男女別人口 令和3年（2021年）4月1日現在.csv)\n",
    "\n",
    "df = pd.read_csv('町名・条丁目別_export.csv', header=1)\n",
    "df"
   ]
  },
  {
   "cell_type": "code",
   "execution_count": null,
   "id": "4922c4a9",
   "metadata": {},
   "outputs": [],
   "source": [
    "# Check individual entries\n",
    "# df[df['町条丁目'] == \"宮の森一条１０丁目\"] "
   ]
  },
  {
   "cell_type": "markdown",
   "id": "be8290cd",
   "metadata": {},
   "source": [
    "### Import shape data (Geoshape Repository)"
   ]
  },
  {
   "cell_type": "code",
   "execution_count": null,
   "id": "5a69dfab",
   "metadata": {},
   "outputs": [],
   "source": [
    "# Import SHP from Geoshape Repository > 国勢調査町丁・字等別境界データ\n",
    "# Source: https://geoshape.ex.nii.ac.jp/ka/\n",
    "\n",
    "dfgeo_japan = gpd.read_file('h27ka01.shp')\n",
    "dfgeo_sapp = dfgeo_japan.iloc[:5796, :]  #  清田区→里塚緑ケ丘１２丁目 = last entry for Sapporo City\n",
    "\n",
    "dfgeo_sapp.to_csv('GISrefdata_for_checking.csv')"
   ]
  },
  {
   "cell_type": "code",
   "execution_count": null,
   "id": "401dfca9",
   "metadata": {},
   "outputs": [],
   "source": [
    "# Check individual entries\n",
    "# dfgeo_sapp[dfgeo_sapp['S_NAME'] == \"宮の森（番地）\"]"
   ]
  },
  {
   "cell_type": "markdown",
   "id": "fcadcfcc",
   "metadata": {},
   "source": [
    "### Join datasets on neighborhood"
   ]
  },
  {
   "cell_type": "code",
   "execution_count": null,
   "id": "ea054d6d",
   "metadata": {},
   "outputs": [],
   "source": [
    "# Join datasets on ['区別', '町条丁目'], ['CITY_NAME', \"S_NAME\"]\n",
    "\n",
    "joined_df = pd.merge(df, dfgeo_sapp, left_on=['区別', '町条丁目'], right_on=['CITY_NAME', 'MOJI'], how='left')\n",
    "# new_df = joined_df[joined_df['KEY_CODE'].notna()]\n",
    "joined_df"
   ]
  },
  {
   "cell_type": "code",
   "execution_count": null,
   "id": "8bb3097a",
   "metadata": {},
   "outputs": [],
   "source": [
    "# Export for checking in Numbers\n",
    "# (8-Oct) Some gaps, but mostly clean\n",
    "\n",
    "joined_df.to_csv('joined_dataframe_for_checking_in_excel.csv')　# in Numbers"
   ]
  },
  {
   "cell_type": "code",
   "execution_count": null,
   "id": "5a5eaca8",
   "metadata": {},
   "outputs": [],
   "source": [
    "# Remove rows that failed to match\n",
    "# (<1% of rows; fix later)\n",
    "\n",
    "new_df = joined_df[joined_df['MOJI'].notna()].reset_index(drop=True)\n",
    "new_df"
   ]
  },
  {
   "cell_type": "code",
   "execution_count": null,
   "id": "346ed9ee",
   "metadata": {},
   "outputs": [],
   "source": [
    "new_df.to_csv('sapporo_df_with_geodata.csv')"
   ]
  },
  {
   "cell_type": "code",
   "execution_count": null,
   "id": "5c43bd9b",
   "metadata": {},
   "outputs": [],
   "source": []
  },
  {
   "cell_type": "code",
   "execution_count": null,
   "id": "842124cc",
   "metadata": {},
   "outputs": [],
   "source": []
  },
  {
   "cell_type": "markdown",
   "id": "5bfdcbb6",
   "metadata": {},
   "source": [
    "### Scrape features from ward/district-level pages on apartment hunting website Sumaiti (BeautifulSoup)"
   ]
  },
  {
   "cell_type": "code",
   "execution_count": null,
   "id": "fc491976",
   "metadata": {},
   "outputs": [],
   "source": [
    "import random\n",
    "from fake_useragent import UserAgent\n",
    "\n",
    "url = 'https://sumaity.com/town/hokkaido/sapporo/chuo_ku/'\n",
    "\n",
    "ua = UserAgent()\n",
    "user_agent = {'User-agent': ua.random}\n",
    "response = requests.get(url, headers = user_agent)                       \n",
    "page = response.text\n",
    "soup = BeautifulSoup(page, \"lxml\")"
   ]
  },
  {
   "cell_type": "code",
   "execution_count": null,
   "id": "31d93c3d",
   "metadata": {},
   "outputs": [],
   "source": [
    "# Instantiate lists\n",
    "\n",
    "names = []\n",
    "popden = []\n",
    "LTCcover = []\n",
    "income = []\n",
    "land = []\n",
    "residarea = []\n",
    "\n",
    "rent_studio = []\n",
    "rent_1bdrm = []"
   ]
  },
  {
   "cell_type": "code",
   "execution_count": null,
   "id": "33dc1b53",
   "metadata": {
    "scrolled": false
   },
   "outputs": [],
   "source": [
    "def get_ward_data(url)\n",
    "\n",
    "# Get name of ward\n",
    "output = soup.find('title').text\n",
    "name = output.split('の')[0]\n",
    "names.append(name)\n",
    "\n",
    "# Get population density (人口密度)\n",
    "output = str(soup.findAll(class_='mapBtn')[1])  # 2nd entry\n",
    "feat1 = output.split('</em>')[1].split('<span>')[0].replace(',', '')\n",
    "popden.append(feat1)\n",
    "\n",
    "# Percentage residents in long-term-care facilities (介護施設カバー率; %)\n",
    "output = str(soup.findAll(class_='mapBtn')[4])  # 5th entry\n",
    "feat2 = output.split('</em>')[1].split('<span>')[0].replace(',', '')\n",
    "LTCcover.append(feat2)\n",
    "\n",
    "# Mean annual income (平均所得; 万円)\n",
    "output = str(soup.findAll(class_='mapBtn')[5])  # 6th entry\n",
    "feat3 = output.split('</em>')[1].split('<span>')[0].replace(',', '')\n",
    "income.append(feat3)\n",
    "\n",
    "# Price of land (地価; 円/m2)\n",
    "output = str(soup.findAll(class_='mapBtn')[6])  # 7th entry\n",
    "feat5 = output.split('</em>')[1].split('<span>')[0].replace(',', '')\n",
    "land.append(feat5)\n",
    "\n",
    "# Residence area (住宅面積; m2)\n",
    "output = str(soup.findAll(class_='mapBtn')[7])  # 8th entry\n",
    "feat6 = output.split('</em>')[1].split('<span>')[0].replace(',', '')\n",
    "residarea.append(feat6)"
   ]
  },
  {
   "cell_type": "code",
   "execution_count": null,
   "id": "82146745",
   "metadata": {},
   "outputs": [],
   "source": [
    "# Rent price data\n",
    "\n",
    "rent_table = soup.find('table').findAll('tr')\n",
    "\n",
    "studio_yen = rent_table[1].find('td', class_='price').text  # 2nd row, studio\n",
    "studio_num = float(studio_yen[:-2]) * 10000    #\n",
    "rent_studio.append(studio_num)\n",
    "\n",
    "onebed_yen = rent_table[3].find('td', class_='price').text  # 2nd row, studio\n",
    "onebed_num = float(onebed_yen[:-2]) * 10000    #\n",
    "rent_1bdrm.append(onebed_num)"
   ]
  },
  {
   "cell_type": "code",
   "execution_count": null,
   "id": "b59221fc",
   "metadata": {},
   "outputs": [],
   "source": [
    "# 4. Pause like a human\n",
    "\n",
    "wait = .5 + 10 * random.random()\n",
    "time.sleep(wait)\n",
    "#print(f'{url[41:]}, {no_prices}, ${COL_sin1}, waited {wait:0.4} sec.')"
   ]
  },
  {
   "cell_type": "code",
   "execution_count": null,
   "id": "411aad28",
   "metadata": {},
   "outputs": [],
   "source": [
    "# Error occurred mid-page if all four not same length -> re-scrape\n",
    "\n",
    "print(len(rent_85m2_expens), len(mobile_wifi_128gb), len(list_COL_sin1), len(list_n_prices))"
   ]
  },
  {
   "cell_type": "code",
   "execution_count": null,
   "id": "b49daaa5",
   "metadata": {},
   "outputs": [],
   "source": [
    "# Concatenate into full COL dataset\n",
    "\n",
    "list_tuples2 = list(zip(rent_85m2_expens,\n",
    "                      rent_85m2_normal,\n",
    "                      rent_45m2_expens,\n",
    "                      rent_45m2_normal,\n",
    "                      eatout_lunch,\n",
    "                      eatout_dinner,\n",
    "                      taxi_5mi,\n",
    "                      gas_liter,\n",
    "                      pubtrans_monthly,\n",
    "                      internet_monthly,\n",
    "                      TV_40in,\n",
    "                      cappuccino,\n",
    "                      mobile_wifi_128gb))\n",
    "\n",
    "list_tuples3 = list(zip(list_COL_sin1,\n",
    "                       list_COL_fam4))\n",
    "\n",
    "list_tuples4 = list(zip(list_n_prices,\n",
    "                      list_n_people))\n",
    "\n",
    "df2 = pd.DataFrame(list_tuples2, columns = list_feature_names)\n",
    "df3 = pd.DataFrame(list_tuples3, columns = ['COL (Family of 4)',\n",
    "                                            'COL (Single of 1)'])\n",
    "df4 = pd.DataFrame(list_tuples4, columns = ['No. Prices',\n",
    "                                            'No. Contributors'])"
   ]
  },
  {
   "cell_type": "code",
   "execution_count": null,
   "id": "5798e99e",
   "metadata": {},
   "outputs": [],
   "source": [
    "# df1_split = df1[1781:].reset_index(drop=True)  #resetting renames\n",
    "# df1_split"
   ]
  },
  {
   "cell_type": "code",
   "execution_count": null,
   "id": "50043074",
   "metadata": {},
   "outputs": [],
   "source": [
    "# check df1 name before joining\n",
    "\n",
    "df_cities_test = pd.concat([df1_split, df2, df3, df4], axis=1, ignore_index=True)\n",
    "df_cities_test"
   ]
  },
  {
   "cell_type": "code",
   "execution_count": null,
   "id": "71f22478",
   "metadata": {},
   "outputs": [],
   "source": [
    "df_cities = pd.concat([df1_split, df2, df3, df4], axis=1, ignore_index=True)\n",
    "# df_allcities = pd.concat([df1, df2, df3, df4], axis=1) # once \n",
    "df_cities.tail(20)"
   ]
  },
  {
   "cell_type": "code",
   "execution_count": null,
   "id": "64b1f99d",
   "metadata": {},
   "outputs": [],
   "source": [
    "# Save your progress to disk!!\n",
    "\n",
    "# df_cities1781_2474 = df_cities.copy()\n",
    "# df_cities1781_2474.to_pickle('df_cities1781_2474')\n",
    "\n",
    "# For quick recovery\n",
    "\n",
    "# df_cities = pd.read_pickle(df_cities981_1780.pkl)"
   ]
  },
  {
   "cell_type": "code",
   "execution_count": null,
   "id": "fae0d00d",
   "metadata": {},
   "outputs": [],
   "source": [
    "print(df_cities000_980.shape,  # last city: Pontianak, Indonesia\n",
    "    df_cities981_1780.shape,   # last city: Sao Tome, ST&P\n",
    "    df_cities1781_2474.shape)  # last city: Zvishavane District, Zimbabwe"
   ]
  },
  {
   "cell_type": "code",
   "execution_count": null,
   "id": "07f42b29",
   "metadata": {},
   "outputs": [],
   "source": [
    "df_allcities"
   ]
  },
  {
   "cell_type": "code",
   "execution_count": null,
   "id": "0b67b041",
   "metadata": {},
   "outputs": [],
   "source": [
    "# Save your work\n",
    "\n",
    "df_allcities.to_pickle('df_allcities')\n",
    "df_allcities.to_csv('allcitiescsvcopy', index=False)\n",
    "\n",
    "# For quick recovery\n",
    "\n",
    "# df_allcities = pd.read_pickle(df_allcities.pkl)\n",
    "# df_allcities = pd.read_csv('allcitiescsvcopy')"
   ]
  }
 ],
 "metadata": {
  "kernelspec": {
   "display_name": "Python [conda env:metis] *",
   "language": "python",
   "name": "conda-env-metis-py"
  },
  "language_info": {
   "codemirror_mode": {
    "name": "ipython",
    "version": 3
   },
   "file_extension": ".py",
   "mimetype": "text/x-python",
   "name": "python",
   "nbconvert_exporter": "python",
   "pygments_lexer": "ipython3",
   "version": "3.8.10"
  }
 },
 "nbformat": 4,
 "nbformat_minor": 5
}
