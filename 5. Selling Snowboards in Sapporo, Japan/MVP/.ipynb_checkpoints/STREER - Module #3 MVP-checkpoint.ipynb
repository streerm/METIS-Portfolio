{
 "cells": [
  {
   "cell_type": "markdown",
   "id": "71534d26",
   "metadata": {},
   "source": [
    "## Module #3 Minimum Viable Product\n",
    "\n",
    "### Mark Streer (DS/ML)"
   ]
  },
  {
   "cell_type": "markdown",
   "id": "35aaf317",
   "metadata": {},
   "source": [
    "### Motivation\n",
    "\n",
    "This project aims to geographically segment residents of Sapporo, Japan based on publicly available demographic data kept by the city's municipal government along with geospatial data collected by the country's Ministry of Internal Affairs and Communication > Statistics Bureau. Physical advertisements such as posters and flyers are widespread in Japanese commerce; business problems related to inefficient advertising and poor product-market fit could be addressed with these data."
   ]
  },
  {
   "cell_type": "markdown",
   "id": "48ec59bf",
   "metadata": {},
   "source": [
    "### Methodology\n",
    "\n",
    "[Data-Smart City Sapporo](https://data.pf-sapporo.jp/) is a website platform maintained by the Sapporo Industrial Promotion Foundation, which hosts a multitude of datasets related to the city compiled by municipal and national authorities. Categories range from demographics such as age and sex ratio, economic measures such as household expenditures and income, and industry-specific metrics such as ledger balances by bank. However, since most data is aggregated at the level of ward (of which Sapporo has only 12), most data were unsuitable for granular analysis.\n",
    "\n",
    "Census district (chōsa-ku: 調査区)-level data are only available on the number of residents (male/female/total) and the number of households registered in each district. Gender ratio and household size were derived as *female divided by male residents*, and *number of residents divided by number of households*, respectively. \n",
    "\n",
    "Geospatial data at this level was downloaded from The Portal Site of Official Statistics of Japan [\"e-Stat.go.jp\")](https://www.e-stat.go.jp/en), a repository maintained by the [National Statistics Center](https://www.nstac.go.jp/en/) under the direction of the Statistics Bureau (Ministry of Internal Affairs and Communication). Since this dataset included the size of each census district, population density was additionally derived as *number of residents divided by number of households*.\n",
    "\n",
    "Data have been related and visualized as chloropleth maps using Tableau software."
   ]
  },
  {
   "cell_type": "markdown",
   "id": "516f80b8",
   "metadata": {},
   "source": [
    "### Results\n",
    "#### Greater household size appears related to greater distance from central Sapporo\n",
    "\n",
    "This finding is hardly surprising: families tend to prefer raising children in suburban settings, while single working-age adults tend to cluster in urban settings for convenience and the wider variety of services and entertainment. Still, the finding is not immaterial:  \n",
    "* Pockets of predominantly single districts in otherwise family-oriented districts may represent customers who are price-conscious, less interested in urban nightlife, or both.\n",
    "* Pockets of family households in central Sapporo may indicate wealthy households better positioned to afford premium goods and services."
   ]
  },
  {
   "cell_type": "markdown",
   "id": "fd64447f",
   "metadata": {},
   "source": [
    "![](householdsize.png)"
   ]
  },
  {
   "cell_type": "markdown",
   "id": "1e306ec7",
   "metadata": {},
   "source": [
    "Orange indicates districts of average household size <= 2.0, assumed to contain higher proportions of single residents or couples. Blue indicates districts of average household size >= 2.0, assumed to contain higher proportions of nuclear and multigenerational families."
   ]
  },
  {
   "cell_type": "markdown",
   "id": "d5d3b732",
   "metadata": {},
   "source": [
    "#### Greater gender imbalances within districts associated with sites of universities as well as dormitories\n",
    "\n",
    "Districts with large gender imbalances in residents tend to be home to university dorms, or adjoin universities. This could be seen especially in the area northeast of Hokkaido University, the prefecture's flagship postsecondary educational institution."
   ]
  },
  {
   "cell_type": "markdown",
   "id": "dab3c873",
   "metadata": {},
   "source": [
    "![](hokudaiheatmap.png)"
   ]
  },
  {
   "cell_type": "markdown",
   "id": "b86faefe",
   "metadata": {},
   "source": [
    "Orange and blue denote male- and female-biased districts, respectively.\n",
    "\n",
    "Full interactive maps with legends are available as [a dashboard via Tableau Public](https://public.tableau.com/app/profile/mark.streer/viz/SapporoCityMap/Dashboard1?publish=yes)."
   ]
  },
  {
   "cell_type": "code",
   "execution_count": null,
   "id": "76f2a62a",
   "metadata": {},
   "outputs": [],
   "source": []
  },
  {
   "cell_type": "code",
   "execution_count": null,
   "id": "672fc9f1",
   "metadata": {},
   "outputs": [],
   "source": []
  },
  {
   "cell_type": "code",
   "execution_count": null,
   "id": "576f12e9",
   "metadata": {},
   "outputs": [],
   "source": []
  }
 ],
 "metadata": {
  "kernelspec": {
   "display_name": "Python 3 (ipykernel)",
   "language": "python",
   "name": "python3"
  },
  "language_info": {
   "codemirror_mode": {
    "name": "ipython",
    "version": 3
   },
   "file_extension": ".py",
   "mimetype": "text/x-python",
   "name": "python",
   "nbconvert_exporter": "python",
   "pygments_lexer": "ipython3",
   "version": "3.8.10"
  }
 },
 "nbformat": 4,
 "nbformat_minor": 5
}
