{
 "cells": [
  {
   "cell_type": "markdown",
   "id": "71534d26",
   "metadata": {},
   "source": [
    "# Final Project Summary\n",
    "## Module #2 (Webscraping & Linear Regression)\n",
    "## Mark Streer (DS/ML)"
   ]
  },
  {
   "cell_type": "markdown",
   "id": "553581cb",
   "metadata": {},
   "source": [
    "### Abstract:\n",
    "\n",
    "This project aims to predict cost of living in cities around the world based on city-level features such as population, location, and climate (Koppen-Geiger classification: KG) - as well as country-level features such as gross domestic product and region - for digital nomads wishing to estimate monthly expenses before relocating. Cost of living was highly predicted by nominal GDP per capita (USD) and subregion at the country level, and weakly by certain climates at the city level: notably, for a family of 4, Mediterranean hot summer climates (KG = Cfa: e.g. Barcelona) were associated with a ~200 USD monthly premium, while warm summer hemiboreal climates (Dfb: e.g. Moscow) were associated with ~300 USD monthly savings (p ~ 0.20). Further work on this model could help to predict changes in prices of goods and services resulting from climate change and human migration."
   ]
  },
  {
   "cell_type": "markdown",
   "id": "c453cc35",
   "metadata": {},
   "source": [
    "### Design:\n",
    "\n",
    "Expatistan is a website hosting crowd-source price data in cities around the world for various goods and services. City was the unit of analysis: after scraping all cities and their URLs [from a summary page](https://www.expatistan.com/cost-of-living/all-cities), I scraped price data from individual city pages with at least 10 contributors (for reliabilibity), yielding 1200+ cities. NaN values were replaced with country means or lacking country data, subregion means. Key price categories included:\n",
    "* Rent: 85m2 duplex / 45m2 studio in expensive/normal part of town;\n",
    "* Food: Typical lunch, dinner for 2\n",
    "* Transportation: Taxi fares (8 km), public transportation pass;\n",
    "* Internet: Mobile data, telecom package.\n",
    "\n",
    "Non-price features were as follows.\n",
    "\n",
    "* City-level features (population, lat/lng, capital): [SimpleMap.com](https://simplemaps.com/data/world-cities)\n",
    "* City-level features (climate): Derived from lat/lng data above; city coordinates were checked against a tabular [Koppen-Geiger classification map](http://koeppen-geiger.vu-wien.ac.at/present.htm) by minimum distance.\n",
    "* Country-level features (GDP per capita (nominal), GDP per capita (PPP), Human Development Index (HDI): Respective Wikipedia pages, \"Region\" and \"Subregion\" taken from associated tables."
   ]
  },
  {
   "cell_type": "markdown",
   "id": "48ec59bf",
   "metadata": {},
   "source": [
    "### Communication\n",
    "\n",
    "Prices of most goods and services scraped from Expatistan were demonstrated to correlate strongly with cost-of-living. In retrospect, this should have been expected, as Expatistan uses its own price data to derive its COL estimates. Given this limited use case (website visitors can obtain COL and goods/services estimates on the same page) and to avoid drowning out other, less-obvious contributors to COL, it was decided not to include price features in the model.\n",
    "\n",
    "One interesting angle, however, is the difference in the strength of the correlations across different price categories. For example, as the single largest monthly line-item in most household budgets, rent is strongly predictive (R > 0.8), while eating out costs are more variable (R > 0.5), and mobile Wi-Fi even more so (R ~ 0.2). In a future study, I would hope to replace COL with each of these price categories and explore the same relationships with city- and country-level features such as climate and subregion."
   ]
  },
  {
   "cell_type": "markdown",
   "id": "9d45ff52",
   "metadata": {},
   "source": [
    "#### Strong collinearity across price features, esp. between rent prices."
   ]
  },
  {
   "cell_type": "markdown",
   "id": "fd64447f",
   "metadata": {},
   "source": [
    "![](pricefeaturecollinearity.png)"
   ]
  },
  {
   "cell_type": "markdown",
   "id": "91e010f4",
   "metadata": {},
   "source": [
    "In the analysis of city- and country-level features, nominal GDP per capita (USD) was the single greatest predictor of cost of living. However, as visible in the chart below, there is considerable variation in cost of living between cities in the same country, meaning travelers in the same country can pay quite different prices depending on their location."
   ]
  },
  {
   "cell_type": "markdown",
   "id": "22f47e5b",
   "metadata": {},
   "source": [
    "#### Nominal GDP per capita (USD) predicts cost-of-living, but with considerable variance within countries"
   ]
  },
  {
   "cell_type": "markdown",
   "id": "4117eae3",
   "metadata": {},
   "source": [
    "![](COL_rent4.png)"
   ]
  },
  {
   "cell_type": "markdown",
   "id": "1540a356",
   "metadata": {},
   "source": [
    "Subregion was the next greatest contributor to cost of living. For example, for a family of 4, South America was associated with monthly savings of nearly 900 USD compared to the worldwide average, while the Caribbean was associated with a 1000+ USD premium. Capital status was also predictive of COL: residents in national capitals (e.g. Paris) pay nearly 400 USD more than average, while residents of regional capitals (e.g. Marseilles) pay roughly 100 USD less (all p<0.01).\n",
    "\n",
    "Climate was not as predictive as expected: the two most predictive categories were \"Mediterranean hot summer\" (Cfa: e.g. Barcelona, Athens, Los Angeles) and \"continental/hemiboreal warm summer\" (Dfb: e.g. Moscow, Helsinki, Quebec), associated with approx. 200 USD premium and 300 USD savings compared with the worldwide average (p ~ 0.20). Preliminary incorporation of climate subtypes (e.g. Cfa -> \"C\": Temperate, \"f\": no dry season, \"a\": hot summer) into the model was no more predictive of cost-of-living, although some subtypes had good predictive value: for example, desert precipitation subtype (-W-) was associated with a premium, perhaps due to the harsher conditions."
   ]
  },
  {
   "cell_type": "code",
   "execution_count": null,
   "id": "46553b82",
   "metadata": {},
   "outputs": [],
   "source": []
  }
 ],
 "metadata": {
  "kernelspec": {
   "display_name": "Python 3 (ipykernel)",
   "language": "python",
   "name": "python3"
  },
  "language_info": {
   "codemirror_mode": {
    "name": "ipython",
    "version": 3
   },
   "file_extension": ".py",
   "mimetype": "text/x-python",
   "name": "python",
   "nbconvert_exporter": "python",
   "pygments_lexer": "ipython3",
   "version": "3.8.10"
  }
 },
 "nbformat": 4,
 "nbformat_minor": 5
}
